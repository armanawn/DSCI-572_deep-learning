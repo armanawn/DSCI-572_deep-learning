{
 "cells": [
  {
   "attachments": {},
   "cell_type": "markdown",
   "metadata": {},
   "source": [
    "<img src=\"img/dsci572_header.png\" width=\"600\">"
   ]
  },
  {
   "attachments": {},
   "cell_type": "markdown",
   "metadata": {},
   "source": [
    "# Lecture 1: Floating-Point Numbers"
   ]
  },
  {
   "attachments": {},
   "cell_type": "markdown",
   "metadata": {},
   "source": [
    "<br><br><br>"
   ]
  },
  {
   "cell_type": "markdown",
   "metadata": {},
   "source": [
    "## Lecture Learning Objectives\n"
   ]
  },
  {
   "attachments": {},
   "cell_type": "markdown",
   "metadata": {},
   "source": [
    "- Compare and contrast the representations of integers and floating-point numbers\n",
    "\n",
    "- Explain how double-precision floating-point numbers are represented by 64 bits\n",
    "- Identify common computational issues caused by floating-point numbers, e.g., rounding, overflow, etc.\n",
    "- Calculate the \"spacing\" of a 64 bit floating-point number in Python\n",
    "- Write code defensively against numerical errors\n",
    "- Use `numpy.iinfo()`/`numpy.finfo()` to work out the possible numerical range of an integer or float dtype"
   ]
  },
  {
   "attachments": {},
   "cell_type": "markdown",
   "metadata": {},
   "source": [
    "<br><br><br>"
   ]
  },
  {
   "cell_type": "markdown",
   "metadata": {},
   "source": [
    "## Imports\n"
   ]
  },
  {
   "cell_type": "code",
   "execution_count": 1,
   "metadata": {},
   "outputs": [],
   "source": [
    "import numpy as np\n",
    "import matplotlib.pyplot as plt\n",
    "from utils.floating_point import *\n",
    "\n",
    "%config InlineBackend.figure_formats = ['svg']\n",
    "plt.rcParams.update({'font.size': 12, 'axes.labelweight': 'bold', 'figure.figsize': (6, 4)})"
   ]
  },
  {
   "attachments": {},
   "cell_type": "markdown",
   "metadata": {},
   "source": [
    "<br><br><br>"
   ]
  },
  {
   "cell_type": "markdown",
   "metadata": {},
   "source": [
    "## Floating Point Errors\n"
   ]
  },
  {
   "attachments": {},
   "cell_type": "markdown",
   "metadata": {},
   "source": [
    "- Unfortunately, computers can not always represent numbers as accurately as some of us might think\n",
    "\n",
    "- The problem boils down to this: we have a finite amount of bits in our computer to store an infinite amount of numbers\n",
    "- This inevitably leads to precision errors as we'll explore in this lecture\n",
    "- Some motivating examples:"
   ]
  },
  {
   "cell_type": "code",
   "execution_count": 2,
   "metadata": {},
   "outputs": [
    {
     "data": {
      "text/plain": [
       "False"
      ]
     },
     "execution_count": 2,
     "metadata": {},
     "output_type": "execute_result"
    }
   ],
   "source": [
    "0.1 + 0.2 == 0.3"
   ]
  },
  {
   "cell_type": "code",
   "execution_count": 3,
   "metadata": {},
   "outputs": [
    {
     "data": {
      "text/plain": [
       "True"
      ]
     },
     "execution_count": 3,
     "metadata": {},
     "output_type": "execute_result"
    }
   ],
   "source": [
    "1e16 + 1 == 1e16"
   ]
  },
  {
   "cell_type": "code",
   "execution_count": 4,
   "metadata": {},
   "outputs": [
    {
     "data": {
      "text/plain": [
       "True"
      ]
     },
     "execution_count": 4,
     "metadata": {},
     "output_type": "execute_result"
    }
   ],
   "source": [
    "1e16 + 0.7 + 0.7  == 1e16"
   ]
  },
  {
   "cell_type": "markdown",
   "metadata": {},
   "source": [
    "- In this lecture, we are going to take a journey to discover why this happens!"
   ]
  },
  {
   "attachments": {},
   "cell_type": "markdown",
   "metadata": {},
   "source": [
    "<br><br><br>"
   ]
  },
  {
   "cell_type": "markdown",
   "metadata": {},
   "source": [
    "## Binary Numbers and Integers\n"
   ]
  },
  {
   "attachments": {},
   "cell_type": "markdown",
   "metadata": {},
   "source": [
    "- We are used to using a base-10 number system (i.e., \"decimal\" or \"denary\")\n",
    "\n",
    "- For example, we can read the number 104 as:\n",
    "    - 1 x 100 ($10^2$)\n",
    "    - 0 x 10 ($10^1$)\n",
    "    - 4 x 1 ($10^0$)"
   ]
  },
  {
   "cell_type": "markdown",
   "metadata": {},
   "source": [
    "- Or in a tabular format:"
   ]
  },
  {
   "cell_type": "markdown",
   "metadata": {},
   "source": [
    "| Unit | $10^2$ | $10^1$ | $10^0$ |\n",
    "|:---|:----|:----|:----|\n",
    "|Value | 100   | 10   |1 |\n",
    "|Number of units|1   |0   |   4|\n",
    "|**Total**|**100**   |**0**   |   **4**|"
   ]
  },
  {
   "attachments": {},
   "cell_type": "markdown",
   "metadata": {},
   "source": [
    "- Many of you will be aware that computers use a base-2 system (i.e., \"binary\") to store data\n",
    "\n",
    "- Binary is based on powers of 2 rather than powers of 10 and we only have two numbers (0 and 1) to work with (think of them as \"off\" and \"on\" switches respectively)\n",
    "- If you're interested in learning more about how computers work under the hood, check out [this excellent Youtube series on computer science by CrashCourse](https://www.youtube.com/playlist?list=PL8dPuuaLjXtNlUrzyH5r6jN9ulIgZBpdo&app=desktop)\n",
    "- In binary, 104 looks like:"
   ]
  },
  {
   "cell_type": "code",
   "execution_count": 5,
   "metadata": {},
   "outputs": [
    {
     "data": {
      "text/plain": [
       "'1101000'"
      ]
     },
     "execution_count": 5,
     "metadata": {},
     "output_type": "execute_result"
    }
   ],
   "source": [
    "f\"{104:b}\"  # I'm using the python f-string format code \"b\" to display my integer in binary"
   ]
  },
  {
   "attachments": {},
   "cell_type": "markdown",
   "metadata": {},
   "source": [
    "We can also directly obtain the binary representation of a number using Python's built-in `bin()` function:"
   ]
  },
  {
   "cell_type": "code",
   "execution_count": 6,
   "metadata": {},
   "outputs": [
    {
     "data": {
      "text/plain": [
       "'0b1101000'"
      ]
     },
     "execution_count": 6,
     "metadata": {},
     "output_type": "execute_result"
    }
   ],
   "source": [
    "bin(104)"
   ]
  },
  {
   "cell_type": "markdown",
   "metadata": {},
   "source": [
    "- So this is:\n",
    "    \n",
    "|Unit|$2^6$ |$2^5$ |$2^4$ |$2^3$ |$2^2$ |$2^1$ |$2^0$ |\n",
    "|:---|:----|:----|:----|:---|:---|:---|:---|\n",
    "|Value|64   |32   |   16|   8|   4|   2| 1|\n",
    "|Number of units|1   |1   |   0|   1|   0|   0| 0|\n",
    "|**Total**|**64**   |**32**   | **0** | **8**| **0**| **0**| **0**|"
   ]
  },
  {
   "attachments": {},
   "cell_type": "markdown",
   "metadata": {},
   "source": [
    "- We call these single binary 0/1 values, **bits**\n",
    "\n",
    "- So we needed 7 bits to represent the number 104\n",
    "- We can confirm using the `.bit_length()` integer method"
   ]
  },
  {
   "cell_type": "code",
   "execution_count": 7,
   "metadata": {},
   "outputs": [
    {
     "data": {
      "text/plain": [
       "7"
      ]
     },
     "execution_count": 7,
     "metadata": {},
     "output_type": "execute_result"
    }
   ],
   "source": [
    "x = 104\n",
    "x.bit_length()"
   ]
  },
  {
   "cell_type": "markdown",
   "metadata": {},
   "source": [
    "- Here are the first 10 positive integers in binary (using 4 bits):"
   ]
  },
  {
   "cell_type": "code",
   "execution_count": 8,
   "metadata": {},
   "outputs": [
    {
     "name": "stdout",
     "output_type": "stream",
     "text": [
      "DECIMAL | BINARY\n",
      "================\n",
      "   00   |  0000\n",
      "   01   |  0001\n",
      "   02   |  0010\n",
      "   03   |  0011\n",
      "   04   |  0100\n",
      "   05   |  0101\n",
      "   06   |  0110\n",
      "   07   |  0111\n",
      "   08   |  1000\n",
      "   09   |  1001\n",
      "   10   |  1010\n"
     ]
    }
   ],
   "source": [
    "print(\"DECIMAL | BINARY\")\n",
    "print(\"================\")\n",
    "for _ in range(11):\n",
    "    print(f\"   {_:02}   |  {_:04b}\")"
   ]
  },
  {
   "cell_type": "markdown",
   "metadata": {},
   "source": [
    "- And a useful GIF counting up in binary to drive the point home:"
   ]
  },
  {
   "cell_type": "markdown",
   "metadata": {},
   "source": [
    "<img src=\"img/binary-denary.gif\" width=\"400\">\n",
    "\n",
    "Source: [futurelearn.com](https://www.futurelearn.com/courses/how-computers-work/0/steps/49261)"
   ]
  },
  {
   "attachments": {},
   "cell_type": "markdown",
   "metadata": {},
   "source": [
    "<br><br><br>"
   ]
  },
  {
   "attachments": {},
   "cell_type": "markdown",
   "metadata": {},
   "source": [
    "- The range of **unsigned integers** we can represent with `N` bits is: 0 to $2^{N}-1$, just like the range of unsigned integers with `N` digits is: 0 to $10^{N}-1$.\n",
    "\n",
    "- The range of **signed integers** you can represent with `N` bits is: $-2^{N-1}$ to $2^{N-1}-1$"
   ]
  },
  {
   "attachments": {},
   "cell_type": "markdown",
   "metadata": {},
   "source": [
    "> **(OPTIONAL)** You don't really need to know this, but it's worth mentioning that:\n",
    ">\n",
    ">The reason for why the range of 8-bit integers is -128 to 127, instead of -127 to 127 is because of a particular way of representing negative numbers in computer hardware (see these Wikipedia links: [1](https://en.wikipedia.org/wiki/Signed_number_representations) and [2](https://en.wikipedia.org/wiki/Method_of_complements)), known as **two's complement** (this is the most widely used system today, but there are also other systems which you can find the Wikipedia article).\n",
    ">\n",
    ">- It is basically a workaround, on the hardware level, to avoid having different methods for addition and subtraction for positive and negative numbers. In decimal, it's like saying 700 - 250 = 450 can be done by writing 700 + 750 = 1450 and then drop the 1, giving 450 (750 is the tens's complement of 250). Put otherwise, **we turned a subtraction operation into an addition by doing this**.\n",
    ">\n",
    ">- There is no negative zero in this system, which is why we get one more number to store for free (1,000,0000 in binary represents -128 in decimal). The more important implication of this is that there's no check needed to see if non-zero values are not just negative zero (e.g., 1000 is non-zero, but would be interpreted as negative zero in a 4-bit digit that uses the sign-and-magnitude system of representing negative numbers)."
   ]
  },
  {
   "attachments": {},
   "cell_type": "markdown",
   "metadata": {},
   "source": [
    "- For example, with 8 bits we can represent the unsigned integers 0 to $2^8 - 1 = 255$, or signed integers from -128 to 127:"
   ]
  },
  {
   "cell_type": "code",
   "execution_count": 9,
   "metadata": {},
   "outputs": [
    {
     "name": "stdout",
     "output_type": "stream",
     "text": [
      "unsigned min: 0\n",
      "unsigned max: 255\n",
      "\n",
      "signed min: -128\n",
      "signed max: 127\n"
     ]
    }
   ],
   "source": [
    "bits = 8\n",
    "print(f\"unsigned min: 0\")\n",
    "print(f\"unsigned max: {2 ** bits - 1}\\n\")\n",
    "print(f\"signed min: {-2 ** (bits - 1)}\")\n",
    "print(f\"signed max: {2 ** (bits - 1) - 1}\")"
   ]
  },
  {
   "cell_type": "markdown",
   "metadata": {},
   "source": [
    "- We can confirm all this with the numpy function `np.iinfo()`:"
   ]
  },
  {
   "cell_type": "code",
   "execution_count": 10,
   "metadata": {},
   "outputs": [
    {
     "data": {
      "text/plain": [
       "iinfo(min=-128, max=127, dtype=int8)"
      ]
     },
     "execution_count": 10,
     "metadata": {},
     "output_type": "execute_result"
    }
   ],
   "source": [
    "np.iinfo(\"int8\")  # use np.iinfo() to check out the limits of a dtype"
   ]
  },
  {
   "cell_type": "code",
   "execution_count": 11,
   "metadata": {},
   "outputs": [
    {
     "data": {
      "text/plain": [
       "iinfo(min=0, max=255, dtype=uint8)"
      ]
     },
     "execution_count": 11,
     "metadata": {},
     "output_type": "execute_result"
    }
   ],
   "source": [
    "np.iinfo(\"uint8\")  # \"uint8\" is an unsigned 8-bit integer, so ranging from 0 to 2^7"
   ]
  },
  {
   "attachments": {},
   "cell_type": "markdown",
   "metadata": {},
   "source": [
    "- Depending on the language/library you're using, you may get an error or some other funky behaviour if you try to store an integer smaller/larger than the allowable"
   ]
  },
  {
   "cell_type": "code",
   "execution_count": 12,
   "metadata": {},
   "outputs": [
    {
     "data": {
      "text/plain": [
       "array([127,   0], dtype=int8)"
      ]
     },
     "execution_count": 12,
     "metadata": {},
     "output_type": "execute_result"
    }
   ],
   "source": [
    "np.array([-129, 256]).astype(\"int8\")  # these numbers are outside the allowable range!"
   ]
  },
  {
   "attachments": {},
   "cell_type": "markdown",
   "metadata": {},
   "source": [
    "<br><br><br>"
   ]
  },
  {
   "attachments": {},
   "cell_type": "markdown",
   "metadata": {},
   "source": [
    "**(OPTIONAL) Reason:**"
   ]
  },
  {
   "attachments": {},
   "cell_type": "markdown",
   "metadata": {},
   "source": [
    "In case of 256, it merely converts it to binary:"
   ]
  },
  {
   "cell_type": "code",
   "execution_count": 13,
   "metadata": {},
   "outputs": [
    {
     "data": {
      "text/plain": [
       "'0b100000000'"
      ]
     },
     "execution_count": 13,
     "metadata": {},
     "output_type": "execute_result"
    }
   ],
   "source": [
    "bin(256)"
   ]
  },
  {
   "attachments": {},
   "cell_type": "markdown",
   "metadata": {},
   "source": [
    "and then forces it to an 8-bit memory location, which means that only the zeros in 100000000 will be retained, and the 9-th digit (the leftmost 1) will be discarded. Therefore, we get zero."
   ]
  },
  {
   "attachments": {},
   "cell_type": "markdown",
   "metadata": {},
   "source": [
    "On the other hand, since -129 is a negative number, NumPy computes the two's complement of 129. To do that:\n",
    "\n",
    "- the first step is to flip 0s to 1s and 1s to 0s in `10000001` (the binary representation of unsigned 129), which gives `01111110`\n",
    "\n",
    "- and then add 1 to the result: `01111110 + 1 = 01111111`. This bit pattern already belongs to another number in that range:"
   ]
  },
  {
   "cell_type": "code",
   "execution_count": 14,
   "metadata": {},
   "outputs": [
    {
     "data": {
      "text/plain": [
       "127"
      ]
     },
     "execution_count": 14,
     "metadata": {},
     "output_type": "execute_result"
    }
   ],
   "source": [
    "int(0b01111111)"
   ]
  },
  {
   "attachments": {},
   "cell_type": "markdown",
   "metadata": {},
   "source": [
    "This image below, which shows the 2's complement circle in case of a 4-bit digit ([source](https://davidalbertoadler.com/assets/img/twos-complement.png)), makes this process more clear:\n",
    "\n",
    "<img src=\"https://davidalbertoadler.com/assets/img/twos-complement.png\" width=\"300\">"
   ]
  },
  {
   "attachments": {},
   "cell_type": "markdown",
   "metadata": {},
   "source": [
    "<br><br><br>"
   ]
  },
  {
   "attachments": {},
   "cell_type": "markdown",
   "metadata": {},
   "source": [
    "- To store the example values above, we need more bits in the memory\n",
    "- For example, 16 bits will be more than enough:"
   ]
  },
  {
   "cell_type": "code",
   "execution_count": 15,
   "metadata": {},
   "outputs": [
    {
     "data": {
      "text/plain": [
       "array([-129,  128], dtype=int16)"
      ]
     },
     "execution_count": 15,
     "metadata": {},
     "output_type": "execute_result"
    }
   ],
   "source": [
    "np.array([-129, 128]).astype(\"int16\")"
   ]
  },
  {
   "cell_type": "markdown",
   "metadata": {},
   "source": [
    "- You often see bits in multiples of 8 (e.g., 8, 16, 32, 64, etc)\n",
    "- 8 bits is traditionally called 1 \"byte\""
   ]
  },
  {
   "attachments": {},
   "cell_type": "markdown",
   "metadata": {},
   "source": [
    "**Note:** Python does not restrict the number of bits for storing an integer. It can dynamically allocate more memory to store your integer if needed."
   ]
  },
  {
   "cell_type": "code",
   "execution_count": 16,
   "metadata": {},
   "outputs": [
    {
     "data": {
      "text/plain": [
       "1267650600228229401496703205376"
      ]
     },
     "execution_count": 16,
     "metadata": {},
     "output_type": "execute_result"
    }
   ],
   "source": [
    "x = 2 ** 100\n",
    "x"
   ]
  },
  {
   "cell_type": "code",
   "execution_count": 17,
   "metadata": {},
   "outputs": [
    {
     "data": {
      "text/plain": [
       "101"
      ]
     },
     "execution_count": 17,
     "metadata": {},
     "output_type": "execute_result"
    }
   ],
   "source": [
    "x.bit_length()"
   ]
  },
  {
   "attachments": {},
   "cell_type": "markdown",
   "metadata": {},
   "source": [
    "<br><br><br>"
   ]
  },
  {
   "cell_type": "markdown",
   "metadata": {},
   "source": [
    "## Fractional Numbers in Binary\n"
   ]
  },
  {
   "attachments": {},
   "cell_type": "markdown",
   "metadata": {},
   "source": [
    "- At this point you might be thinking, \"Well that's all well and good for integers, but what about fractional numbers like 14.75?\"\n",
    "\n",
    "- Let's interpret the number 14.75 in our familiar decimal format"
   ]
  },
  {
   "cell_type": "markdown",
   "metadata": {},
   "source": [
    "|Unit| $10^1$ |$10^0$ | $10^{-1}$ | $10^{-2}$ |\n",
    "|:---|:----|:----|:----|:---|\n",
    "|Value|10   |1   |   0.1|   0.01|\n",
    "|Number of units|1   |4   |   7|   5|\n",
    "|**Total**|**10**   |**4**  |   **0.7**|  **0.05**|"
   ]
  },
  {
   "cell_type": "markdown",
   "metadata": {},
   "source": [
    "- That seems pretty natural, and in binary it's much the same\n",
    "\n",
    "- Anything to the right of the decimal point (now called a \"binary point\") is treated with a **negative exponent**\n",
    "- So in binary, 14.75 would look like this: 1110.11"
   ]
  },
  {
   "attachments": {},
   "cell_type": "markdown",
   "metadata": {},
   "source": [
    "- Let's break that down:"
   ]
  },
  {
   "cell_type": "markdown",
   "metadata": {},
   "source": [
    "|Unit|$2^3$ |$2^2$ |$2^1$ |$2^0$ |$2^{-1}$ |$2^{-2}$ |\n",
    "|:---|:----|:----|:----|:---|:---|:---|\n",
    "|Value|8   |4   |   2|   1|   0.5|   0.25|\n",
    "|Number of units|1   |1   |   1|   0|   1|   1|\n",
    "|**Total**|**8**   |**4**   | **2** | **0**| **0.5**| **0.25**|"
   ]
  },
  {
   "attachments": {},
   "cell_type": "markdown",
   "metadata": {},
   "source": [
    "<br><br><br>"
   ]
  },
  {
   "cell_type": "markdown",
   "metadata": {},
   "source": [
    "## Fixed Point Numbers\n"
   ]
  },
  {
   "attachments": {},
   "cell_type": "markdown",
   "metadata": {},
   "source": [
    "- As we learned earlier, we typically have a fixed number of bits to work with when storing a number, e.g., 8, 16, 32, 64 bits etc.\n",
    "\n",
    "- How do we decide where to put the binary point to allow for fractional numbers?\n",
    "- With 8 bits, one option is to put **4 bits on the left and 4 on the right**:"
   ]
  },
  {
   "attachments": {},
   "cell_type": "markdown",
   "metadata": {},
   "source": [
    "|Unit|$2^{3}$ |$2^{2}$ |$2^{1}$ |$2^{0}$ |$2^{-1}$|$2^{-2}$|$2^{-3}$|$2^{-4}$|\n",
    "|---|----|----|---|---|---|---|---|---|\n",
    "|Value|8   |   4|   2|   1|   0.5|   0.25|   0.125|   0.0625|"
   ]
  },
  {
   "cell_type": "markdown",
   "metadata": {},
   "source": [
    "- In this case, the largest and smallest (closest to 0) numbers we could represent in the unsigned case are:"
   ]
  },
  {
   "cell_type": "code",
   "execution_count": 18,
   "metadata": {},
   "outputs": [
    {
     "data": {
      "text/plain": [
       "15.9375"
      ]
     },
     "execution_count": 18,
     "metadata": {},
     "output_type": "execute_result"
    }
   ],
   "source": [
    "(2.0**np.arange(-4, 4, 1)).sum()"
   ]
  },
  {
   "cell_type": "code",
   "execution_count": 19,
   "metadata": {},
   "outputs": [
    {
     "data": {
      "text/plain": [
       "0.0625"
      ]
     },
     "execution_count": 19,
     "metadata": {},
     "output_type": "execute_result"
    }
   ],
   "source": [
    "2 ** -4"
   ]
  },
  {
   "attachments": {},
   "cell_type": "markdown",
   "metadata": {},
   "source": [
    "- But what if we wanted to represent numbers larger than this?\n",
    "\n",
    "- We could shift the binary point right, so we have 6 on the left and 2 on the right, then our range would be:"
   ]
  },
  {
   "cell_type": "code",
   "execution_count": 20,
   "metadata": {},
   "outputs": [
    {
     "data": {
      "text/plain": [
       "63.75"
      ]
     },
     "execution_count": 20,
     "metadata": {},
     "output_type": "execute_result"
    }
   ],
   "source": [
    "(2.0 ** np.arange(-2, 6, 1)).sum()"
   ]
  },
  {
   "cell_type": "code",
   "execution_count": 21,
   "metadata": {},
   "outputs": [
    {
     "data": {
      "text/plain": [
       "0.25"
      ]
     },
     "execution_count": 21,
     "metadata": {},
     "output_type": "execute_result"
    }
   ],
   "source": [
    "2 ** -2"
   ]
  },
  {
   "attachments": {},
   "cell_type": "markdown",
   "metadata": {},
   "source": [
    "- We get this trade-off between being able to represent large numbers and small numbers\n",
    "\n",
    "- What if we want to represent both very large and very small numbers?"
   ]
  },
  {
   "attachments": {},
   "cell_type": "markdown",
   "metadata": {},
   "source": [
    "<br><br><br>"
   ]
  },
  {
   "attachments": {},
   "cell_type": "markdown",
   "metadata": {},
   "source": [
    "## Floating-point numbers\n"
   ]
  },
  {
   "attachments": {},
   "cell_type": "markdown",
   "metadata": {},
   "source": [
    "- Rather than having a fixed location for our binary point, we could let it \"float\" around depending on what number we want to store\n",
    "\n",
    "- Recall \"scientific notation\", which for the number 1234 looks like $1.234 \\times 10^3$, or for computers we usually use `e` for shorthand:"
   ]
  },
  {
   "cell_type": "code",
   "execution_count": 22,
   "metadata": {},
   "outputs": [
    {
     "data": {
      "text/plain": [
       "'1.234e+03'"
      ]
     },
     "execution_count": 22,
     "metadata": {},
     "output_type": "execute_result"
    }
   ],
   "source": [
    "f\"{1234:.3e}\""
   ]
  },
  {
   "attachments": {},
   "cell_type": "markdown",
   "metadata": {},
   "source": [
    "- The \"exponent\" controls the location of the decimal point\n",
    "\n",
    "- Consider the following numbers:\n",
    "    - $1.234 \\times 10^0 = 1.234$\n",
    "    \n",
    "    - $1.234 \\times 10^1 = 12.34$\n",
    "    - $1.234 \\times 10^2 = 123.4$\n",
    "    - $1.234 \\times 10^3 = 1234.$"
   ]
  },
  {
   "attachments": {},
   "cell_type": "markdown",
   "metadata": {},
   "source": [
    "<br><br><br>"
   ]
  },
  {
   "attachments": {},
   "cell_type": "markdown",
   "metadata": {},
   "source": [
    "- See how by changing the value of the exponent we can control the location of the floating point and represent a range of values?\n",
    "\n",
    "- We'll be using the exact same logic with the binary system to come up with our \"floating-point numbers\"\n",
    "\n",
    "- This means that **instead of powers of 10, we want to express numbers in powers of 2**\n",
    "\n",
    "- This is floating point format:\n",
    "\n",
    "$$1.\\underbrace{M}_\\text{Mantissa} \\times \\underbrace{2^E}_\\text{Exponent}$$\n",
    "\n",
    "- $M$ = Mantissa\n",
    "\n",
    "- $E$ = Exponent\n",
    "\n",
    "- In binary, $1.M$ is always between 1 and 2, just like in decimal the significand is always between 1 and 10 (if it's bigger than that you simply add 1 to the powers of 2 or 10)"
   ]
  },
  {
   "attachments": {},
   "cell_type": "markdown",
   "metadata": {},
   "source": [
    "<br><br><br>"
   ]
  },
  {
   "attachments": {},
   "cell_type": "markdown",
   "metadata": {},
   "source": [
    "- Consider the number 10\n",
    "\n",
    "- $10 = 1.25 \\times 2^3$\n",
    "- So $M=.25$ and $E=3$\n",
    "- But we want binary, not decimal, so $M=01$ and $E=11$\n",
    "- Therefore, 10 in floating point binary is: $1.01 \\times 2^{11}$\n",
    "\n",
    "  - Note that the $.$ is a **\"binary point\"** (or more generally the _radix point_), digits on the left are 2's with positive exponents, digits on the right are 2's with negative exponents\n"
   ]
  },
  {
   "attachments": {},
   "cell_type": "markdown",
   "metadata": {},
   "source": [
    "- This is where the magic happens, just as the exponent of 10 in scientific notation defines the location of the decimal point, so does the exponent of a floating-point number define the location of the binary point\n",
    "\n",
    "- For $1.01 \\times 2^{11}$, the exponent is 11 in binary and 3 in decimal, so move the binary point three places to the right: $1.01 \\times 2^{11} = 1010.$\n",
    "- What is 1010 in binary?"
   ]
  },
  {
   "cell_type": "code",
   "execution_count": 23,
   "metadata": {},
   "outputs": [
    {
     "data": {
      "text/plain": [
       "10"
      ]
     },
     "execution_count": 23,
     "metadata": {},
     "output_type": "execute_result"
    }
   ],
   "source": [
    "int(0b1010)"
   ]
  },
  {
   "attachments": {},
   "cell_type": "markdown",
   "metadata": {},
   "source": [
    "- We now have this \"floating-point\" data type that uses an exponent to help us represent both small and large fractional numbers (unlike fixed point where we would have to choose one or the other)\n",
    "\n",
    "- I wrote a function `binary()` to display any number in floating point format:"
   ]
  },
  {
   "cell_type": "code",
   "execution_count": 24,
   "metadata": {},
   "outputs": [
    {
     "name": "stdout",
     "output_type": "stream",
     "text": [
      " Decimal: 1.25 x 2^3\n",
      "  Binary: 1.01 x 2^11\n",
      "\n",
      "    Sign: 0 (+)\n",
      "Mantissa: 01 (0.25)\n",
      "Exponent: 11 (3)\n"
     ]
    }
   ],
   "source": [
    "binary(10)"
   ]
  },
  {
   "cell_type": "markdown",
   "metadata": {},
   "source": [
    "- Let's try the speed of light: $2.998 \\times 10 ^ 8 m/s$"
   ]
  },
  {
   "cell_type": "code",
   "execution_count": 25,
   "metadata": {},
   "outputs": [
    {
     "name": "stdout",
     "output_type": "stream",
     "text": [
      " Decimal: 1.11684203147888184 x 2^28\n",
      "  Binary: 1.0001110111101001010111 x 2^11100\n",
      "\n",
      "    Sign: 0 (+)\n",
      "Mantissa: 0001110111101001010111 (0.11684203147888184)\n",
      "Exponent: 11100 (28)\n"
     ]
    }
   ],
   "source": [
    "binary(2.998e8)"
   ]
  },
  {
   "cell_type": "markdown",
   "metadata": {},
   "source": [
    "- A mole: $6.02214076 \\times 10^{23}$ particles"
   ]
  },
  {
   "cell_type": "code",
   "execution_count": 26,
   "metadata": {},
   "outputs": [
    {
     "name": "stdout",
     "output_type": "stream",
     "text": [
      " Decimal: 1.9925592330949422 x 2^78\n",
      "  Binary: 1.1111111000011000010111001010010101111100010100010111 x 2^1001110\n",
      "\n",
      "    Sign: 0 (+)\n",
      "Mantissa: 1111111000011000010111001010010101111100010100010111 (0.9925592330949422)\n",
      "Exponent: 1001110 (78)\n"
     ]
    }
   ],
   "source": [
    "binary(6.02214076e23)"
   ]
  },
  {
   "attachments": {},
   "cell_type": "markdown",
   "metadata": {},
   "source": [
    "- Planck's constant: $6.62607004 \\times 10^{-34} \\left[m^2 kg / s\\right]$"
   ]
  },
  {
   "cell_type": "code",
   "execution_count": 27,
   "metadata": {},
   "outputs": [
    {
     "name": "stdout",
     "output_type": "stream",
     "text": [
      " Decimal: 1.720226132656187 x 2^-111\n",
      "  Binary: 1.1011100001100000101111010110010101111011100111100001 x 2^-1101111\n",
      "\n",
      "    Sign: 0 (+)\n",
      "Mantissa: 1011100001100000101111010110010101111011100111100001 (0.720226132656187)\n",
      "Exponent: -1101111 (-111)\n"
     ]
    }
   ],
   "source": [
    "binary(6.62607004e-34)"
   ]
  },
  {
   "cell_type": "markdown",
   "metadata": {},
   "source": [
    "- You get the point, we can represent a wide range of numbers with this format."
   ]
  },
  {
   "attachments": {},
   "cell_type": "markdown",
   "metadata": {},
   "source": [
    "<br><br><br>"
   ]
  },
  {
   "cell_type": "markdown",
   "metadata": {},
   "source": [
    "### Floating Point Standard"
   ]
  },
  {
   "attachments": {},
   "cell_type": "markdown",
   "metadata": {},
   "source": [
    "- One question you might have about the above: how many bits should I use for the mantissa and how many for the exponent?\n",
    "\n",
    "- Well that's already been decided for you in: IEEE Standard for Floating-Point Arithmetic ([IEEE 754](https://en.wikipedia.org/wiki/IEEE_754)) which is what most computers/software use\n",
    "- You'll mostly be using the data types `float64` and `float32`\n",
    "\n",
    "- **Float 64** (also called \"double precision\")\n",
    "\n",
    "  - 1 bit for the overall sign\n",
    "  - 52 bits for the mantissa ([plus 1 implied bit](https://stackoverflow.com/a/18409644))\n",
    "  - 11 bits for the exponent\n",
    "  \n",
    "<img src=\"img/float64.png\" width=\"600\">\n",
    "\n",
    "[image source](https://upload.wikimedia.org/wikipedia/commons/thumb/a/a9/IEEE_754_Double_Floating_Point_Format.svg/1236px-IEEE_754_Double_Floating_Point_Format.svg.png)\n",
    "\n",
    "- **Float 32** (also called \"single precision\")\n",
    "\n",
    "  - 1 bit for the overall sign\n",
    "  - 23 bits for the mantissa (plus 1 implied bit)\n",
    "  - 8 bits for the exponent\n",
    "\n",
    "<img src=\"img/float32.png\" width=\"600\">\n",
    "\n",
    "[image source](https://upload.wikimedia.org/wikipedia/commons/thumb/d/d2/Float_example.svg/1180px-Float_example.svg.png)"
   ]
  },
  {
   "attachments": {},
   "cell_type": "markdown",
   "metadata": {},
   "source": [
    "<br><br><br>"
   ]
  },
  {
   "attachments": {},
   "cell_type": "markdown",
   "metadata": {},
   "source": [
    "## Rounding Errors and Spacing\n"
   ]
  },
  {
   "attachments": {},
   "cell_type": "markdown",
   "metadata": {},
   "source": [
    "### Rounding Errors"
   ]
  },
  {
   "attachments": {},
   "cell_type": "markdown",
   "metadata": {},
   "source": [
    "- Many fractional numbers can't be represented exactly using binary\n",
    "\n",
    "- **Instead, your computer will round numbers to the closest representable number and we get rounding errors**\n",
    "- For example, 0.1 can't be exactly represented in binary (feel free to try and make 0.1 using binary floating point format).\n",
    "- Python usually hides this fact for us out of convenience:"
   ]
  },
  {
   "cell_type": "code",
   "execution_count": 28,
   "metadata": {},
   "outputs": [
    {
     "data": {
      "text/plain": [
       "0.1"
      ]
     },
     "execution_count": 28,
     "metadata": {},
     "output_type": "execute_result"
    }
   ],
   "source": [
    "0.1"
   ]
  },
  {
   "attachments": {},
   "cell_type": "markdown",
   "metadata": {},
   "source": [
    "but here is what's stored in the memory as 0.1:"
   ]
  },
  {
   "cell_type": "code",
   "execution_count": 29,
   "metadata": {},
   "outputs": [
    {
     "data": {
      "text/plain": [
       "'0.1000000000000000055511151231257827021181583404541015625000000000000000000000000000000000000000000000'"
      ]
     },
     "execution_count": 29,
     "metadata": {},
     "output_type": "execute_result"
    }
   ],
   "source": [
    "f\"{0.1:.100f}\""
   ]
  },
  {
   "attachments": {},
   "cell_type": "markdown",
   "metadata": {},
   "source": [
    "- So 0.1 is actually represented as a number slightly bigger than 0.1\n",
    "\n",
    "- I wrote a function to work out if a number is stored exactly or inexactly, and to show the rounding error:"
   ]
  },
  {
   "cell_type": "code",
   "execution_count": 30,
   "metadata": {},
   "outputs": [
    {
     "name": "stdout",
     "output_type": "stream",
     "text": [
      "You entered: 0.1\n",
      "Which is inexactly stored as: 0.1000000000000000055511151231257827021181583404541015625\n"
     ]
    }
   ],
   "source": [
    "float_rep(0.1)"
   ]
  },
  {
   "cell_type": "code",
   "execution_count": 31,
   "metadata": {},
   "outputs": [
    {
     "name": "stdout",
     "output_type": "stream",
     "text": [
      "You entered: 0.25\n",
      "Which is exactly stored as: 0.25\n"
     ]
    }
   ],
   "source": [
    "float_rep(0.25)"
   ]
  },
  {
   "cell_type": "markdown",
   "metadata": {},
   "source": [
    "- Read more about float representation in the Python docs [here](https://docs.python.org/3/tutorial/floatingpoint.html)."
   ]
  },
  {
   "attachments": {},
   "cell_type": "markdown",
   "metadata": {},
   "source": [
    "<br><br><br>"
   ]
  },
  {
   "attachments": {},
   "cell_type": "markdown",
   "metadata": {},
   "source": [
    "### Spacing"
   ]
  },
  {
   "attachments": {},
   "cell_type": "markdown",
   "metadata": {},
   "source": [
    "- So how bad are these rounding errors? Let's find out...\n",
    "\n",
    "- We can quantify the \"spacing\" between representable numbers\n",
    "- Imagine we're in the decimal system again:\n",
    "  - **For a number with a fixed number of significant digits**, the spacing between that number and the next greater number can be determined as the smallest significant digit multiplied by the exponent:"
   ]
  },
  {
   "attachments": {},
   "cell_type": "markdown",
   "metadata": {},
   "source": [
    "|Number| Next greater| Spacing|\n",
    "|---|---|---|\n",
    "|8.982e0| 8.983e0 | 0.001e0 = 0.001|\n",
    "|0.001e1| 0.002e1 | 0.001e1 = 0.01|\n",
    "|3.423e2| 3.424e2 | 0.001e2 = 0.1|"
   ]
  },
  {
   "attachments": {},
   "cell_type": "markdown",
   "metadata": {},
   "source": [
    "- The spacing can be determined as **the smallest part of the mantissa multiplied by a number's exponent**\n",
    "\n",
    "- The same goes for binary. The steps happen at every power of 2 instead of 10, and we have way more digits after the decimal (52 instead of 3), but everything else is pretty much the same.\n",
    "- So the spacing size, as a function of the number itself, is a staircase function:"
   ]
  },
  {
   "cell_type": "code",
   "execution_count": 32,
   "metadata": {},
   "outputs": [
    {
     "data": {
      "image/svg+xml": "<?xml version=\"1.0\" encoding=\"utf-8\" standalone=\"no\"?>\n<!DOCTYPE svg PUBLIC \"-//W3C//DTD SVG 1.1//EN\"\n  \"http://www.w3.org/Graphics/SVG/1.1/DTD/svg11.dtd\">\n<svg xmlns:xlink=\"http://www.w3.org/1999/xlink\" width=\"390.949318pt\" height=\"282.505625pt\" viewBox=\"0 0 390.949318 282.505625\" xmlns=\"http://www.w3.org/2000/svg\" version=\"1.1\">\n <metadata>\n  <rdf:RDF xmlns:dc=\"http://purl.org/dc/elements/1.1/\" xmlns:cc=\"http://creativecommons.org/ns#\" xmlns:rdf=\"http://www.w3.org/1999/02/22-rdf-syntax-ns#\">\n   <cc:Work>\n    <dc:type rdf:resource=\"http://purl.org/dc/dcmitype/StillImage\"/>\n    <dc:date>2023-01-28T19:16:07.477225</dc:date>\n    <dc:format>image/svg+xml</dc:format>\n    <dc:creator>\n     <cc:Agent>\n      <dc:title>Matplotlib v3.6.3, https://matplotlib.org/</dc:title>\n     </cc:Agent>\n    </dc:creator>\n   </cc:Work>\n  </rdf:RDF>\n </metadata>\n <defs>\n  <style type=\"text/css\">*{stroke-linejoin: round; stroke-linecap: butt}</style>\n </defs>\n <g id=\"figure_1\">\n  <g id=\"patch_1\">\n   <path d=\"M 0 282.505625 \nL 390.949318 282.505625 \nL 390.949318 0 \nL 0 0 \nz\n\" style=\"fill: #ffffff\"/>\n  </g>\n  <g id=\"axes_1\">\n   <g id=\"patch_2\">\n    <path d=\"M 48.8975 241.078125 \nL 383.6975 241.078125 \nL 383.6975 19.318125 \nL 48.8975 19.318125 \nz\n\" style=\"fill: #ffffff\"/>\n   </g>\n   <g id=\"matplotlib.axis_1\">\n    <g id=\"xtick_1\">\n     <g id=\"line2d_1\">\n      <defs>\n       <path id=\"mda5f8448bd\" d=\"M 0 0 \nL 0 3.5 \n\" style=\"stroke: #000000; stroke-width: 0.8\"/>\n      </defs>\n      <g>\n       <use xlink:href=\"#mda5f8448bd\" x=\"63.811014\" y=\"241.078125\" style=\"stroke: #000000; stroke-width: 0.8\"/>\n      </g>\n     </g>\n     <g id=\"text_1\">\n      <!-- 0 -->\n      <g transform=\"translate(59.993514 257.19625) scale(0.12 -0.12)\">\n       <defs>\n        <path id=\"DejaVuSans-30\" d=\"M 2034 4250 \nQ 1547 4250 1301 3770 \nQ 1056 3291 1056 2328 \nQ 1056 1369 1301 889 \nQ 1547 409 2034 409 \nQ 2525 409 2770 889 \nQ 3016 1369 3016 2328 \nQ 3016 3291 2770 3770 \nQ 2525 4250 2034 4250 \nz\nM 2034 4750 \nQ 2819 4750 3233 4129 \nQ 3647 3509 3647 2328 \nQ 3647 1150 3233 529 \nQ 2819 -91 2034 -91 \nQ 1250 -91 836 529 \nQ 422 1150 422 2328 \nQ 422 3509 836 4129 \nQ 1250 4750 2034 4750 \nz\n\" transform=\"scale(0.015625)\"/>\n       </defs>\n       <use xlink:href=\"#DejaVuSans-30\"/>\n      </g>\n     </g>\n    </g>\n    <g id=\"xtick_2\">\n     <g id=\"line2d_2\">\n      <g>\n       <use xlink:href=\"#mda5f8448bd\" x=\"124.744674\" y=\"241.078125\" style=\"stroke: #000000; stroke-width: 0.8\"/>\n      </g>\n     </g>\n     <g id=\"text_2\">\n      <!-- 200 -->\n      <g transform=\"translate(113.292174 257.19625) scale(0.12 -0.12)\">\n       <defs>\n        <path id=\"DejaVuSans-32\" d=\"M 1228 531 \nL 3431 531 \nL 3431 0 \nL 469 0 \nL 469 531 \nQ 828 903 1448 1529 \nQ 2069 2156 2228 2338 \nQ 2531 2678 2651 2914 \nQ 2772 3150 2772 3378 \nQ 2772 3750 2511 3984 \nQ 2250 4219 1831 4219 \nQ 1534 4219 1204 4116 \nQ 875 4013 500 3803 \nL 500 4441 \nQ 881 4594 1212 4672 \nQ 1544 4750 1819 4750 \nQ 2544 4750 2975 4387 \nQ 3406 4025 3406 3419 \nQ 3406 3131 3298 2873 \nQ 3191 2616 2906 2266 \nQ 2828 2175 2409 1742 \nQ 1991 1309 1228 531 \nz\n\" transform=\"scale(0.015625)\"/>\n       </defs>\n       <use xlink:href=\"#DejaVuSans-32\"/>\n       <use xlink:href=\"#DejaVuSans-30\" x=\"63.623047\"/>\n       <use xlink:href=\"#DejaVuSans-30\" x=\"127.246094\"/>\n      </g>\n     </g>\n    </g>\n    <g id=\"xtick_3\">\n     <g id=\"line2d_3\">\n      <g>\n       <use xlink:href=\"#mda5f8448bd\" x=\"185.678335\" y=\"241.078125\" style=\"stroke: #000000; stroke-width: 0.8\"/>\n      </g>\n     </g>\n     <g id=\"text_3\">\n      <!-- 400 -->\n      <g transform=\"translate(174.225835 257.19625) scale(0.12 -0.12)\">\n       <defs>\n        <path id=\"DejaVuSans-34\" d=\"M 2419 4116 \nL 825 1625 \nL 2419 1625 \nL 2419 4116 \nz\nM 2253 4666 \nL 3047 4666 \nL 3047 1625 \nL 3713 1625 \nL 3713 1100 \nL 3047 1100 \nL 3047 0 \nL 2419 0 \nL 2419 1100 \nL 313 1100 \nL 313 1709 \nL 2253 4666 \nz\n\" transform=\"scale(0.015625)\"/>\n       </defs>\n       <use xlink:href=\"#DejaVuSans-34\"/>\n       <use xlink:href=\"#DejaVuSans-30\" x=\"63.623047\"/>\n       <use xlink:href=\"#DejaVuSans-30\" x=\"127.246094\"/>\n      </g>\n     </g>\n    </g>\n    <g id=\"xtick_4\">\n     <g id=\"line2d_4\">\n      <g>\n       <use xlink:href=\"#mda5f8448bd\" x=\"246.611996\" y=\"241.078125\" style=\"stroke: #000000; stroke-width: 0.8\"/>\n      </g>\n     </g>\n     <g id=\"text_4\">\n      <!-- 600 -->\n      <g transform=\"translate(235.159496 257.19625) scale(0.12 -0.12)\">\n       <defs>\n        <path id=\"DejaVuSans-36\" d=\"M 2113 2584 \nQ 1688 2584 1439 2293 \nQ 1191 2003 1191 1497 \nQ 1191 994 1439 701 \nQ 1688 409 2113 409 \nQ 2538 409 2786 701 \nQ 3034 994 3034 1497 \nQ 3034 2003 2786 2293 \nQ 2538 2584 2113 2584 \nz\nM 3366 4563 \nL 3366 3988 \nQ 3128 4100 2886 4159 \nQ 2644 4219 2406 4219 \nQ 1781 4219 1451 3797 \nQ 1122 3375 1075 2522 \nQ 1259 2794 1537 2939 \nQ 1816 3084 2150 3084 \nQ 2853 3084 3261 2657 \nQ 3669 2231 3669 1497 \nQ 3669 778 3244 343 \nQ 2819 -91 2113 -91 \nQ 1303 -91 875 529 \nQ 447 1150 447 2328 \nQ 447 3434 972 4092 \nQ 1497 4750 2381 4750 \nQ 2619 4750 2861 4703 \nQ 3103 4656 3366 4563 \nz\n\" transform=\"scale(0.015625)\"/>\n       </defs>\n       <use xlink:href=\"#DejaVuSans-36\"/>\n       <use xlink:href=\"#DejaVuSans-30\" x=\"63.623047\"/>\n       <use xlink:href=\"#DejaVuSans-30\" x=\"127.246094\"/>\n      </g>\n     </g>\n    </g>\n    <g id=\"xtick_5\">\n     <g id=\"line2d_5\">\n      <g>\n       <use xlink:href=\"#mda5f8448bd\" x=\"307.545657\" y=\"241.078125\" style=\"stroke: #000000; stroke-width: 0.8\"/>\n      </g>\n     </g>\n     <g id=\"text_5\">\n      <!-- 800 -->\n      <g transform=\"translate(296.093157 257.19625) scale(0.12 -0.12)\">\n       <defs>\n        <path id=\"DejaVuSans-38\" d=\"M 2034 2216 \nQ 1584 2216 1326 1975 \nQ 1069 1734 1069 1313 \nQ 1069 891 1326 650 \nQ 1584 409 2034 409 \nQ 2484 409 2743 651 \nQ 3003 894 3003 1313 \nQ 3003 1734 2745 1975 \nQ 2488 2216 2034 2216 \nz\nM 1403 2484 \nQ 997 2584 770 2862 \nQ 544 3141 544 3541 \nQ 544 4100 942 4425 \nQ 1341 4750 2034 4750 \nQ 2731 4750 3128 4425 \nQ 3525 4100 3525 3541 \nQ 3525 3141 3298 2862 \nQ 3072 2584 2669 2484 \nQ 3125 2378 3379 2068 \nQ 3634 1759 3634 1313 \nQ 3634 634 3220 271 \nQ 2806 -91 2034 -91 \nQ 1263 -91 848 271 \nQ 434 634 434 1313 \nQ 434 1759 690 2068 \nQ 947 2378 1403 2484 \nz\nM 1172 3481 \nQ 1172 3119 1398 2916 \nQ 1625 2713 2034 2713 \nQ 2441 2713 2670 2916 \nQ 2900 3119 2900 3481 \nQ 2900 3844 2670 4047 \nQ 2441 4250 2034 4250 \nQ 1625 4250 1398 4047 \nQ 1172 3844 1172 3481 \nz\n\" transform=\"scale(0.015625)\"/>\n       </defs>\n       <use xlink:href=\"#DejaVuSans-38\"/>\n       <use xlink:href=\"#DejaVuSans-30\" x=\"63.623047\"/>\n       <use xlink:href=\"#DejaVuSans-30\" x=\"127.246094\"/>\n      </g>\n     </g>\n    </g>\n    <g id=\"xtick_6\">\n     <g id=\"line2d_6\">\n      <g>\n       <use xlink:href=\"#mda5f8448bd\" x=\"368.479318\" y=\"241.078125\" style=\"stroke: #000000; stroke-width: 0.8\"/>\n      </g>\n     </g>\n     <g id=\"text_6\">\n      <!-- 1000 -->\n      <g transform=\"translate(353.209318 257.19625) scale(0.12 -0.12)\">\n       <defs>\n        <path id=\"DejaVuSans-31\" d=\"M 794 531 \nL 1825 531 \nL 1825 4091 \nL 703 3866 \nL 703 4441 \nL 1819 4666 \nL 2450 4666 \nL 2450 531 \nL 3481 531 \nL 3481 0 \nL 794 0 \nL 794 531 \nz\n\" transform=\"scale(0.015625)\"/>\n       </defs>\n       <use xlink:href=\"#DejaVuSans-31\"/>\n       <use xlink:href=\"#DejaVuSans-30\" x=\"63.623047\"/>\n       <use xlink:href=\"#DejaVuSans-30\" x=\"127.246094\"/>\n       <use xlink:href=\"#DejaVuSans-30\" x=\"190.869141\"/>\n      </g>\n     </g>\n    </g>\n    <g id=\"text_7\">\n     <!-- Number itself -->\n     <g transform=\"translate(170.10875 272.81) scale(0.12 -0.12)\">\n      <defs>\n       <path id=\"DejaVuSans-Bold-4e\" d=\"M 588 4666 \nL 1931 4666 \nL 3628 1466 \nL 3628 4666 \nL 4769 4666 \nL 4769 0 \nL 3425 0 \nL 1728 3200 \nL 1728 0 \nL 588 0 \nL 588 4666 \nz\n\" transform=\"scale(0.015625)\"/>\n       <path id=\"DejaVuSans-Bold-75\" d=\"M 500 1363 \nL 500 3500 \nL 1625 3500 \nL 1625 3150 \nQ 1625 2866 1622 2436 \nQ 1619 2006 1619 1863 \nQ 1619 1441 1641 1255 \nQ 1663 1069 1716 984 \nQ 1784 875 1895 815 \nQ 2006 756 2150 756 \nQ 2500 756 2700 1025 \nQ 2900 1294 2900 1772 \nL 2900 3500 \nL 4019 3500 \nL 4019 0 \nL 2900 0 \nL 2900 506 \nQ 2647 200 2364 54 \nQ 2081 -91 1741 -91 \nQ 1134 -91 817 281 \nQ 500 653 500 1363 \nz\n\" transform=\"scale(0.015625)\"/>\n       <path id=\"DejaVuSans-Bold-6d\" d=\"M 3781 2919 \nQ 3994 3244 4286 3414 \nQ 4578 3584 4928 3584 \nQ 5531 3584 5847 3212 \nQ 6163 2841 6163 2131 \nL 6163 0 \nL 5038 0 \nL 5038 1825 \nQ 5041 1866 5042 1909 \nQ 5044 1953 5044 2034 \nQ 5044 2406 4934 2573 \nQ 4825 2741 4581 2741 \nQ 4263 2741 4089 2478 \nQ 3916 2216 3909 1719 \nL 3909 0 \nL 2784 0 \nL 2784 1825 \nQ 2784 2406 2684 2573 \nQ 2584 2741 2328 2741 \nQ 2006 2741 1831 2477 \nQ 1656 2213 1656 1722 \nL 1656 0 \nL 531 0 \nL 531 3500 \nL 1656 3500 \nL 1656 2988 \nQ 1863 3284 2130 3434 \nQ 2397 3584 2719 3584 \nQ 3081 3584 3359 3409 \nQ 3638 3234 3781 2919 \nz\n\" transform=\"scale(0.015625)\"/>\n       <path id=\"DejaVuSans-Bold-62\" d=\"M 2400 722 \nQ 2759 722 2948 984 \nQ 3138 1247 3138 1747 \nQ 3138 2247 2948 2509 \nQ 2759 2772 2400 2772 \nQ 2041 2772 1848 2508 \nQ 1656 2244 1656 1747 \nQ 1656 1250 1848 986 \nQ 2041 722 2400 722 \nz\nM 1656 2988 \nQ 1888 3294 2169 3439 \nQ 2450 3584 2816 3584 \nQ 3463 3584 3878 3070 \nQ 4294 2556 4294 1747 \nQ 4294 938 3878 423 \nQ 3463 -91 2816 -91 \nQ 2450 -91 2169 54 \nQ 1888 200 1656 506 \nL 1656 0 \nL 538 0 \nL 538 4863 \nL 1656 4863 \nL 1656 2988 \nz\n\" transform=\"scale(0.015625)\"/>\n       <path id=\"DejaVuSans-Bold-65\" d=\"M 4031 1759 \nL 4031 1441 \nL 1416 1441 \nQ 1456 1047 1700 850 \nQ 1944 653 2381 653 \nQ 2734 653 3104 758 \nQ 3475 863 3866 1075 \nL 3866 213 \nQ 3469 63 3072 -14 \nQ 2675 -91 2278 -91 \nQ 1328 -91 801 392 \nQ 275 875 275 1747 \nQ 275 2603 792 3093 \nQ 1309 3584 2216 3584 \nQ 3041 3584 3536 3087 \nQ 4031 2591 4031 1759 \nz\nM 2881 2131 \nQ 2881 2450 2695 2645 \nQ 2509 2841 2209 2841 \nQ 1884 2841 1681 2658 \nQ 1478 2475 1428 2131 \nL 2881 2131 \nz\n\" transform=\"scale(0.015625)\"/>\n       <path id=\"DejaVuSans-Bold-72\" d=\"M 3138 2547 \nQ 2991 2616 2845 2648 \nQ 2700 2681 2553 2681 \nQ 2122 2681 1889 2404 \nQ 1656 2128 1656 1613 \nL 1656 0 \nL 538 0 \nL 538 3500 \nL 1656 3500 \nL 1656 2925 \nQ 1872 3269 2151 3426 \nQ 2431 3584 2822 3584 \nQ 2878 3584 2943 3579 \nQ 3009 3575 3134 3559 \nL 3138 2547 \nz\n\" transform=\"scale(0.015625)\"/>\n       <path id=\"DejaVuSans-Bold-20\" transform=\"scale(0.015625)\"/>\n       <path id=\"DejaVuSans-Bold-69\" d=\"M 538 3500 \nL 1656 3500 \nL 1656 0 \nL 538 0 \nL 538 3500 \nz\nM 538 4863 \nL 1656 4863 \nL 1656 3950 \nL 538 3950 \nL 538 4863 \nz\n\" transform=\"scale(0.015625)\"/>\n       <path id=\"DejaVuSans-Bold-74\" d=\"M 1759 4494 \nL 1759 3500 \nL 2913 3500 \nL 2913 2700 \nL 1759 2700 \nL 1759 1216 \nQ 1759 972 1856 886 \nQ 1953 800 2241 800 \nL 2816 800 \nL 2816 0 \nL 1856 0 \nQ 1194 0 917 276 \nQ 641 553 641 1216 \nL 641 2700 \nL 84 2700 \nL 84 3500 \nL 641 3500 \nL 641 4494 \nL 1759 4494 \nz\n\" transform=\"scale(0.015625)\"/>\n       <path id=\"DejaVuSans-Bold-73\" d=\"M 3272 3391 \nL 3272 2541 \nQ 2913 2691 2578 2766 \nQ 2244 2841 1947 2841 \nQ 1628 2841 1473 2761 \nQ 1319 2681 1319 2516 \nQ 1319 2381 1436 2309 \nQ 1553 2238 1856 2203 \nL 2053 2175 \nQ 2913 2066 3209 1816 \nQ 3506 1566 3506 1031 \nQ 3506 472 3093 190 \nQ 2681 -91 1863 -91 \nQ 1516 -91 1145 -36 \nQ 775 19 384 128 \nL 384 978 \nQ 719 816 1070 734 \nQ 1422 653 1784 653 \nQ 2113 653 2278 743 \nQ 2444 834 2444 1013 \nQ 2444 1163 2330 1236 \nQ 2216 1309 1875 1350 \nL 1678 1375 \nQ 931 1469 631 1722 \nQ 331 1975 331 2491 \nQ 331 3047 712 3315 \nQ 1094 3584 1881 3584 \nQ 2191 3584 2531 3537 \nQ 2872 3491 3272 3391 \nz\n\" transform=\"scale(0.015625)\"/>\n       <path id=\"DejaVuSans-Bold-6c\" d=\"M 538 4863 \nL 1656 4863 \nL 1656 0 \nL 538 0 \nL 538 4863 \nz\n\" transform=\"scale(0.015625)\"/>\n       <path id=\"DejaVuSans-Bold-66\" d=\"M 2841 4863 \nL 2841 4128 \nL 2222 4128 \nQ 1984 4128 1890 4042 \nQ 1797 3956 1797 3744 \nL 1797 3500 \nL 2753 3500 \nL 2753 2700 \nL 1797 2700 \nL 1797 0 \nL 678 0 \nL 678 2700 \nL 122 2700 \nL 122 3500 \nL 678 3500 \nL 678 3744 \nQ 678 4316 997 4589 \nQ 1316 4863 1984 4863 \nL 2841 4863 \nz\n\" transform=\"scale(0.015625)\"/>\n      </defs>\n      <use xlink:href=\"#DejaVuSans-Bold-4e\"/>\n      <use xlink:href=\"#DejaVuSans-Bold-75\" x=\"83.691406\"/>\n      <use xlink:href=\"#DejaVuSans-Bold-6d\" x=\"154.882812\"/>\n      <use xlink:href=\"#DejaVuSans-Bold-62\" x=\"259.082031\"/>\n      <use xlink:href=\"#DejaVuSans-Bold-65\" x=\"330.664062\"/>\n      <use xlink:href=\"#DejaVuSans-Bold-72\" x=\"398.486328\"/>\n      <use xlink:href=\"#DejaVuSans-Bold-20\" x=\"447.802734\"/>\n      <use xlink:href=\"#DejaVuSans-Bold-69\" x=\"482.617188\"/>\n      <use xlink:href=\"#DejaVuSans-Bold-74\" x=\"516.894531\"/>\n      <use xlink:href=\"#DejaVuSans-Bold-73\" x=\"564.697266\"/>\n      <use xlink:href=\"#DejaVuSans-Bold-65\" x=\"624.21875\"/>\n      <use xlink:href=\"#DejaVuSans-Bold-6c\" x=\"692.041016\"/>\n      <use xlink:href=\"#DejaVuSans-Bold-66\" x=\"726.318359\"/>\n     </g>\n    </g>\n   </g>\n   <g id=\"matplotlib.axis_2\">\n    <g id=\"ytick_1\">\n     <g id=\"line2d_7\">\n      <defs>\n       <path id=\"mf381d02b85\" d=\"M 0 0 \nL -3.5 0 \n\" style=\"stroke: #000000; stroke-width: 0.8\"/>\n      </defs>\n      <g>\n       <use xlink:href=\"#mf381d02b85\" x=\"48.8975\" y=\"231.392646\" style=\"stroke: #000000; stroke-width: 0.8\"/>\n      </g>\n     </g>\n     <g id=\"text_8\">\n      <!-- 0.0 -->\n      <g transform=\"translate(22.81375 235.951708) scale(0.12 -0.12)\">\n       <defs>\n        <path id=\"DejaVuSans-2e\" d=\"M 684 794 \nL 1344 794 \nL 1344 0 \nL 684 0 \nL 684 794 \nz\n\" transform=\"scale(0.015625)\"/>\n       </defs>\n       <use xlink:href=\"#DejaVuSans-30\"/>\n       <use xlink:href=\"#DejaVuSans-2e\" x=\"63.623047\"/>\n       <use xlink:href=\"#DejaVuSans-30\" x=\"95.410156\"/>\n      </g>\n     </g>\n    </g>\n    <g id=\"ytick_2\">\n     <g id=\"line2d_8\">\n      <g>\n       <use xlink:href=\"#mf381d02b85\" x=\"48.8975\" y=\"195.857394\" style=\"stroke: #000000; stroke-width: 0.8\"/>\n      </g>\n     </g>\n     <g id=\"text_9\">\n      <!-- 0.2 -->\n      <g transform=\"translate(22.81375 200.416456) scale(0.12 -0.12)\">\n       <use xlink:href=\"#DejaVuSans-30\"/>\n       <use xlink:href=\"#DejaVuSans-2e\" x=\"63.623047\"/>\n       <use xlink:href=\"#DejaVuSans-32\" x=\"95.410156\"/>\n      </g>\n     </g>\n    </g>\n    <g id=\"ytick_3\">\n     <g id=\"line2d_9\">\n      <g>\n       <use xlink:href=\"#mf381d02b85\" x=\"48.8975\" y=\"160.322142\" style=\"stroke: #000000; stroke-width: 0.8\"/>\n      </g>\n     </g>\n     <g id=\"text_10\">\n      <!-- 0.4 -->\n      <g transform=\"translate(22.81375 164.881204) scale(0.12 -0.12)\">\n       <use xlink:href=\"#DejaVuSans-30\"/>\n       <use xlink:href=\"#DejaVuSans-2e\" x=\"63.623047\"/>\n       <use xlink:href=\"#DejaVuSans-34\" x=\"95.410156\"/>\n      </g>\n     </g>\n    </g>\n    <g id=\"ytick_4\">\n     <g id=\"line2d_10\">\n      <g>\n       <use xlink:href=\"#mf381d02b85\" x=\"48.8975\" y=\"124.78689\" style=\"stroke: #000000; stroke-width: 0.8\"/>\n      </g>\n     </g>\n     <g id=\"text_11\">\n      <!-- 0.6 -->\n      <g transform=\"translate(22.81375 129.345952) scale(0.12 -0.12)\">\n       <use xlink:href=\"#DejaVuSans-30\"/>\n       <use xlink:href=\"#DejaVuSans-2e\" x=\"63.623047\"/>\n       <use xlink:href=\"#DejaVuSans-36\" x=\"95.410156\"/>\n      </g>\n     </g>\n    </g>\n    <g id=\"ytick_5\">\n     <g id=\"line2d_11\">\n      <g>\n       <use xlink:href=\"#mf381d02b85\" x=\"48.8975\" y=\"89.251638\" style=\"stroke: #000000; stroke-width: 0.8\"/>\n      </g>\n     </g>\n     <g id=\"text_12\">\n      <!-- 0.8 -->\n      <g transform=\"translate(22.81375 93.810701) scale(0.12 -0.12)\">\n       <use xlink:href=\"#DejaVuSans-30\"/>\n       <use xlink:href=\"#DejaVuSans-2e\" x=\"63.623047\"/>\n       <use xlink:href=\"#DejaVuSans-38\" x=\"95.410156\"/>\n      </g>\n     </g>\n    </g>\n    <g id=\"ytick_6\">\n     <g id=\"line2d_12\">\n      <g>\n       <use xlink:href=\"#mf381d02b85\" x=\"48.8975\" y=\"53.716386\" style=\"stroke: #000000; stroke-width: 0.8\"/>\n      </g>\n     </g>\n     <g id=\"text_13\">\n      <!-- 1.0 -->\n      <g transform=\"translate(22.81375 58.275449) scale(0.12 -0.12)\">\n       <use xlink:href=\"#DejaVuSans-31\"/>\n       <use xlink:href=\"#DejaVuSans-2e\" x=\"63.623047\"/>\n       <use xlink:href=\"#DejaVuSans-30\" x=\"95.410156\"/>\n      </g>\n     </g>\n    </g>\n    <g id=\"text_14\">\n     <!-- Gap to the next number -->\n     <g transform=\"translate(16.318125 211.216875) rotate(-90) scale(0.12 -0.12)\">\n      <defs>\n       <path id=\"DejaVuSans-Bold-47\" d=\"M 4781 347 \nQ 4331 128 3847 18 \nQ 3363 -91 2847 -91 \nQ 1681 -91 1000 561 \nQ 319 1213 319 2328 \nQ 319 3456 1012 4103 \nQ 1706 4750 2913 4750 \nQ 3378 4750 3804 4662 \nQ 4231 4575 4609 4403 \nL 4609 3438 \nQ 4219 3659 3833 3768 \nQ 3447 3878 3059 3878 \nQ 2341 3878 1952 3476 \nQ 1563 3075 1563 2328 \nQ 1563 1588 1938 1184 \nQ 2313 781 3003 781 \nQ 3191 781 3352 804 \nQ 3513 828 3641 878 \nL 3641 1784 \nL 2906 1784 \nL 2906 2591 \nL 4781 2591 \nL 4781 347 \nz\n\" transform=\"scale(0.015625)\"/>\n       <path id=\"DejaVuSans-Bold-61\" d=\"M 2106 1575 \nQ 1756 1575 1579 1456 \nQ 1403 1338 1403 1106 \nQ 1403 894 1545 773 \nQ 1688 653 1941 653 \nQ 2256 653 2472 879 \nQ 2688 1106 2688 1447 \nL 2688 1575 \nL 2106 1575 \nz\nM 3816 1997 \nL 3816 0 \nL 2688 0 \nL 2688 519 \nQ 2463 200 2181 54 \nQ 1900 -91 1497 -91 \nQ 953 -91 614 226 \nQ 275 544 275 1050 \nQ 275 1666 698 1953 \nQ 1122 2241 2028 2241 \nL 2688 2241 \nL 2688 2328 \nQ 2688 2594 2478 2717 \nQ 2269 2841 1825 2841 \nQ 1466 2841 1156 2769 \nQ 847 2697 581 2553 \nL 581 3406 \nQ 941 3494 1303 3539 \nQ 1666 3584 2028 3584 \nQ 2975 3584 3395 3211 \nQ 3816 2838 3816 1997 \nz\n\" transform=\"scale(0.015625)\"/>\n       <path id=\"DejaVuSans-Bold-70\" d=\"M 1656 506 \nL 1656 -1331 \nL 538 -1331 \nL 538 3500 \nL 1656 3500 \nL 1656 2988 \nQ 1888 3294 2169 3439 \nQ 2450 3584 2816 3584 \nQ 3463 3584 3878 3070 \nQ 4294 2556 4294 1747 \nQ 4294 938 3878 423 \nQ 3463 -91 2816 -91 \nQ 2450 -91 2169 54 \nQ 1888 200 1656 506 \nz\nM 2400 2772 \nQ 2041 2772 1848 2508 \nQ 1656 2244 1656 1747 \nQ 1656 1250 1848 986 \nQ 2041 722 2400 722 \nQ 2759 722 2948 984 \nQ 3138 1247 3138 1747 \nQ 3138 2247 2948 2509 \nQ 2759 2772 2400 2772 \nz\n\" transform=\"scale(0.015625)\"/>\n       <path id=\"DejaVuSans-Bold-6f\" d=\"M 2203 2784 \nQ 1831 2784 1636 2517 \nQ 1441 2250 1441 1747 \nQ 1441 1244 1636 976 \nQ 1831 709 2203 709 \nQ 2569 709 2762 976 \nQ 2956 1244 2956 1747 \nQ 2956 2250 2762 2517 \nQ 2569 2784 2203 2784 \nz\nM 2203 3584 \nQ 3106 3584 3614 3096 \nQ 4122 2609 4122 1747 \nQ 4122 884 3614 396 \nQ 3106 -91 2203 -91 \nQ 1297 -91 786 396 \nQ 275 884 275 1747 \nQ 275 2609 786 3096 \nQ 1297 3584 2203 3584 \nz\n\" transform=\"scale(0.015625)\"/>\n       <path id=\"DejaVuSans-Bold-68\" d=\"M 4056 2131 \nL 4056 0 \nL 2931 0 \nL 2931 347 \nL 2931 1625 \nQ 2931 2084 2911 2256 \nQ 2891 2428 2841 2509 \nQ 2775 2619 2662 2680 \nQ 2550 2741 2406 2741 \nQ 2056 2741 1856 2470 \nQ 1656 2200 1656 1722 \nL 1656 0 \nL 538 0 \nL 538 4863 \nL 1656 4863 \nL 1656 2988 \nQ 1909 3294 2193 3439 \nQ 2478 3584 2822 3584 \nQ 3428 3584 3742 3212 \nQ 4056 2841 4056 2131 \nz\n\" transform=\"scale(0.015625)\"/>\n       <path id=\"DejaVuSans-Bold-6e\" d=\"M 4056 2131 \nL 4056 0 \nL 2931 0 \nL 2931 347 \nL 2931 1631 \nQ 2931 2084 2911 2256 \nQ 2891 2428 2841 2509 \nQ 2775 2619 2662 2680 \nQ 2550 2741 2406 2741 \nQ 2056 2741 1856 2470 \nQ 1656 2200 1656 1722 \nL 1656 0 \nL 538 0 \nL 538 3500 \nL 1656 3500 \nL 1656 2988 \nQ 1909 3294 2193 3439 \nQ 2478 3584 2822 3584 \nQ 3428 3584 3742 3212 \nQ 4056 2841 4056 2131 \nz\n\" transform=\"scale(0.015625)\"/>\n       <path id=\"DejaVuSans-Bold-78\" d=\"M 1422 1791 \nL 159 3500 \nL 1344 3500 \nL 2059 2463 \nL 2784 3500 \nL 3969 3500 \nL 2706 1797 \nL 4031 0 \nL 2847 0 \nL 2059 1106 \nL 1281 0 \nL 97 0 \nL 1422 1791 \nz\n\" transform=\"scale(0.015625)\"/>\n      </defs>\n      <use xlink:href=\"#DejaVuSans-Bold-47\"/>\n      <use xlink:href=\"#DejaVuSans-Bold-61\" x=\"82.080078\"/>\n      <use xlink:href=\"#DejaVuSans-Bold-70\" x=\"149.560547\"/>\n      <use xlink:href=\"#DejaVuSans-Bold-20\" x=\"221.142578\"/>\n      <use xlink:href=\"#DejaVuSans-Bold-74\" x=\"255.957031\"/>\n      <use xlink:href=\"#DejaVuSans-Bold-6f\" x=\"303.759766\"/>\n      <use xlink:href=\"#DejaVuSans-Bold-20\" x=\"372.460938\"/>\n      <use xlink:href=\"#DejaVuSans-Bold-74\" x=\"407.275391\"/>\n      <use xlink:href=\"#DejaVuSans-Bold-68\" x=\"455.078125\"/>\n      <use xlink:href=\"#DejaVuSans-Bold-65\" x=\"526.269531\"/>\n      <use xlink:href=\"#DejaVuSans-Bold-20\" x=\"594.091797\"/>\n      <use xlink:href=\"#DejaVuSans-Bold-6e\" x=\"628.90625\"/>\n      <use xlink:href=\"#DejaVuSans-Bold-65\" x=\"700.097656\"/>\n      <use xlink:href=\"#DejaVuSans-Bold-78\" x=\"767.919922\"/>\n      <use xlink:href=\"#DejaVuSans-Bold-74\" x=\"832.421875\"/>\n      <use xlink:href=\"#DejaVuSans-Bold-20\" x=\"880.224609\"/>\n      <use xlink:href=\"#DejaVuSans-Bold-6e\" x=\"915.039062\"/>\n      <use xlink:href=\"#DejaVuSans-Bold-75\" x=\"986.230469\"/>\n      <use xlink:href=\"#DejaVuSans-Bold-6d\" x=\"1057.421875\"/>\n      <use xlink:href=\"#DejaVuSans-Bold-62\" x=\"1161.621094\"/>\n      <use xlink:href=\"#DejaVuSans-Bold-65\" x=\"1233.203125\"/>\n      <use xlink:href=\"#DejaVuSans-Bold-72\" x=\"1301.025391\"/>\n     </g>\n    </g>\n    <g id=\"text_15\">\n     <!-- 1e−13 -->\n     <g transform=\"translate(48.8975 16.318125) scale(0.12 -0.12)\">\n      <defs>\n       <path id=\"DejaVuSans-65\" d=\"M 3597 1894 \nL 3597 1613 \nL 953 1613 \nQ 991 1019 1311 708 \nQ 1631 397 2203 397 \nQ 2534 397 2845 478 \nQ 3156 559 3463 722 \nL 3463 178 \nQ 3153 47 2828 -22 \nQ 2503 -91 2169 -91 \nQ 1331 -91 842 396 \nQ 353 884 353 1716 \nQ 353 2575 817 3079 \nQ 1281 3584 2069 3584 \nQ 2775 3584 3186 3129 \nQ 3597 2675 3597 1894 \nz\nM 3022 2063 \nQ 3016 2534 2758 2815 \nQ 2500 3097 2075 3097 \nQ 1594 3097 1305 2825 \nQ 1016 2553 972 2059 \nL 3022 2063 \nz\n\" transform=\"scale(0.015625)\"/>\n       <path id=\"DejaVuSans-2212\" d=\"M 678 2272 \nL 4684 2272 \nL 4684 1741 \nL 678 1741 \nL 678 2272 \nz\n\" transform=\"scale(0.015625)\"/>\n       <path id=\"DejaVuSans-33\" d=\"M 2597 2516 \nQ 3050 2419 3304 2112 \nQ 3559 1806 3559 1356 \nQ 3559 666 3084 287 \nQ 2609 -91 1734 -91 \nQ 1441 -91 1130 -33 \nQ 819 25 488 141 \nL 488 750 \nQ 750 597 1062 519 \nQ 1375 441 1716 441 \nQ 2309 441 2620 675 \nQ 2931 909 2931 1356 \nQ 2931 1769 2642 2001 \nQ 2353 2234 1838 2234 \nL 1294 2234 \nL 1294 2753 \nL 1863 2753 \nQ 2328 2753 2575 2939 \nQ 2822 3125 2822 3475 \nQ 2822 3834 2567 4026 \nQ 2313 4219 1838 4219 \nQ 1578 4219 1281 4162 \nQ 984 4106 628 3988 \nL 628 4550 \nQ 988 4650 1302 4700 \nQ 1616 4750 1894 4750 \nQ 2613 4750 3031 4423 \nQ 3450 4097 3450 3541 \nQ 3450 3153 3228 2886 \nQ 3006 2619 2597 2516 \nz\n\" transform=\"scale(0.015625)\"/>\n      </defs>\n      <use xlink:href=\"#DejaVuSans-31\"/>\n      <use xlink:href=\"#DejaVuSans-65\" x=\"63.623047\"/>\n      <use xlink:href=\"#DejaVuSans-2212\" x=\"125.146484\"/>\n      <use xlink:href=\"#DejaVuSans-31\" x=\"208.935547\"/>\n      <use xlink:href=\"#DejaVuSans-33\" x=\"272.558594\"/>\n     </g>\n    </g>\n   </g>\n   <g id=\"line2d_13\">\n    <path d=\"M 64.115682 230.998125 \nL 64.420048 230.998125 \nL 64.532664 230.603604 \nL 65.028782 230.603604 \nL 65.141398 229.814563 \nL 66.246249 229.814563 \nL 66.358864 228.236481 \nL 68.684226 228.236481 \nL 68.796841 225.080317 \nL 73.56018 225.080317 \nL 73.672796 218.767988 \nL 83.309045 218.767988 \nL 83.42166 206.14333 \nL 102.806774 206.14333 \nL 102.91939 180.894015 \nL 141.805277 180.894015 \nL 141.917893 130.395385 \nL 219.799239 130.395385 \nL 219.911854 29.398125 \nL 368.479318 29.398125 \nL 368.479318 29.398125 \n\" clip-path=\"url(#pa0fd9dfed6)\" style=\"fill: none; stroke: #1f77b4; stroke-width: 1.5; stroke-linecap: square\"/>\n   </g>\n   <g id=\"patch_3\">\n    <path d=\"M 48.8975 241.078125 \nL 48.8975 19.318125 \n\" style=\"fill: none; stroke: #000000; stroke-width: 0.8; stroke-linejoin: miter; stroke-linecap: square\"/>\n   </g>\n   <g id=\"patch_4\">\n    <path d=\"M 383.6975 241.078125 \nL 383.6975 19.318125 \n\" style=\"fill: none; stroke: #000000; stroke-width: 0.8; stroke-linejoin: miter; stroke-linecap: square\"/>\n   </g>\n   <g id=\"patch_5\">\n    <path d=\"M 48.8975 241.078125 \nL 383.6975 241.078125 \n\" style=\"fill: none; stroke: #000000; stroke-width: 0.8; stroke-linejoin: miter; stroke-linecap: square\"/>\n   </g>\n   <g id=\"patch_6\">\n    <path d=\"M 48.8975 19.318125 \nL 383.6975 19.318125 \n\" style=\"fill: none; stroke: #000000; stroke-width: 0.8; stroke-linejoin: miter; stroke-linecap: square\"/>\n   </g>\n  </g>\n </g>\n <defs>\n  <clipPath id=\"pa0fd9dfed6\">\n   <rect x=\"48.8975\" y=\"19.318125\" width=\"334.8\" height=\"221.76\"/>\n  </clipPath>\n </defs>\n</svg>\n",
      "text/plain": [
       "<Figure size 600x400 with 1 Axes>"
      ]
     },
     "metadata": {},
     "output_type": "display_data"
    }
   ],
   "source": [
    "x = np.linspace(1, 1000, 100000)\n",
    "\n",
    "spacing = (2 ** -52) * 2**np.floor(np.log2(x))\n",
    "plt.plot(x, spacing)\n",
    "plt.xlabel(\"Number itself\")\n",
    "plt.ylabel(\"Gap to the next number\");"
   ]
  },
  {
   "cell_type": "markdown",
   "metadata": {},
   "source": [
    "- For `float64`, we have 52 explicit bits for the mantissa, therefore the smallest significant digit is $2^{-52}$"
   ]
  },
  {
   "cell_type": "code",
   "execution_count": 33,
   "metadata": {},
   "outputs": [
    {
     "data": {
      "text/plain": [
       "2.220446049250313e-16"
      ]
     },
     "execution_count": 33,
     "metadata": {},
     "output_type": "execute_result"
    }
   ],
   "source": [
    "2 ** -52"
   ]
  },
  {
   "attachments": {},
   "cell_type": "markdown",
   "metadata": {},
   "source": [
    "- Numpy has a helpful function we can use to calculate spacing\n",
    "\n",
    "- `np.nextafter(x1, x2)` returns the next representable floating-point value after `x1` towards `x2`\n",
    "- The next representable number after 1 should be 1 plus the spacing above, let's check:"
   ]
  },
  {
   "cell_type": "code",
   "execution_count": 34,
   "metadata": {},
   "outputs": [
    {
     "data": {
      "text/plain": [
       "1.0000000000000002"
      ]
     },
     "execution_count": 34,
     "metadata": {},
     "output_type": "execute_result"
    }
   ],
   "source": [
    "np.nextafter(1, 2)"
   ]
  },
  {
   "cell_type": "code",
   "execution_count": 35,
   "metadata": {},
   "outputs": [
    {
     "data": {
      "text/plain": [
       "2.220446049250313e-16"
      ]
     },
     "execution_count": 35,
     "metadata": {},
     "output_type": "execute_result"
    }
   ],
   "source": [
    "spacing = np.nextafter(1, 2) - 1\n",
    "spacing"
   ]
  },
  {
   "cell_type": "code",
   "execution_count": 36,
   "metadata": {},
   "outputs": [
    {
     "data": {
      "text/plain": [
       "True"
      ]
     },
     "execution_count": 36,
     "metadata": {},
     "output_type": "execute_result"
    }
   ],
   "source": [
    "spacing == (2 ** -52) * (2**0)"
   ]
  },
  {
   "attachments": {},
   "cell_type": "markdown",
   "metadata": {},
   "source": [
    "- If you do a calculation that puts you somewhere between the **space** of two numbers, the computer will automatically round to the nearest one\n",
    "\n",
    "- I like to think of this as a mountain range in the computer\n",
    "- In the valleys are representable numbers, if a calculation puts us on a mountain side, we'll roll down the mountain to the closest valley\n",
    "- For example, spacing for the number 1 is $2^{-52}$, so if we don't add at least half that, we won't reach the next representable number:"
   ]
  },
  {
   "cell_type": "code",
   "execution_count": 37,
   "metadata": {},
   "outputs": [
    {
     "data": {
      "text/plain": [
       "True"
      ]
     },
     "execution_count": 37,
     "metadata": {},
     "output_type": "execute_result"
    }
   ],
   "source": [
    "1 + 0.4 * spacing == 1  # add less than half the spacing"
   ]
  },
  {
   "cell_type": "markdown",
   "metadata": {},
   "source": [
    "<img src=\"img/fall_left.png\" width=\"500\">"
   ]
  },
  {
   "cell_type": "code",
   "execution_count": 38,
   "metadata": {},
   "outputs": [
    {
     "data": {
      "text/plain": [
       "False"
      ]
     },
     "execution_count": 38,
     "metadata": {},
     "output_type": "execute_result"
    }
   ],
   "source": [
    "1 + 0.6 * spacing == 1 # add a more than half the spacing"
   ]
  },
  {
   "cell_type": "markdown",
   "metadata": {},
   "source": [
    "<img src=\"img/fall_right.png\" width=\"500\">"
   ]
  },
  {
   "attachments": {},
   "cell_type": "markdown",
   "metadata": {},
   "source": [
    "- We're working with pretty small numbers here so you might not be too shocked\n",
    "\n",
    "- But remember, the bigger our exponent, the bigger our rounding errors will be!"
   ]
  },
  {
   "cell_type": "code",
   "execution_count": 39,
   "metadata": {},
   "outputs": [],
   "source": [
    "large_number = 1e25"
   ]
  },
  {
   "cell_type": "code",
   "execution_count": 40,
   "metadata": {},
   "outputs": [
    {
     "name": "stdout",
     "output_type": "stream",
     "text": [
      " Decimal: 1.03397576569128469 x 2^83\n",
      "  Binary: 1.0000100010110010101000101100001010000000001010010001 x 2^1010011\n",
      "\n",
      "    Sign: 0 (+)\n",
      "Mantissa: 0000100010110010101000101100001010000000001010010001 (0.03397576569128469)\n",
      "Exponent: 1010011 (83)\n"
     ]
    }
   ],
   "source": [
    "binary(large_number)"
   ]
  },
  {
   "cell_type": "markdown",
   "metadata": {},
   "source": [
    "- The exponent is 83 so the spacing should be:"
   ]
  },
  {
   "cell_type": "code",
   "execution_count": 41,
   "metadata": {},
   "outputs": [
    {
     "name": "stdout",
     "output_type": "stream",
     "text": [
      "2.14748e+09\n"
     ]
    }
   ],
   "source": [
    "spacing = (2 ** -52) * (2 ** 83)\n",
    "print(f\"{spacing:.5e}\")"
   ]
  },
  {
   "cell_type": "markdown",
   "metadata": {},
   "source": [
    "- 1 billion is less than half that spacing, so if we add it to `large_number`, we won't cross the mountain peak, and we'll slide back down into the same valley:"
   ]
  },
  {
   "cell_type": "code",
   "execution_count": 42,
   "metadata": {},
   "outputs": [
    {
     "data": {
      "text/plain": [
       "True"
      ]
     },
     "execution_count": 42,
     "metadata": {},
     "output_type": "execute_result"
    }
   ],
   "source": [
    "one_billion = 1e9\n",
    "1e25 + one_billion == 1e25  # adding a billion didn't change our number!"
   ]
  },
  {
   "cell_type": "markdown",
   "metadata": {},
   "source": [
    "- 2 billion is more than half that spacing, so if we add it to `large_number`, we'll slide into the next valley (representable number):"
   ]
  },
  {
   "cell_type": "code",
   "execution_count": 43,
   "metadata": {},
   "outputs": [
    {
     "data": {
      "text/plain": [
       "False"
      ]
     },
     "execution_count": 43,
     "metadata": {},
     "output_type": "execute_result"
    }
   ],
   "source": [
    "two_billion = 2e9\n",
    "1e25 + two_billion == 1e25  # adding two billion (more than half the spacing) did change our number"
   ]
  },
  {
   "attachments": {},
   "cell_type": "markdown",
   "metadata": {},
   "source": [
    "- Another implication of having a finite number of floating point digits to represent an infinite number system is that two numbers may share the same representation in memory\n",
    "\n",
    "- For example, these are all `True`:"
   ]
  },
  {
   "cell_type": "code",
   "execution_count": 44,
   "metadata": {},
   "outputs": [
    {
     "data": {
      "text/plain": [
       "True"
      ]
     },
     "execution_count": 44,
     "metadata": {},
     "output_type": "execute_result"
    }
   ],
   "source": [
    "0.99999999999999999 == 1"
   ]
  },
  {
   "cell_type": "code",
   "execution_count": 45,
   "metadata": {},
   "outputs": [
    {
     "data": {
      "text/plain": [
       "True"
      ]
     },
     "execution_count": 45,
     "metadata": {},
     "output_type": "execute_result"
    }
   ],
   "source": [
    "1.00000000000000004 == 1"
   ]
  },
  {
   "cell_type": "code",
   "execution_count": 46,
   "metadata": {},
   "outputs": [
    {
     "data": {
      "text/plain": [
       "True"
      ]
     },
     "execution_count": 46,
     "metadata": {},
     "output_type": "execute_result"
    }
   ],
   "source": [
    "1.00000000000000009 == 1"
   ]
  },
  {
   "attachments": {},
   "cell_type": "markdown",
   "metadata": {},
   "source": [
    "- No matter what number you are, if you don't pass over the peak to your left or right, you'll roll back down to the valley\n",
    "\n",
    "- And also remember, the bigger the number, the bigger the spacing/rounding errors"
   ]
  },
  {
   "attachments": {},
   "cell_type": "markdown",
   "metadata": {},
   "source": [
    "<br><br><br>"
   ]
  },
  {
   "cell_type": "markdown",
   "metadata": {
    "tags": []
   },
   "source": [
    "## Lecture Exercise: Fun with Floating Points\n"
   ]
  },
  {
   "cell_type": "markdown",
   "metadata": {},
   "source": [
    "### Floating Point Range"
   ]
  },
  {
   "attachments": {},
   "cell_type": "markdown",
   "metadata": {},
   "source": [
    "Recall that most compute environments you'll encounter will be using IEEE double precision (`float64`), so 52 bits for the mantissa, 11 for the exponent. In order to obtain the range of values for IEEE `float64`, we first need to know that the **exponent** in this standard is expressed differently than we expect. Let's see:"
   ]
  },
  {
   "attachments": {},
   "cell_type": "markdown",
   "metadata": {},
   "source": [
    "<br><br><br>"
   ]
  },
  {
   "attachments": {},
   "cell_type": "markdown",
   "metadata": {},
   "source": [
    "With 11 bits, we would expect the range of representable signed integers to be $-2^{10} - 1$ to $2^{10} - 1$ (i.e. $-1023$ to $+1023$). We learned in previous sections that the two's-complement system avoids having both $-0$ and $+0$, and thus enables us to store one more number instead of one of those signed zeros."
   ]
  },
  {
   "attachments": {},
   "cell_type": "markdown",
   "metadata": {},
   "source": [
    "Instead of the two's-complement system, however, IEEE `float64` numbers use a **biased format** to represent the exponent.\n",
    "\n",
    "This is done to make comparison between two floating-point numbers easier, if the entire bit pattern is taken to be an integer (see [this](https://indepth.dev/posts/1018/the-mechanics-behind-exponent-bias-in-floating-point#advantages-over-two-s-complement) for more info)."
   ]
  },
  {
   "attachments": {},
   "cell_type": "markdown",
   "metadata": {},
   "source": [
    "- In the biased format, **the entire signed exponent is represented as an unsigned integer, with a bias subtracted from it**. With 11 bits, the range of **unsigned** values we can store would be $0$ to $2^{11} - 1$ or $2047$.\n",
    "\n",
    "- With the bias set to $1023$, the range of **signed** values represented by those numbers would be\n",
    "\n",
    "$0 - 1023 = -1023$\n",
    "\n",
    "to\n",
    "\n",
    "$2047 - 1023 = 1024$\n"
   ]
  },
  {
   "attachments": {},
   "cell_type": "markdown",
   "metadata": {},
   "source": [
    "- Two numbers from that range are used for [special cases](https://people.orie.cornell.edu/snp32/orie_6125/ieee754/ieee754.html) (such as subnormal numbers or infinities):\n",
    "\n",
    "  - all 0 bits ($-1023$), and\n",
    "  \n",
    "  - all 1 bits ($+1024$)"
   ]
  },
  {
   "cell_type": "markdown",
   "metadata": {},
   "source": [
    "- Finally, this means that the smallest exponent is $-1022$ and the greatest exponent is $+1023$."
   ]
  },
  {
   "attachments": {},
   "cell_type": "markdown",
   "metadata": {},
   "source": [
    "<br><br><br>"
   ]
  },
  {
   "cell_type": "markdown",
   "metadata": {},
   "source": [
    "- For `float64`, the maximum mantissa can be calculated as the sum of all 52 bits from ($2^{-1}$ to $2^{-52}$):"
   ]
  },
  {
   "cell_type": "code",
   "execution_count": 47,
   "metadata": {},
   "outputs": [
    {
     "data": {
      "text/plain": [
       "0.9999999999999998"
      ]
     },
     "execution_count": 47,
     "metadata": {},
     "output_type": "execute_result"
    }
   ],
   "source": [
    "max_mantissa = (2.0 ** np.arange(-1, -53, -1)).sum()\n",
    "max_mantissa"
   ]
  },
  {
   "cell_type": "markdown",
   "metadata": {},
   "source": [
    "- Therefore the maximum float we can represent is (remember our format is $1.M \\times 2 ^ E$):"
   ]
  },
  {
   "cell_type": "code",
   "execution_count": 48,
   "metadata": {},
   "outputs": [
    {
     "data": {
      "text/plain": [
       "1.7976931348623157e+308"
      ]
     },
     "execution_count": 48,
     "metadata": {},
     "output_type": "execute_result"
    }
   ],
   "source": [
    "(1 + max_mantissa) * 2 ** 1023"
   ]
  },
  {
   "cell_type": "markdown",
   "metadata": {},
   "source": [
    "- Let's confirm using the `numpy` function `np.finfo()`:"
   ]
  },
  {
   "cell_type": "code",
   "execution_count": 49,
   "metadata": {},
   "outputs": [
    {
     "data": {
      "text/plain": [
       "1.7976931348623157e+308"
      ]
     },
     "execution_count": 49,
     "metadata": {},
     "output_type": "execute_result"
    }
   ],
   "source": [
    "np.finfo(np.float64).max"
   ]
  },
  {
   "attachments": {},
   "cell_type": "markdown",
   "metadata": {},
   "source": [
    "- What happens if we try to make a number bigger than this?"
   ]
  },
  {
   "cell_type": "code",
   "execution_count": 50,
   "metadata": {
    "tags": []
   },
   "outputs": [
    {
     "ename": "OverflowError",
     "evalue": "(34, 'Result too large')",
     "output_type": "error",
     "traceback": [
      "\u001b[0;31m---------------------------------------------------------------------------\u001b[0m",
      "\u001b[0;31mOverflowError\u001b[0m                             Traceback (most recent call last)",
      "Cell \u001b[0;32mIn[50], line 1\u001b[0m\n\u001b[0;32m----> 1\u001b[0m \u001b[39m10.\u001b[39;49m \u001b[39m*\u001b[39;49m\u001b[39m*\u001b[39;49m \u001b[39m309\u001b[39;49m\n",
      "\u001b[0;31mOverflowError\u001b[0m: (34, 'Result too large')"
     ]
    }
   ],
   "source": [
    "10. ** 309"
   ]
  },
  {
   "cell_type": "markdown",
   "metadata": {},
   "source": [
    "- Or in `numpy`, it throws a warning and defaults to `inf`:"
   ]
  },
  {
   "cell_type": "code",
   "execution_count": 51,
   "metadata": {},
   "outputs": [
    {
     "name": "stderr",
     "output_type": "stream",
     "text": [
      "/var/folders/qm/c_scj_0n7vj7r36900wc3j140000gn/T/ipykernel_34598/1970181666.py:1: RuntimeWarning: overflow encountered in power\n",
      "  np.power(10.0, 309)\n"
     ]
    },
    {
     "data": {
      "text/plain": [
       "inf"
      ]
     },
     "execution_count": 51,
     "metadata": {},
     "output_type": "execute_result"
    }
   ],
   "source": [
    "np.power(10.0, 309)"
   ]
  },
  {
   "cell_type": "markdown",
   "metadata": {},
   "source": [
    "- Now let's do the minimum value:"
   ]
  },
  {
   "cell_type": "code",
   "execution_count": 52,
   "metadata": {},
   "outputs": [
    {
     "data": {
      "text/plain": [
       "2.2250738585072014e-308"
      ]
     },
     "execution_count": 52,
     "metadata": {},
     "output_type": "execute_result"
    }
   ],
   "source": [
    "1.0 * (2 ** -1022)"
   ]
  },
  {
   "cell_type": "markdown",
   "metadata": {},
   "source": [
    "- You don't need to worry about this derivation too much, after all `numpy` can help!"
   ]
  },
  {
   "cell_type": "code",
   "execution_count": 53,
   "metadata": {},
   "outputs": [
    {
     "data": {
      "text/plain": [
       "-1022"
      ]
     },
     "execution_count": 53,
     "metadata": {},
     "output_type": "execute_result"
    }
   ],
   "source": [
    "np.finfo(np.float64).minexp  # minimum exponent value"
   ]
  },
  {
   "cell_type": "code",
   "execution_count": 54,
   "metadata": {},
   "outputs": [
    {
     "data": {
      "text/plain": [
       "2.2250738585072014e-308"
      ]
     },
     "execution_count": 54,
     "metadata": {},
     "output_type": "execute_result"
    }
   ],
   "source": [
    "np.finfo(np.float64).tiny  # smallest possible positive value"
   ]
  },
  {
   "attachments": {},
   "cell_type": "markdown",
   "metadata": {},
   "source": [
    "<br><br><br>"
   ]
  },
  {
   "attachments": {},
   "cell_type": "markdown",
   "metadata": {},
   "source": [
    "### (OPTIONAL) Subnormal Numbers"
   ]
  },
  {
   "cell_type": "markdown",
   "metadata": {},
   "source": [
    "- What happens if we try to store a number smaller than the above?"
   ]
  },
  {
   "cell_type": "code",
   "execution_count": 55,
   "metadata": {},
   "outputs": [
    {
     "data": {
      "text/plain": [
       "5.562684646268003e-309"
      ]
     },
     "execution_count": 55,
     "metadata": {},
     "output_type": "execute_result"
    }
   ],
   "source": [
    "2 ** -1024"
   ]
  },
  {
   "attachments": {},
   "cell_type": "markdown",
   "metadata": {},
   "source": [
    "- Um, it worked... 🤔\n",
    "\n",
    "- Remember how I discussed \"special bit patterns\" earlier? One of these is \"[subnormal numbers](https://en.wikipedia.org/wiki/Denormal_number)\"\n",
    "- This is well beyond the scope of the course, but briefly, subnormal numbers help us fill the gap between 0 and $2^{-1022}$\n",
    "- If the exponent is set to its minimum value, then we can play with the bits (if we are willing to sacrifice precision): **instead of the mantissa starting with a 1, we can start it with a 0**\n",
    "- This gives our mantissa a minimum value of $2^{-52}$ (rather than 1, which is what we had before)\n",
    "- So the smallest subnormal number we can have is $2^{-52} \\times 2 ^ {-1022} = 2 ^ {-1074}$:"
   ]
  },
  {
   "cell_type": "code",
   "execution_count": 56,
   "metadata": {},
   "outputs": [
    {
     "data": {
      "text/plain": [
       "5e-324"
      ]
     },
     "execution_count": 56,
     "metadata": {},
     "output_type": "execute_result"
    }
   ],
   "source": [
    "2 ** -1074"
   ]
  },
  {
   "cell_type": "markdown",
   "metadata": {},
   "source": [
    "- Anything less than this is rounded to 0:"
   ]
  },
  {
   "cell_type": "code",
   "execution_count": 57,
   "metadata": {},
   "outputs": [
    {
     "data": {
      "text/plain": [
       "0.0"
      ]
     },
     "execution_count": 57,
     "metadata": {},
     "output_type": "execute_result"
    }
   ],
   "source": [
    "2 ** -1075"
   ]
  },
  {
   "attachments": {},
   "cell_type": "markdown",
   "metadata": {},
   "source": [
    "> Note that with subnormal numbers, we lose more and more precision for smaller and smaller numbers, because we can no longer use the exponent to make the binary point float around."
   ]
  },
  {
   "cell_type": "markdown",
   "metadata": {},
   "source": [
    "- You can read more [in this article](https://people.orie.cornell.edu/snp32/orie_6125/ieee754/ieee754.html#subnormal-numbers) and this [stackoverflow post](https://stackoverflow.com/a/14002396/14179508), but as I said, this is beyond the scope of the course."
   ]
  },
  {
   "attachments": {},
   "cell_type": "markdown",
   "metadata": {},
   "source": [
    "<br><br><br>"
   ]
  },
  {
   "cell_type": "markdown",
   "metadata": {},
   "source": [
    "### Order of Operations"
   ]
  },
  {
   "cell_type": "markdown",
   "metadata": {},
   "source": [
    "- Consider the following:"
   ]
  },
  {
   "cell_type": "code",
   "execution_count": 58,
   "metadata": {},
   "outputs": [
    {
     "data": {
      "text/plain": [
       "False"
      ]
     },
     "execution_count": 58,
     "metadata": {},
     "output_type": "execute_result"
    }
   ],
   "source": [
    "1e16 + 1 + 1 == 1 + 1 + 1e16"
   ]
  },
  {
   "attachments": {},
   "cell_type": "markdown",
   "metadata": {},
   "source": [
    "- What's up with that?\n",
    "\n",
    "- Let's break it down...\n",
    "- First the spacing of `1e16` is:"
   ]
  },
  {
   "cell_type": "code",
   "execution_count": 59,
   "metadata": {},
   "outputs": [
    {
     "data": {
      "text/plain": [
       "2.0"
      ]
     },
     "execution_count": 59,
     "metadata": {},
     "output_type": "execute_result"
    }
   ],
   "source": [
    "calc_spacing(1e16)"
   ]
  },
  {
   "cell_type": "code",
   "execution_count": 60,
   "metadata": {},
   "outputs": [
    {
     "data": {
      "text/plain": [
       "True"
      ]
     },
     "execution_count": 60,
     "metadata": {},
     "output_type": "execute_result"
    }
   ],
   "source": [
    "1e16 + 1 == 1e16"
   ]
  },
  {
   "attachments": {},
   "cell_type": "markdown",
   "metadata": {},
   "source": [
    "- So the above should make sense, we aren't adding more than half the spacing, so we remain at `1e16`\n",
    "\n",
    "- Another example:"
   ]
  },
  {
   "cell_type": "code",
   "execution_count": 61,
   "metadata": {},
   "outputs": [
    {
     "data": {
      "text/plain": [
       "False"
      ]
     },
     "execution_count": 61,
     "metadata": {},
     "output_type": "execute_result"
    }
   ],
   "source": [
    "1e16 + (1 + 1) == 1e16"
   ]
  },
  {
   "attachments": {},
   "cell_type": "markdown",
   "metadata": {},
   "source": [
    "- This time we added `(1 + 1)`, which is more than half the spacing, and we got a `False` as expected\n",
    "\n",
    "- But now let's remove the parentheses:"
   ]
  },
  {
   "cell_type": "code",
   "execution_count": 62,
   "metadata": {},
   "outputs": [
    {
     "data": {
      "text/plain": [
       "True"
      ]
     },
     "execution_count": 62,
     "metadata": {},
     "output_type": "execute_result"
    }
   ],
   "source": [
    "1e16 + 1 + 1 == 1e16"
   ]
  },
  {
   "attachments": {},
   "cell_type": "markdown",
   "metadata": {},
   "source": [
    "- Back to `True`, what's going on...\n",
    "\n",
    "- Well we have an \"order of operations\" here, the `1e16 + 1` happens first, which is just `1e16`, and then we try add `1` again but the same thing happens\n",
    "- What do you think will happen with this one?"
   ]
  },
  {
   "cell_type": "code",
   "execution_count": 63,
   "metadata": {},
   "outputs": [
    {
     "data": {
      "text/plain": [
       "False"
      ]
     },
     "execution_count": 63,
     "metadata": {},
     "output_type": "execute_result"
    }
   ],
   "source": [
    "1 + 1 + 1e16 == 1e16"
   ]
  },
  {
   "cell_type": "markdown",
   "metadata": {},
   "source": [
    "- This time, the `1 + 1` happened first, which is `2`, and then we add `1e16`"
   ]
  },
  {
   "attachments": {},
   "cell_type": "markdown",
   "metadata": {},
   "source": [
    "<br><br><br>"
   ]
  },
  {
   "cell_type": "markdown",
   "metadata": {},
   "source": [
    "### Writing Functions"
   ]
  },
  {
   "cell_type": "markdown",
   "metadata": {},
   "source": [
    "- Later in this course we'll create a Logistic Regression model from scratch and you'll have to calculate something that looks like:\n",
    "\n",
    "$\\log(1+\\exp(z))$\n",
    "\n",
    "- Looks pretty harmless right?"
   ]
  },
  {
   "cell_type": "code",
   "execution_count": 64,
   "metadata": {},
   "outputs": [],
   "source": [
    "def log_1_plus_exp(z):\n",
    "    return np.log(1 + np.exp(z))"
   ]
  },
  {
   "cell_type": "markdown",
   "metadata": {},
   "source": [
    "- But what happens if `z` is large? Say, 1000:"
   ]
  },
  {
   "cell_type": "code",
   "execution_count": 65,
   "metadata": {},
   "outputs": [
    {
     "name": "stderr",
     "output_type": "stream",
     "text": [
      "/var/folders/qm/c_scj_0n7vj7r36900wc3j140000gn/T/ipykernel_34598/2578511584.py:2: RuntimeWarning: overflow encountered in exp\n",
      "  return np.log(1 + np.exp(z))\n"
     ]
    },
    {
     "data": {
      "text/plain": [
       "inf"
      ]
     },
     "execution_count": 65,
     "metadata": {},
     "output_type": "execute_result"
    }
   ],
   "source": [
    "log_1_plus_exp(1000)"
   ]
  },
  {
   "attachments": {},
   "cell_type": "markdown",
   "metadata": {},
   "source": [
    "- We get an overflow error when `z` in `exp(z)` is large!\n",
    "\n",
    "- In fact, we can find out what the limit of `z` is:"
   ]
  },
  {
   "cell_type": "code",
   "execution_count": 66,
   "metadata": {},
   "outputs": [
    {
     "data": {
      "text/plain": [
       "1.7976931348623157e+308"
      ]
     },
     "execution_count": 66,
     "metadata": {},
     "output_type": "execute_result"
    }
   ],
   "source": [
    "max_float = np.finfo(np.float64).max\n",
    "max_float"
   ]
  },
  {
   "cell_type": "code",
   "execution_count": 67,
   "metadata": {},
   "outputs": [
    {
     "data": {
      "text/plain": [
       "709.782712893384"
      ]
     },
     "execution_count": 67,
     "metadata": {},
     "output_type": "execute_result"
    }
   ],
   "source": [
    "np.log(max_float)"
   ]
  },
  {
   "attachments": {},
   "cell_type": "markdown",
   "metadata": {},
   "source": [
    "- If we pass anything bigger than that into `np.exp()` we'll get an overflow error\n",
    "\n",
    "- However, you might know that for $z \\gg 1$:\n",
    "\n",
    "$\\log(1+\\exp(z)) \\approx \\log(\\exp(z)) = z$\n",
    "\n",
    "- e.g.:"
   ]
  },
  {
   "cell_type": "code",
   "execution_count": 68,
   "metadata": {},
   "outputs": [
    {
     "data": {
      "text/plain": [
       "700.0"
      ]
     },
     "execution_count": 68,
     "metadata": {},
     "output_type": "execute_result"
    }
   ],
   "source": [
    "z = 700\n",
    "np.log(1 + np.exp(z))"
   ]
  },
  {
   "cell_type": "markdown",
   "metadata": {},
   "source": [
    "The returned looks the same as $z$!"
   ]
  },
  {
   "cell_type": "markdown",
   "metadata": {},
   "source": [
    "- We can use this to account for the overflow error:"
   ]
  },
  {
   "cell_type": "code",
   "execution_count": 69,
   "metadata": {},
   "outputs": [],
   "source": [
    "@np.vectorize  # decorator to vectorize the function\n",
    "def log_1_plus_exp_safe(z):\n",
    "    if z > 100:\n",
    "        print(f\"Avoiding overflow error with approximation of {z:.0f}!\")        \n",
    "        return z\n",
    "    else:\n",
    "        return np.log(1 + np.exp(z))"
   ]
  },
  {
   "cell_type": "code",
   "execution_count": 70,
   "metadata": {},
   "outputs": [
    {
     "name": "stdout",
     "output_type": "stream",
     "text": [
      "Avoiding overflow error with approximation of 1000!\n"
     ]
    },
    {
     "data": {
      "text/plain": [
       "array([   1.31326169,   10.0000454 ,  100.        , 1000.        ])"
      ]
     },
     "execution_count": 70,
     "metadata": {},
     "output_type": "execute_result"
    }
   ],
   "source": [
    "log_1_plus_exp_safe([1, 10, 100, 1000])"
   ]
  },
  {
   "cell_type": "markdown",
   "metadata": {},
   "source": [
    "- This is part of the reason we use libraries like `numpy`, `scipy`, `scikit-learn`, etc. They've taken care of all of this for us."
   ]
  },
  {
   "attachments": {},
   "cell_type": "markdown",
   "metadata": {},
   "source": [
    "<br><br><br>"
   ]
  },
  {
   "attachments": {},
   "cell_type": "markdown",
   "metadata": {},
   "source": [
    "### Precision, Memory, Speed"
   ]
  },
  {
   "cell_type": "markdown",
   "metadata": {},
   "source": [
    "- So double precision floats are pretty standard and require 64 bits to store:"
   ]
  },
  {
   "cell_type": "code",
   "execution_count": 71,
   "metadata": {},
   "outputs": [
    {
     "data": {
      "text/plain": [
       "8"
      ]
     },
     "execution_count": 71,
     "metadata": {},
     "output_type": "execute_result"
    }
   ],
   "source": [
    "np.float64().nbytes  # number of bytes consumed by a float64"
   ]
  },
  {
   "cell_type": "code",
   "execution_count": 72,
   "metadata": {},
   "outputs": [
    {
     "data": {
      "text/plain": [
       "64"
      ]
     },
     "execution_count": 72,
     "metadata": {},
     "output_type": "execute_result"
    }
   ],
   "source": [
    "np.float64().nbytes * 8  # recall 1 byte = 8 bits"
   ]
  },
  {
   "cell_type": "markdown",
   "metadata": {},
   "source": [
    "- When dealing with huge datasets or models with millions or billions of parameters it may be desirable to lower the precision of our numbers to use less memory and/or gain speed"
   ]
  },
  {
   "cell_type": "code",
   "execution_count": 73,
   "metadata": {},
   "outputs": [
    {
     "name": "stdout",
     "output_type": "stream",
     "text": [
      "array size: (1000, 1000)\n",
      "array type: float64\n",
      "mem. usage: 64.0 MB\n"
     ]
    }
   ],
   "source": [
    "x64 = np.random.randn(1000, 1000)\n",
    "print(f\"array size: {x64.shape}\")\n",
    "print(f\"array type: {x64.dtype}\")\n",
    "print(f\"mem. usage: {x64.nbytes * 8 / (1000 * 1000)} MB\")"
   ]
  },
  {
   "cell_type": "code",
   "execution_count": 74,
   "metadata": {},
   "outputs": [
    {
     "name": "stdout",
     "output_type": "stream",
     "text": [
      "array type: float32\n",
      "mem. usage: 32.0 MB\n"
     ]
    }
   ],
   "source": [
    "x32 = x64.astype('float32')\n",
    "print(f\"array type: {x32.dtype}\")\n",
    "print(f\"mem. usage: {x32.nbytes * 8 / (1000 * 1000)} MB\")"
   ]
  },
  {
   "cell_type": "markdown",
   "metadata": {},
   "source": [
    "- Below I'm squaring the elements of my two arrays. They have the same number of elements, but different data types - let's observe the difference in the speed of the operation:"
   ]
  },
  {
   "cell_type": "code",
   "execution_count": 75,
   "metadata": {},
   "outputs": [
    {
     "name": "stdout",
     "output_type": "stream",
     "text": [
      "float32 array is 3.46x faster than float64 array here.\n"
     ]
    }
   ],
   "source": [
    "time64 = %timeit -q -o -r 3 x64 ** 2\n",
    "time32 = %timeit -q -o -r 3 x32 ** 2\n",
    "print(f\"float32 array is {time64.average / time32.average:.2f}x faster than float64 array here.\")"
   ]
  },
  {
   "cell_type": "markdown",
   "metadata": {},
   "source": [
    "- I'm showing you this as foreboding for later topics dealing with memory and deep neural networks, where we'll use these ideas of precision vs speed to optimize our models."
   ]
  },
  {
   "attachments": {},
   "cell_type": "markdown",
   "metadata": {},
   "source": [
    "<br><br><br>"
   ]
  },
  {
   "cell_type": "markdown",
   "metadata": {},
   "source": [
    "## Lecture Highlights\n"
   ]
  },
  {
   "attachments": {},
   "cell_type": "markdown",
   "metadata": {},
   "source": [
    "1. Most fractional numbers are not represented exactly by floating-point numbers in computers which can lead to rounding errors.\n",
    "\n",
    "2. Most compute environments you'll encounter will use IEEE double precision, but others do exist (especially single precision). Some software will require you to use a particular data type due to computational limitations (for example, PyTorch sometimes forces you to use `float32` instead of `float64`).\n",
    "\n",
    "3. There is a biggest and smallest floating-point number (depending on precision), beyond these we get overflow or underflow errors. Use `np.nextafter()` and `numpy.finfo()` to work out float spacing and ranges."
   ]
  }
 ],
 "metadata": {
  "kernelspec": {
   "display_name": "dsci572",
   "language": "python",
   "name": "python3"
  },
  "language_info": {
   "codemirror_mode": {
    "name": "ipython",
    "version": 3
   },
   "file_extension": ".py",
   "mimetype": "text/x-python",
   "name": "python",
   "nbconvert_exporter": "python",
   "pygments_lexer": "ipython3",
   "version": "3.10.8"
  },
  "toc": {
   "base_numbering": 1,
   "nav_menu": {},
   "number_sections": false,
   "sideBar": true,
   "skip_h1_title": true,
   "title_cell": "Lecture Outline",
   "title_sidebar": "Contents",
   "toc_cell": true,
   "toc_position": {},
   "toc_section_display": true,
   "toc_window_display": false
  },
  "toc-autonumbering": false,
  "toc-showcode": false,
  "toc-showmarkdowntxt": false,
  "toc-showtags": false,
  "vscode": {
   "interpreter": {
    "hash": "f821000d0c0da66e5bcde88c37d59c8e0de03b40667fb62009a8148ca49465a0"
   }
  }
 },
 "nbformat": 4,
 "nbformat_minor": 4
}
