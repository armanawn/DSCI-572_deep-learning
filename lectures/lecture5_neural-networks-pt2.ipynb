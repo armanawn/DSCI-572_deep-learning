{
 "cells": [
  {
   "cell_type": "markdown",
   "metadata": {},
   "source": [
    "<img src=\"img/dsci572_header.png\" width=\"600\">"
   ]
  },
  {
   "cell_type": "markdown",
   "metadata": {},
   "source": [
    "# Lecture 5: Training Neural Networks\n",
    "\n"
   ]
  },
  {
   "attachments": {},
   "cell_type": "markdown",
   "metadata": {},
   "source": [
    "<br><br><br>"
   ]
  },
  {
   "cell_type": "markdown",
   "metadata": {},
   "source": [
    "## Lecture Learning Objectives\n"
   ]
  },
  {
   "attachments": {},
   "cell_type": "markdown",
   "metadata": {},
   "source": [
    "- Explain how backpropagation works at a high level\n",
    "\n",
    "- Describe the difference between training loss and validation loss when creating a neural network\n",
    "- Identify and describe common techniques to avoid overfitting/apply regularization to neural networks, e.g., early stopping, drop out, L2 regularization\n",
    "- Use `PyTorch` to develop a fully-connected neural network and training pipeline"
   ]
  },
  {
   "attachments": {},
   "cell_type": "markdown",
   "metadata": {},
   "source": [
    "<br><br><br>"
   ]
  },
  {
   "cell_type": "markdown",
   "metadata": {},
   "source": [
    "## Imports\n"
   ]
  },
  {
   "cell_type": "code",
   "execution_count": 1,
   "metadata": {},
   "outputs": [],
   "source": [
    "import numpy as np\n",
    "import pandas as pd\n",
    "import torch\n",
    "from torch import nn\n",
    "from torchvision import transforms, datasets, utils\n",
    "from torch.utils.data import DataLoader, TensorDataset\n",
    "from utils.plotting import *"
   ]
  },
  {
   "attachments": {},
   "cell_type": "markdown",
   "metadata": {},
   "source": [
    "<br><br><br>"
   ]
  },
  {
   "cell_type": "markdown",
   "metadata": {
    "tags": []
   },
   "source": [
    "## Differentiation, Backpropagation, Autograd\n"
   ]
  },
  {
   "attachments": {},
   "cell_type": "markdown",
   "metadata": {
    "tags": []
   },
   "source": [
    "- In previous lectures we've discussed optimization algorithms like gradient descent, stochastic gradient descent, ADAM, etc.\n",
    "\n",
    "- These algorithms need the gradient of the loss function w.r.t the model parameters to optimize the parameters"
   ]
  },
  {
   "attachments": {},
   "cell_type": "markdown",
   "metadata": {},
   "source": [
    "<br><br><br>"
   ]
  },
  {
   "attachments": {},
   "cell_type": "markdown",
   "metadata": {
    "tags": []
   },
   "source": [
    "- We've been able to calculate the gradient analytically for linear and logistic regression\n",
    "\n",
    "- But how would you work out the gradient for this *very* simple network for regression:\n",
    "\n",
    "![](img/backprop-1.png)"
   ]
  },
  {
   "cell_type": "markdown",
   "metadata": {
    "tags": []
   },
   "source": [
    "- The equation for calculating the output of that network is below, it's the linear layers and activation functions (Sigmoid in this case) recursively stuck together:\n",
    "\n",
    "$$S(x)=\\frac{1}{1+e^{-x}}$$\n",
    "\n",
    "$$\\hat{y}=w_3S(w_1x+b_1) + w_4S(w_2x+b_2) + b_3$$"
   ]
  },
  {
   "attachments": {},
   "cell_type": "markdown",
   "metadata": {
    "tags": []
   },
   "source": [
    "- So how would we calculate the gradient of say the MSE loss w.r.t to all our parameters?\n",
    "\n",
    "$$L(\\mathbf{w}) = \\frac{1}{n}\\sum^{n}_{i=1}(y_i-\\hat{y_i})^2$$ \n",
    "\n",
    "$$\\nabla L(\\mathbf{w}) = \\begin{bmatrix} \\frac{\\partial L}{\\partial w_1} \\\\ \\frac{\\partial L}{\\partial w_2} \\\\ \\vdots \\\\ \\frac{\\partial L}{\\partial w_d} \\end{bmatrix}$$"
   ]
  },
  {
   "attachments": {},
   "cell_type": "markdown",
   "metadata": {},
   "source": [
    "<br><br><br>"
   ]
  },
  {
   "attachments": {},
   "cell_type": "markdown",
   "metadata": {
    "tags": []
   },
   "source": [
    "We have 3 options:\n",
    "\n",
    "1. **Symbolic differentiation**: analytical derivation or \"do it by hand\", like we learned in calculus.\n",
    "\n",
    "2. **Numerical differentiation**: using finite difference methods $\\frac{df}{dx} \\approx \\frac{f(x+h)-f(x)}{h}$.\n",
    "\n",
    "3. **Automatic differentiation**: breaking down computations into elementary sequential steps (the derivatives of which we know analytically), and using the chain rule"
   ]
  },
  {
   "cell_type": "markdown",
   "metadata": {},
   "source": [
    "We'll be looking at Automatic Differentiation (AD) to train neural networks.\n",
    "\n",
    "If you're interested in learning more about the other methods, see [Appendix C](appendixC_computing-derivatives.ipynb)"
   ]
  },
  {
   "attachments": {},
   "cell_type": "markdown",
   "metadata": {},
   "source": [
    "<br><br><br>"
   ]
  },
  {
   "attachments": {},
   "cell_type": "markdown",
   "metadata": {},
   "source": [
    "- Let's go through a short example based on this network:\n",
    "\n",
    "![](img/backprop-2.png)"
   ]
  },
  {
   "attachments": {},
   "cell_type": "markdown",
   "metadata": {},
   "source": [
    "<br><br><br>"
   ]
  },
  {
   "attachments": {},
   "cell_type": "markdown",
   "metadata": {
    "tags": []
   },
   "source": [
    "- Let's decompose that into smaller operations. I've introduced some new variables to hold intermediate states $z_i$ (node output before activation) and $a_i$ (node output after activation)\n",
    "\n",
    "- I'll also feed in one sample data point `(x, y)` = `(1, 3)` and am showing intermediate outputs in green and the final loss in red\n",
    "- This is called the **forward pass**: We feed in data and calculate outputs from left to right:\n",
    "\n",
    "![](img/backprop-3.png)"
   ]
  },
  {
   "attachments": {},
   "cell_type": "markdown",
   "metadata": {},
   "source": [
    "<br><br><br>"
   ]
  },
  {
   "attachments": {},
   "cell_type": "markdown",
   "metadata": {
    "tags": []
   },
   "source": [
    "- Now let's zoom in to the output node and calculate the gradients for just the parameters connected to that node\n",
    "\n",
    "- It looks complicated but the derivatives are very simple; take some time to examine this figure.\n",
    "\n",
    "![](img/backprop-4.png)"
   ]
  },
  {
   "attachments": {},
   "cell_type": "markdown",
   "metadata": {},
   "source": [
    "<br><br><br>"
   ]
  },
  {
   "cell_type": "markdown",
   "metadata": {
    "tags": []
   },
   "source": [
    "- That all boils down to this:\n",
    "\n",
    "![](img/backprop-5.png)"
   ]
  },
  {
   "attachments": {},
   "cell_type": "markdown",
   "metadata": {},
   "source": [
    "<br><br><br>"
   ]
  },
  {
   "attachments": {},
   "cell_type": "markdown",
   "metadata": {
    "tags": []
   },
   "source": [
    "- Now, the beauty of backpropagation is that we can use these results to easily calculate derivatives earlier in the network using the *chain rule*\n",
    "\n",
    "- I'll do that for $b_1$ and $b_2$ below\n",
    "\n",
    "- Once again, it looks complicated, but we're simply combining a bunch of small, simple derivatives with the chain rule.\n",
    "\n",
    "![](img/backprop-6.png)\n",
    "\n",
    "**Note:** $ \\frac{d}{dx} \\sigma (x) =  \\sigma (x) (1 - \\sigma (x))$, where $\\sigma (x) = \\text{Sigmoid}(x)$ in this example."
   ]
  },
  {
   "attachments": {},
   "cell_type": "markdown",
   "metadata": {},
   "source": [
    "<br><br><br>"
   ]
  },
  {
   "attachments": {},
   "cell_type": "markdown",
   "metadata": {
    "tags": []
   },
   "source": [
    "- I've left calculating the gradients of $w_1$ and $w_2$ up to you\n",
    "\n",
    "- All the gradients for the network boil down to this:\n",
    "\n",
    "![](img/backprop-7.png)"
   ]
  },
  {
   "attachments": {},
   "cell_type": "markdown",
   "metadata": {},
   "source": [
    "<br><br><br>"
   ]
  },
  {
   "attachments": {},
   "cell_type": "markdown",
   "metadata": {
    "tags": []
   },
   "source": [
    "- So summarizing the process:\n",
    "\n",
    "    1. Do one \"forward pass\" of the data through the network to compute the loss value\n",
    "\n",
    "    2. Do one \"backward pass\" through the network to calculate gradients of the loss w.r.t parameters"
   ]
  },
  {
   "attachments": {},
   "cell_type": "markdown",
   "metadata": {
    "tags": []
   },
   "source": [
    "- The **backward pass** above is actually a special case of automatic differentiation called **reverse-mode automatic differentiation**\n",
    "\n",
    "- In the context of neural networks, the process of computing gradients of the loss w.r.t. model parameters using reverse-mode automatic differentiation is known as the **backpropagation algorithm**"
   ]
  },
  {
   "attachments": {},
   "cell_type": "markdown",
   "metadata": {},
   "source": [
    "<br><br><br>"
   ]
  },
  {
   "cell_type": "markdown",
   "metadata": {
    "tags": []
   },
   "source": [
    "### Autograd"
   ]
  },
  {
   "attachments": {},
   "cell_type": "markdown",
   "metadata": {
    "tags": []
   },
   "source": [
    "- `torch.autograd` is PyTorch's automatic differentiation engine which helps us implement backpropagation\n",
    "\n",
    "- In simple terms, `torch.autograd` automatically calculates and stores derivatives for your network\n",
    "\n",
    "- Consider our simple network above:\n",
    "\n",
    "![](img/backprop-2.png)"
   ]
  },
  {
   "cell_type": "code",
   "execution_count": 2,
   "metadata": {
    "tags": []
   },
   "outputs": [],
   "source": [
    "class network(torch.nn.Module):\n",
    "    def __init__(self, input_size, hidden_size, output_size):\n",
    "        super().__init__()\n",
    "        self.hidden = torch.nn.Linear(input_size, hidden_size)\n",
    "        self.output = torch.nn.Linear(hidden_size, output_size)\n",
    "\n",
    "    def forward(self, x):\n",
    "        x = self.hidden(x)\n",
    "        x = torch.sigmoid(x)\n",
    "        x = self.output(x)\n",
    "        return x"
   ]
  },
  {
   "cell_type": "code",
   "execution_count": 3,
   "metadata": {
    "tags": []
   },
   "outputs": [],
   "source": [
    "model = network(1, 2, 1)  # make an instance of our network\n",
    "\n",
    "model.state_dict()['hidden.weight'][:] = torch.tensor([[1], [-1]])  # fix the weights manually based on the earlier figure\n",
    "model.state_dict()['hidden.bias'][:] = torch.tensor([1, 2])\n",
    "model.state_dict()['output.weight'][:] = torch.tensor([[1, 2]])\n",
    "model.state_dict()['output.bias'][:] = torch.tensor([-1])\n",
    "x, y = torch.tensor([1.0]), torch.tensor([3.0])  # our x, y data"
   ]
  },
  {
   "attachments": {},
   "cell_type": "markdown",
   "metadata": {},
   "source": [
    "<br><br><br>"
   ]
  },
  {
   "cell_type": "markdown",
   "metadata": {
    "tags": []
   },
   "source": [
    "- Now let's check the gradient of the bias of the output node:"
   ]
  },
  {
   "cell_type": "code",
   "execution_count": 4,
   "metadata": {
    "tags": []
   },
   "outputs": [
    {
     "name": "stdout",
     "output_type": "stream",
     "text": [
      "None\n"
     ]
    }
   ],
   "source": [
    "print(model.output.bias.grad)"
   ]
  },
  {
   "attachments": {},
   "cell_type": "markdown",
   "metadata": {
    "tags": []
   },
   "source": [
    "- It's currently `None`\n",
    "\n",
    "- PyTorch is tracking the operations in our network and how to calculate the gradient, but it hasn't calculated anything yet because we don't have a loss function and we haven't done a forward pass to calculate the loss so there's nothing to backpropagate yet\n",
    "- Let's define a loss now:"
   ]
  },
  {
   "cell_type": "code",
   "execution_count": 5,
   "metadata": {
    "tags": []
   },
   "outputs": [],
   "source": [
    "criterion = torch.nn.MSELoss()"
   ]
  },
  {
   "attachments": {},
   "cell_type": "markdown",
   "metadata": {
    "tags": []
   },
   "source": [
    "- Now we can force Pytorch to \"backpropagate\" the errors, like we just did by hand earlier by:\n",
    "\n",
    "    1. Doing a \"forward pass\" of our `(x, y)` data and calculating the `loss`;\n",
    "    \n",
    "    2. \"Backpropagating\" the loss by calling `loss.backward()`"
   ]
  },
  {
   "cell_type": "code",
   "execution_count": 6,
   "metadata": {
    "tags": []
   },
   "outputs": [],
   "source": [
    "loss = criterion(model(x), y)\n",
    "loss.backward()"
   ]
  },
  {
   "attachments": {},
   "cell_type": "markdown",
   "metadata": {
    "tags": []
   },
   "source": [
    "- Now let's check the gradient of the bias of the output node ($\\frac{\\partial L}{\\partial b_3}$):"
   ]
  },
  {
   "cell_type": "code",
   "execution_count": 7,
   "metadata": {
    "tags": []
   },
   "outputs": [
    {
     "name": "stdout",
     "output_type": "stream",
     "text": [
      "tensor([-3.3142])\n"
     ]
    }
   ],
   "source": [
    "print(model.output.bias.grad)"
   ]
  },
  {
   "cell_type": "markdown",
   "metadata": {
    "tags": []
   },
   "source": [
    "- It matches what we calculated earlier:\n",
    "\n",
    "![](img/backprop-8.png)"
   ]
  },
  {
   "attachments": {},
   "cell_type": "markdown",
   "metadata": {},
   "source": [
    "<br><br><br>"
   ]
  },
  {
   "cell_type": "markdown",
   "metadata": {
    "tags": []
   },
   "source": [
    "- We can make sure that all our gradients match what we calculated by hand:"
   ]
  },
  {
   "cell_type": "code",
   "execution_count": 8,
   "metadata": {
    "tags": []
   },
   "outputs": [
    {
     "name": "stdout",
     "output_type": "stream",
     "text": [
      "Hidden Layer Gradients\n",
      "Bias: tensor([-0.3480, -1.3032])\n",
      "Weights: tensor([-0.3480, -1.3032])\n",
      "\n",
      "Output Layer Gradients\n",
      "Bias: tensor([-3.3142])\n",
      "Weights: tensor([-2.9191, -2.4229])\n"
     ]
    }
   ],
   "source": [
    "print(\"Hidden Layer Gradients\")\n",
    "print(\"Bias:\", model.hidden.bias.grad)\n",
    "print(\"Weights:\", model.hidden.weight.grad.squeeze())\n",
    "print()\n",
    "print(\"Output Layer Gradients\")\n",
    "print(\"Bias:\", model.output.bias.grad)\n",
    "print(\"Weights:\", model.output.weight.grad.squeeze())"
   ]
  },
  {
   "attachments": {},
   "cell_type": "markdown",
   "metadata": {},
   "source": [
    "<br><br><br>"
   ]
  },
  {
   "attachments": {},
   "cell_type": "markdown",
   "metadata": {
    "tags": []
   },
   "source": [
    "- Now that we have the gradients, what's the next step? We use our optimization algorithm to update our weights\n",
    "\n",
    "- These are our current weights:"
   ]
  },
  {
   "cell_type": "code",
   "execution_count": 9,
   "metadata": {
    "tags": []
   },
   "outputs": [
    {
     "data": {
      "text/plain": [
       "OrderedDict([('hidden.weight',\n",
       "              tensor([[ 1.],\n",
       "                      [-1.]])),\n",
       "             ('hidden.bias', tensor([1., 2.])),\n",
       "             ('output.weight', tensor([[1., 2.]])),\n",
       "             ('output.bias', tensor([-1.]))])"
      ]
     },
     "execution_count": 9,
     "metadata": {},
     "output_type": "execute_result"
    }
   ],
   "source": [
    "model.state_dict()"
   ]
  },
  {
   "attachments": {},
   "cell_type": "markdown",
   "metadata": {
    "tags": []
   },
   "source": [
    "- To optimize them, we:\n",
    "\n",
    "    1. Define an `optimizer`,\n",
    "    \n",
    "    2. Ask it to update our weights based on our gradients using `optimizer.step()`."
   ]
  },
  {
   "cell_type": "code",
   "execution_count": 10,
   "metadata": {
    "tags": []
   },
   "outputs": [],
   "source": [
    "optimizer = torch.optim.SGD(model.parameters(), lr=0.1)\n",
    "optimizer.step()"
   ]
  },
  {
   "cell_type": "markdown",
   "metadata": {
    "tags": []
   },
   "source": [
    "- Our weights should now be different:"
   ]
  },
  {
   "cell_type": "code",
   "execution_count": 11,
   "metadata": {
    "tags": []
   },
   "outputs": [
    {
     "data": {
      "text/plain": [
       "OrderedDict([('hidden.weight',\n",
       "              tensor([[ 1.0348],\n",
       "                      [-0.8697]])),\n",
       "             ('hidden.bias', tensor([1.0348, 2.1303])),\n",
       "             ('output.weight', tensor([[1.2919, 2.2423]])),\n",
       "             ('output.bias', tensor([-0.6686]))])"
      ]
     },
     "execution_count": 11,
     "metadata": {},
     "output_type": "execute_result"
    }
   ],
   "source": [
    "model.state_dict()"
   ]
  },
  {
   "attachments": {},
   "cell_type": "markdown",
   "metadata": {},
   "source": [
    "<br><br><br>"
   ]
  },
  {
   "attachments": {},
   "cell_type": "markdown",
   "metadata": {
    "tags": []
   },
   "source": [
    "- One last thing for you to know: **PyTorch does not automatically clear the gradients** after using them\n",
    "\n",
    "- So if I call `loss.backward()` again, my gradients accumulate:"
   ]
  },
  {
   "cell_type": "code",
   "execution_count": 12,
   "metadata": {
    "tags": []
   },
   "outputs": [
    {
     "name": "stdout",
     "output_type": "stream",
     "text": [
      "b3 gradient after call 1 of loss.backward(): tensor([-0.1991, -0.5976])\n",
      "b3 gradient after call 2 of loss.backward(): tensor([-0.3983, -1.1953])\n",
      "b3 gradient after call 3 of loss.backward(): tensor([-0.5974, -1.7929])\n",
      "b3 gradient after call 4 of loss.backward(): tensor([-0.7966, -2.3906])\n",
      "b3 gradient after call 5 of loss.backward(): tensor([-0.9957, -2.9882])\n"
     ]
    }
   ],
   "source": [
    "optimizer.zero_grad()  # <- I'll explain this in the next cell\n",
    "\n",
    "for _ in range(1, 6):\n",
    "\n",
    "    loss = criterion(model(x), y)\n",
    "    loss.backward()\n",
    "    \n",
    "    print(f\"b3 gradient after call {_} of loss.backward():\", model.hidden.bias.grad)"
   ]
  },
  {
   "attachments": {},
   "cell_type": "markdown",
   "metadata": {
    "tags": []
   },
   "source": [
    "- Our gradients are accumulating each time we call `loss.backward()`\n",
    "\n",
    "- So we need to tell PyTorch to \"zero the gradients\" in each iteration using `optimizer.zero_grad()`:"
   ]
  },
  {
   "cell_type": "code",
   "execution_count": 13,
   "metadata": {
    "tags": []
   },
   "outputs": [
    {
     "name": "stdout",
     "output_type": "stream",
     "text": [
      "b3 gradient after call 1 of loss.backward(): tensor([-0.1991, -0.5976])\n",
      "b3 gradient after call 2 of loss.backward(): tensor([-0.1991, -0.5976])\n",
      "b3 gradient after call 3 of loss.backward(): tensor([-0.1991, -0.5976])\n",
      "b3 gradient after call 4 of loss.backward(): tensor([-0.1991, -0.5976])\n",
      "b3 gradient after call 5 of loss.backward(): tensor([-0.1991, -0.5976])\n"
     ]
    }
   ],
   "source": [
    "for _ in range(1, 6):\n",
    "\n",
    "    optimizer.zero_grad()  # <- don't forget this\n",
    "    \n",
    "    loss = criterion(model(x), y)\n",
    "    loss.backward()\n",
    "\n",
    "    print(f\"b3 gradient after call {_} of loss.backward():\", model.hidden.bias.grad)"
   ]
  },
  {
   "attachments": {},
   "cell_type": "markdown",
   "metadata": {},
   "source": [
    "<br><br><br>"
   ]
  },
  {
   "attachments": {},
   "cell_type": "markdown",
   "metadata": {
    "tags": []
   },
   "source": [
    "**Note**: You might wonder why PyTorch behaves like this. There are two notable reasons for this:\n",
    "\n",
    "1. It is a common situation that we want to use a certain batch size but we can't, due to hardware limitations. In order to imitate a large batch size, we can use smaller batches and compute gradients in each iteration, and instead of updating the weights, we can simply accumulate the gradients for a certain number of iterations. Since the gradient is the sum of contributions from each data point, we can wait for as many iterations as we want, and only then update the weights using the accumulated gradient. In this way, we have effectively used a large batch size without causing potential memory problems.\n",
    "\n",
    "2. When our overall loss is the sum of multiple losses, we would want to accumulate gradients when we do `.backward()` on each loss so as to be able to arrive at the gradient of the overall loss in the end."
   ]
  },
  {
   "attachments": {},
   "cell_type": "markdown",
   "metadata": {},
   "source": [
    "<br><br><br>"
   ]
  },
  {
   "cell_type": "markdown",
   "metadata": {
    "tags": []
   },
   "source": [
    "### Computational Graph (Optional)"
   ]
  },
  {
   "attachments": {},
   "cell_type": "markdown",
   "metadata": {
    "tags": []
   },
   "source": [
    "PyTorch's `autograd` basically keeps a record of our data and network operations in a computational graph. That's beyond the scope of this lecture, but if you're interested in learning more, I recommend this [blog post](https://pytorch.org/blog/overview-of-pytorch-autograd-engine/) from Pytorch's website.\n",
    "\n",
    "Also, `torchviz` is a useful package to look at the \"computational graph\" PyTorch is building for us under the hood. For using `torchviz`, you should first install `graphviz` using this [link](https://graphviz.org/download/), and then install `torchviz` using pip:\n",
    "```bash\n",
    "pip install torchviz\n",
    "```"
   ]
  },
  {
   "cell_type": "code",
   "execution_count": 14,
   "metadata": {
    "tags": []
   },
   "outputs": [
    {
     "data": {
      "image/svg+xml": "<?xml version=\"1.0\" encoding=\"UTF-8\" standalone=\"no\"?>\n<!DOCTYPE svg PUBLIC \"-//W3C//DTD SVG 1.1//EN\"\n \"http://www.w3.org/Graphics/SVG/1.1/DTD/svg11.dtd\">\n<!-- Generated by graphviz version 7.1.0 (20230121.1956)\n -->\n<!-- Pages: 1 -->\n<svg width=\"351pt\" height=\"413pt\"\n viewBox=\"0.00 0.00 351.00 413.00\" xmlns=\"http://www.w3.org/2000/svg\" xmlns:xlink=\"http://www.w3.org/1999/xlink\">\n<g id=\"graph0\" class=\"graph\" transform=\"scale(1 1) rotate(0) translate(4 409)\">\n<polygon fill=\"white\" stroke=\"none\" points=\"-4,4 -4,-409 347,-409 347,4 -4,4\"/>\n<!-- 4920056368 -->\n<g id=\"node1\" class=\"node\">\n<title>4920056368</title>\n<polygon fill=\"#caff70\" stroke=\"black\" points=\"205,-31 146,-31 146,0 205,0 205,-31\"/>\n<text text-anchor=\"middle\" x=\"175.5\" y=\"-7\" font-family=\"monospace\" font-size=\"10.00\"> (1, 1)</text>\n</g>\n<!-- 4920360528 -->\n<g id=\"node2\" class=\"node\">\n<title>4920360528</title>\n<polygon fill=\"lightgrey\" stroke=\"black\" points=\"226,-86 125,-86 125,-67 226,-67 226,-86\"/>\n<text text-anchor=\"middle\" x=\"175.5\" y=\"-74\" font-family=\"monospace\" font-size=\"10.00\">AddmmBackward0</text>\n</g>\n<!-- 4920360528&#45;&gt;4920056368 -->\n<g id=\"edge13\" class=\"edge\">\n<title>4920360528&#45;&gt;4920056368</title>\n<path fill=\"none\" stroke=\"black\" d=\"M175.5,-66.54C175.5,-60.07 175.5,-50.98 175.5,-42.32\"/>\n<polygon fill=\"black\" stroke=\"black\" points=\"179,-42.58 175.5,-32.58 172,-42.58 179,-42.58\"/>\n</g>\n<!-- 4920360240 -->\n<g id=\"node3\" class=\"node\">\n<title>4920360240</title>\n<polygon fill=\"lightgrey\" stroke=\"black\" points=\"101,-141 0,-141 0,-122 101,-122 101,-141\"/>\n<text text-anchor=\"middle\" x=\"50.5\" y=\"-129\" font-family=\"monospace\" font-size=\"10.00\">AccumulateGrad</text>\n</g>\n<!-- 4920360240&#45;&gt;4920360528 -->\n<g id=\"edge1\" class=\"edge\">\n<title>4920360240&#45;&gt;4920360528</title>\n<path fill=\"none\" stroke=\"black\" d=\"M71.7,-121.51C91.58,-113.08 121.53,-100.38 144.16,-90.79\"/>\n<polygon fill=\"black\" stroke=\"black\" points=\"145.37,-94.07 153.22,-86.95 142.64,-87.63 145.37,-94.07\"/>\n</g>\n<!-- 4363647584 -->\n<g id=\"node4\" class=\"node\">\n<title>4363647584</title>\n<polygon fill=\"lightblue\" stroke=\"black\" points=\"92,-207 9,-207 9,-177 92,-177 92,-207\"/>\n<text text-anchor=\"middle\" x=\"50.5\" y=\"-195\" font-family=\"monospace\" font-size=\"10.00\">output.bias</text>\n<text text-anchor=\"middle\" x=\"50.5\" y=\"-184\" font-family=\"monospace\" font-size=\"10.00\"> (1)</text>\n</g>\n<!-- 4363647584&#45;&gt;4920360240 -->\n<g id=\"edge2\" class=\"edge\">\n<title>4363647584&#45;&gt;4920360240</title>\n<path fill=\"none\" stroke=\"black\" d=\"M50.5,-176.54C50.5,-169.34 50.5,-160.53 50.5,-152.68\"/>\n<polygon fill=\"black\" stroke=\"black\" points=\"54,-152.69 50.5,-142.69 47,-152.69 54,-152.69\"/>\n</g>\n<!-- 4920360336 -->\n<g id=\"node5\" class=\"node\">\n<title>4920360336</title>\n<polygon fill=\"lightgrey\" stroke=\"black\" points=\"232,-141 119,-141 119,-122 232,-122 232,-141\"/>\n<text text-anchor=\"middle\" x=\"175.5\" y=\"-129\" font-family=\"monospace\" font-size=\"10.00\">SigmoidBackward0</text>\n</g>\n<!-- 4920360336&#45;&gt;4920360528 -->\n<g id=\"edge3\" class=\"edge\">\n<title>4920360336&#45;&gt;4920360528</title>\n<path fill=\"none\" stroke=\"black\" d=\"M175.5,-121.75C175.5,-115.27 175.5,-106.16 175.5,-97.9\"/>\n<polygon fill=\"black\" stroke=\"black\" points=\"179,-97.96 175.5,-87.96 172,-97.96 179,-97.96\"/>\n</g>\n<!-- 4920360432 -->\n<g id=\"node6\" class=\"node\">\n<title>4920360432</title>\n<polygon fill=\"lightgrey\" stroke=\"black\" points=\"224,-201.5 123,-201.5 123,-182.5 224,-182.5 224,-201.5\"/>\n<text text-anchor=\"middle\" x=\"173.5\" y=\"-189.5\" font-family=\"monospace\" font-size=\"10.00\">AddmmBackward0</text>\n</g>\n<!-- 4920360432&#45;&gt;4920360336 -->\n<g id=\"edge4\" class=\"edge\">\n<title>4920360432&#45;&gt;4920360336</title>\n<path fill=\"none\" stroke=\"black\" d=\"M173.8,-182.37C174.06,-174.5 174.47,-162.6 174.82,-152.39\"/>\n<polygon fill=\"black\" stroke=\"black\" points=\"178.31,-152.79 175.15,-142.68 171.31,-152.55 178.31,-152.79\"/>\n</g>\n<!-- 4920360096 -->\n<g id=\"node7\" class=\"node\">\n<title>4920360096</title>\n<polygon fill=\"lightgrey\" stroke=\"black\" points=\"123,-267.5 22,-267.5 22,-248.5 123,-248.5 123,-267.5\"/>\n<text text-anchor=\"middle\" x=\"72.5\" y=\"-255.5\" font-family=\"monospace\" font-size=\"10.00\">AccumulateGrad</text>\n</g>\n<!-- 4920360096&#45;&gt;4920360432 -->\n<g id=\"edge5\" class=\"edge\">\n<title>4920360096&#45;&gt;4920360432</title>\n<path fill=\"none\" stroke=\"black\" d=\"M86.54,-248.1C102.98,-237.69 130.43,-220.29 150.1,-207.83\"/>\n<polygon fill=\"black\" stroke=\"black\" points=\"151.72,-210.94 158.3,-202.63 147.98,-205.03 151.72,-210.94\"/>\n</g>\n<!-- 4364190320 -->\n<g id=\"node8\" class=\"node\">\n<title>4364190320</title>\n<polygon fill=\"lightblue\" stroke=\"black\" points=\"113,-339 30,-339 30,-309 113,-309 113,-339\"/>\n<text text-anchor=\"middle\" x=\"71.5\" y=\"-327\" font-family=\"monospace\" font-size=\"10.00\">hidden.bias</text>\n<text text-anchor=\"middle\" x=\"71.5\" y=\"-316\" font-family=\"monospace\" font-size=\"10.00\"> (2)</text>\n</g>\n<!-- 4364190320&#45;&gt;4920360096 -->\n<g id=\"edge6\" class=\"edge\">\n<title>4364190320&#45;&gt;4920360096</title>\n<path fill=\"none\" stroke=\"black\" d=\"M71.72,-308.8C71.86,-300.09 72.03,-288.81 72.18,-279.18\"/>\n<polygon fill=\"black\" stroke=\"black\" points=\"75.68,-279.41 72.34,-269.36 68.68,-279.3 75.68,-279.41\"/>\n</g>\n<!-- 4920360144 -->\n<g id=\"node9\" class=\"node\">\n<title>4920360144</title>\n<polygon fill=\"lightgrey\" stroke=\"black\" points=\"219,-267.5 142,-267.5 142,-248.5 219,-248.5 219,-267.5\"/>\n<text text-anchor=\"middle\" x=\"180.5\" y=\"-255.5\" font-family=\"monospace\" font-size=\"10.00\">TBackward0</text>\n</g>\n<!-- 4920360144&#45;&gt;4920360432 -->\n<g id=\"edge7\" class=\"edge\">\n<title>4920360144&#45;&gt;4920360432</title>\n<path fill=\"none\" stroke=\"black\" d=\"M179.53,-248.1C178.54,-239.12 176.99,-224.95 175.71,-213.22\"/>\n<polygon fill=\"black\" stroke=\"black\" points=\"179.2,-212.89 174.63,-203.33 172.24,-213.65 179.2,-212.89\"/>\n</g>\n<!-- 4920360048 -->\n<g id=\"node10\" class=\"node\">\n<title>4920360048</title>\n<polygon fill=\"lightgrey\" stroke=\"black\" points=\"232,-333.5 131,-333.5 131,-314.5 232,-314.5 232,-333.5\"/>\n<text text-anchor=\"middle\" x=\"181.5\" y=\"-321.5\" font-family=\"monospace\" font-size=\"10.00\">AccumulateGrad</text>\n</g>\n<!-- 4920360048&#45;&gt;4920360144 -->\n<g id=\"edge8\" class=\"edge\">\n<title>4920360048&#45;&gt;4920360144</title>\n<path fill=\"none\" stroke=\"black\" d=\"M181.36,-314.1C181.22,-305.12 181,-290.95 180.82,-279.22\"/>\n<polygon fill=\"black\" stroke=\"black\" points=\"184.32,-279.28 180.66,-269.34 177.32,-279.39 184.32,-279.28\"/>\n</g>\n<!-- 4364201600 -->\n<g id=\"node11\" class=\"node\">\n<title>4364201600</title>\n<polygon fill=\"lightblue\" stroke=\"black\" points=\"229,-405 134,-405 134,-375 229,-375 229,-405\"/>\n<text text-anchor=\"middle\" x=\"181.5\" y=\"-393\" font-family=\"monospace\" font-size=\"10.00\">hidden.weight</text>\n<text text-anchor=\"middle\" x=\"181.5\" y=\"-382\" font-family=\"monospace\" font-size=\"10.00\"> (2, 1)</text>\n</g>\n<!-- 4364201600&#45;&gt;4920360048 -->\n<g id=\"edge9\" class=\"edge\">\n<title>4364201600&#45;&gt;4920360048</title>\n<path fill=\"none\" stroke=\"black\" d=\"M181.5,-374.8C181.5,-366.09 181.5,-354.81 181.5,-345.18\"/>\n<polygon fill=\"black\" stroke=\"black\" points=\"185,-345.36 181.5,-335.36 178,-345.36 185,-345.36\"/>\n</g>\n<!-- 4920360288 -->\n<g id=\"node12\" class=\"node\">\n<title>4920360288</title>\n<polygon fill=\"lightgrey\" stroke=\"black\" points=\"328,-141 251,-141 251,-122 328,-122 328,-141\"/>\n<text text-anchor=\"middle\" x=\"289.5\" y=\"-129\" font-family=\"monospace\" font-size=\"10.00\">TBackward0</text>\n</g>\n<!-- 4920360288&#45;&gt;4920360528 -->\n<g id=\"edge10\" class=\"edge\">\n<title>4920360288&#45;&gt;4920360528</title>\n<path fill=\"none\" stroke=\"black\" d=\"M270.16,-121.51C252.28,-113.2 225.46,-100.73 204.93,-91.18\"/>\n<polygon fill=\"black\" stroke=\"black\" points=\"206.47,-88.04 195.93,-87 203.52,-94.39 206.47,-88.04\"/>\n</g>\n<!-- 4920360000 -->\n<g id=\"node13\" class=\"node\">\n<title>4920360000</title>\n<polygon fill=\"lightgrey\" stroke=\"black\" points=\"343,-201.5 242,-201.5 242,-182.5 343,-182.5 343,-201.5\"/>\n<text text-anchor=\"middle\" x=\"292.5\" y=\"-189.5\" font-family=\"monospace\" font-size=\"10.00\">AccumulateGrad</text>\n</g>\n<!-- 4920360000&#45;&gt;4920360288 -->\n<g id=\"edge11\" class=\"edge\">\n<title>4920360000&#45;&gt;4920360288</title>\n<path fill=\"none\" stroke=\"black\" d=\"M292.06,-182.37C291.65,-174.5 291.04,-162.6 290.52,-152.39\"/>\n<polygon fill=\"black\" stroke=\"black\" points=\"294.03,-152.49 290.02,-142.68 287.04,-152.85 294.03,-152.49\"/>\n</g>\n<!-- 4364201680 -->\n<g id=\"node14\" class=\"node\">\n<title>4364201680</title>\n<polygon fill=\"lightblue\" stroke=\"black\" points=\"340,-273 245,-273 245,-243 340,-243 340,-273\"/>\n<text text-anchor=\"middle\" x=\"292.5\" y=\"-261\" font-family=\"monospace\" font-size=\"10.00\">output.weight</text>\n<text text-anchor=\"middle\" x=\"292.5\" y=\"-250\" font-family=\"monospace\" font-size=\"10.00\"> (1, 2)</text>\n</g>\n<!-- 4364201680&#45;&gt;4920360000 -->\n<g id=\"edge12\" class=\"edge\">\n<title>4364201680&#45;&gt;4920360000</title>\n<path fill=\"none\" stroke=\"black\" d=\"M292.5,-242.8C292.5,-234.09 292.5,-222.81 292.5,-213.18\"/>\n<polygon fill=\"black\" stroke=\"black\" points=\"296,-213.36 292.5,-203.36 289,-213.36 296,-213.36\"/>\n</g>\n</g>\n</svg>\n",
      "text/plain": [
       "<graphviz.graphs.Digraph at 0x12546be80>"
      ]
     },
     "execution_count": 14,
     "metadata": {},
     "output_type": "execute_result"
    }
   ],
   "source": [
    "import torchviz\n",
    "torchviz.make_dot(model(torch.ones(1, 1)), params=dict(model.named_parameters()))"
   ]
  },
  {
   "attachments": {},
   "cell_type": "markdown",
   "metadata": {},
   "source": [
    "<br><br><br>"
   ]
  },
  {
   "attachments": {},
   "cell_type": "markdown",
   "metadata": {},
   "source": [
    "## Vanishing/Exploding Gradients"
   ]
  },
  {
   "attachments": {},
   "cell_type": "markdown",
   "metadata": {},
   "source": [
    "- The backpropagation algorithm uses the chain rule to compute the gradients\n",
    "\n",
    "- The chain rule involves multiplying potentially many terms together (depending on the depth of our neural network)\n",
    "\n",
    "- Therefore, we are potentially in danger of vanishing/exploding computations"
   ]
  },
  {
   "attachments": {},
   "cell_type": "markdown",
   "metadata": {},
   "source": [
    "<br><br><br>"
   ]
  },
  {
   "cell_type": "markdown",
   "metadata": {},
   "source": [
    "- Especially when using activation functions such as sigmoid, the situation gets worse:\n",
    "\n",
    "<img src=\"http://ronny.rest/media/blog/2017/2017_08_10_sigmoid/sigmoid_and_derivative_plot.jpg\" width=\"600\">\n",
    "\n",
    "([image source](http://ronny.rest/media/blog/2017/2017_08_10_sigmoid/sigmoid_and_derivative_plot.jpg))"
   ]
  },
  {
   "attachments": {},
   "cell_type": "markdown",
   "metadata": {},
   "source": [
    "Possible solutions:\n",
    "\n",
    "- Using the ReLU activation\n",
    "\n",
    "- Batch normalization\n",
    "\n",
    "- Change learning rate\n",
    "\n",
    "- ResNets\n",
    "\n",
    "- Changing network architecture\n",
    "\n",
    "- Gradient clipping\n",
    "\n",
    "- Different weight initialization"
   ]
  },
  {
   "attachments": {},
   "cell_type": "markdown",
   "metadata": {},
   "source": [
    "<br><br><br>"
   ]
  },
  {
   "cell_type": "markdown",
   "metadata": {
    "tags": []
   },
   "source": [
    "## Training Neural Networks\n"
   ]
  },
  {
   "attachments": {},
   "cell_type": "markdown",
   "metadata": {},
   "source": [
    "- The big takeaway from the last section is that PyTorch's `autograd` takes care of the gradients for us\n",
    "\n",
    "- We just need to put all the pieces together properly\n",
    "- Remember the below `trainer()` function I used last lecture to train my network\n",
    "- Now we know what all this means:"
   ]
  },
  {
   "cell_type": "code",
   "execution_count": 15,
   "metadata": {
    "tags": []
   },
   "outputs": [],
   "source": [
    "def trainer(model, criterion, optimizer, dataloader, epochs=5):\n",
    "    \"\"\"Simple training wrapper for PyTorch network.\"\"\"\n",
    "    \n",
    "    train_loss = []\n",
    "    \n",
    "    for epoch in range(epochs):  # for each epoch\n",
    "        losses = 0\n",
    "        \n",
    "        for X, y in dataloader:  # for each batch\n",
    "            \n",
    "            optimizer.zero_grad()            # Zero all the gradients w.r.t. parameters\n",
    "            \n",
    "            y_hat = model(X).flatten()       # Forward pass to get output\n",
    "            loss = criterion(y_hat, y)       # Calculate loss based on output\n",
    "            loss.backward()                  # Calculate gradients w.r.t. parameters\n",
    "            optimizer.step()                 # Update parameters\n",
    "\n",
    "            losses += loss.item()            # Add loss for this batch to running total\n",
    "            \n",
    "        train_loss.append(losses / len(dataloader))  # loss = total loss in epoch / number of batches = loss per batch\n",
    "        \n",
    "    return train_loss"
   ]
  },
  {
   "attachments": {},
   "cell_type": "markdown",
   "metadata": {
    "tags": []
   },
   "source": [
    "- Notice how I calculate the loss for each epoch by summing up the loss for each batch in that epoch\n",
    "\n",
    "- I then divide the loss for each epoch by the total number of batches to get the average loss per batch in an epoch"
   ]
  },
  {
   "attachments": {},
   "cell_type": "markdown",
   "metadata": {},
   "source": [
    "- If our model is being trained correctly, our loss should go down over time. Let's try it out with some sample data:"
   ]
  },
  {
   "cell_type": "code",
   "execution_count": 16,
   "metadata": {
    "tags": []
   },
   "outputs": [
    {
     "data": {
      "application/vnd.plotly.v1+json": {
       "config": {
        "plotlyServerURL": "https://plot.ly"
       },
       "data": [
        {
         "marker": {
          "size": 10
         },
         "mode": "markers",
         "name": "data",
         "type": "scatter",
         "x": [
          -3,
          -2.8499999046325684,
          -2.700000047683716,
          -2.549999952316284,
          -2.4000000953674316,
          -2.25,
          -2.0999999046325684,
          -1.9499999284744263,
          -1.7999999523162842,
          -1.649999976158142,
          -1.5,
          -1.3499999046325684,
          -1.1999999284744263,
          -1.0499999523162842,
          -0.8999999165534973,
          -0.7499998807907104,
          -0.6000000238418579,
          -0.45000001788139343,
          -0.30000001192092896,
          -0.15000000596046448,
          0,
          0.15000000596046448,
          0.30000001192092896,
          0.45000001788139343,
          0.6000000238418579,
          0.75,
          0.9000000357627869,
          1.0500000715255737,
          1.2000000476837158,
          1.350000023841858,
          1.5,
          1.6500000953674316,
          1.7999999523162842,
          1.9500000476837158,
          2.0999999046325684,
          2.25,
          2.4000000953674316,
          2.549999952316284,
          2.700000047683716,
          2.8499999046325684
         ],
         "y": [
          12.377519607543945,
          11.406725883483887,
          7.966562747955322,
          7.608890533447266,
          3.723095178604126,
          3.505479335784912,
          5.0736260414123535,
          7.927177906036377,
          2.659904956817627,
          4.807002067565918,
          1.7250251770019531,
          1.4065190553665161,
          1.2961900234222412,
          -0.19704091548919678,
          -0.1950995922088623,
          0.7479580640792847,
          1.1715922355651855,
          0.9656691551208496,
          -0.07999515533447266,
          -0.09652626514434814,
          0,
          -0.21076425909996033,
          -0.012408092617988586,
          1.0363527536392212,
          0.23048213124275208,
          0.005588889122009277,
          1.3164488077163696,
          1.3751089572906494,
          1.231246829032898,
          0.9061925411224365,
          3.657391309738159,
          3.5291359424591064,
          5.4058027267456055,
          3.967343330383301,
          1.8897063732147217,
          5.051731586456299,
          4.516620635986328,
          5.720404148101807,
          3.0213170051574707,
          12.986433029174805
         ]
        }
       ],
       "layout": {
        "height": 500,
        "margin": {
         "t": 60
        },
        "template": {
         "data": {
          "bar": [
           {
            "error_x": {
             "color": "#2a3f5f"
            },
            "error_y": {
             "color": "#2a3f5f"
            },
            "marker": {
             "line": {
              "color": "#E5ECF6",
              "width": 0.5
             },
             "pattern": {
              "fillmode": "overlay",
              "size": 10,
              "solidity": 0.2
             }
            },
            "type": "bar"
           }
          ],
          "barpolar": [
           {
            "marker": {
             "line": {
              "color": "#E5ECF6",
              "width": 0.5
             },
             "pattern": {
              "fillmode": "overlay",
              "size": 10,
              "solidity": 0.2
             }
            },
            "type": "barpolar"
           }
          ],
          "carpet": [
           {
            "aaxis": {
             "endlinecolor": "#2a3f5f",
             "gridcolor": "white",
             "linecolor": "white",
             "minorgridcolor": "white",
             "startlinecolor": "#2a3f5f"
            },
            "baxis": {
             "endlinecolor": "#2a3f5f",
             "gridcolor": "white",
             "linecolor": "white",
             "minorgridcolor": "white",
             "startlinecolor": "#2a3f5f"
            },
            "type": "carpet"
           }
          ],
          "choropleth": [
           {
            "colorbar": {
             "outlinewidth": 0,
             "ticks": ""
            },
            "type": "choropleth"
           }
          ],
          "contour": [
           {
            "colorbar": {
             "outlinewidth": 0,
             "ticks": ""
            },
            "colorscale": [
             [
              0,
              "#0d0887"
             ],
             [
              0.1111111111111111,
              "#46039f"
             ],
             [
              0.2222222222222222,
              "#7201a8"
             ],
             [
              0.3333333333333333,
              "#9c179e"
             ],
             [
              0.4444444444444444,
              "#bd3786"
             ],
             [
              0.5555555555555556,
              "#d8576b"
             ],
             [
              0.6666666666666666,
              "#ed7953"
             ],
             [
              0.7777777777777778,
              "#fb9f3a"
             ],
             [
              0.8888888888888888,
              "#fdca26"
             ],
             [
              1,
              "#f0f921"
             ]
            ],
            "type": "contour"
           }
          ],
          "contourcarpet": [
           {
            "colorbar": {
             "outlinewidth": 0,
             "ticks": ""
            },
            "type": "contourcarpet"
           }
          ],
          "heatmap": [
           {
            "colorbar": {
             "outlinewidth": 0,
             "ticks": ""
            },
            "colorscale": [
             [
              0,
              "#0d0887"
             ],
             [
              0.1111111111111111,
              "#46039f"
             ],
             [
              0.2222222222222222,
              "#7201a8"
             ],
             [
              0.3333333333333333,
              "#9c179e"
             ],
             [
              0.4444444444444444,
              "#bd3786"
             ],
             [
              0.5555555555555556,
              "#d8576b"
             ],
             [
              0.6666666666666666,
              "#ed7953"
             ],
             [
              0.7777777777777778,
              "#fb9f3a"
             ],
             [
              0.8888888888888888,
              "#fdca26"
             ],
             [
              1,
              "#f0f921"
             ]
            ],
            "type": "heatmap"
           }
          ],
          "heatmapgl": [
           {
            "colorbar": {
             "outlinewidth": 0,
             "ticks": ""
            },
            "colorscale": [
             [
              0,
              "#0d0887"
             ],
             [
              0.1111111111111111,
              "#46039f"
             ],
             [
              0.2222222222222222,
              "#7201a8"
             ],
             [
              0.3333333333333333,
              "#9c179e"
             ],
             [
              0.4444444444444444,
              "#bd3786"
             ],
             [
              0.5555555555555556,
              "#d8576b"
             ],
             [
              0.6666666666666666,
              "#ed7953"
             ],
             [
              0.7777777777777778,
              "#fb9f3a"
             ],
             [
              0.8888888888888888,
              "#fdca26"
             ],
             [
              1,
              "#f0f921"
             ]
            ],
            "type": "heatmapgl"
           }
          ],
          "histogram": [
           {
            "marker": {
             "pattern": {
              "fillmode": "overlay",
              "size": 10,
              "solidity": 0.2
             }
            },
            "type": "histogram"
           }
          ],
          "histogram2d": [
           {
            "colorbar": {
             "outlinewidth": 0,
             "ticks": ""
            },
            "colorscale": [
             [
              0,
              "#0d0887"
             ],
             [
              0.1111111111111111,
              "#46039f"
             ],
             [
              0.2222222222222222,
              "#7201a8"
             ],
             [
              0.3333333333333333,
              "#9c179e"
             ],
             [
              0.4444444444444444,
              "#bd3786"
             ],
             [
              0.5555555555555556,
              "#d8576b"
             ],
             [
              0.6666666666666666,
              "#ed7953"
             ],
             [
              0.7777777777777778,
              "#fb9f3a"
             ],
             [
              0.8888888888888888,
              "#fdca26"
             ],
             [
              1,
              "#f0f921"
             ]
            ],
            "type": "histogram2d"
           }
          ],
          "histogram2dcontour": [
           {
            "colorbar": {
             "outlinewidth": 0,
             "ticks": ""
            },
            "colorscale": [
             [
              0,
              "#0d0887"
             ],
             [
              0.1111111111111111,
              "#46039f"
             ],
             [
              0.2222222222222222,
              "#7201a8"
             ],
             [
              0.3333333333333333,
              "#9c179e"
             ],
             [
              0.4444444444444444,
              "#bd3786"
             ],
             [
              0.5555555555555556,
              "#d8576b"
             ],
             [
              0.6666666666666666,
              "#ed7953"
             ],
             [
              0.7777777777777778,
              "#fb9f3a"
             ],
             [
              0.8888888888888888,
              "#fdca26"
             ],
             [
              1,
              "#f0f921"
             ]
            ],
            "type": "histogram2dcontour"
           }
          ],
          "mesh3d": [
           {
            "colorbar": {
             "outlinewidth": 0,
             "ticks": ""
            },
            "type": "mesh3d"
           }
          ],
          "parcoords": [
           {
            "line": {
             "colorbar": {
              "outlinewidth": 0,
              "ticks": ""
             }
            },
            "type": "parcoords"
           }
          ],
          "pie": [
           {
            "automargin": true,
            "type": "pie"
           }
          ],
          "scatter": [
           {
            "fillpattern": {
             "fillmode": "overlay",
             "size": 10,
             "solidity": 0.2
            },
            "type": "scatter"
           }
          ],
          "scatter3d": [
           {
            "line": {
             "colorbar": {
              "outlinewidth": 0,
              "ticks": ""
             }
            },
            "marker": {
             "colorbar": {
              "outlinewidth": 0,
              "ticks": ""
             }
            },
            "type": "scatter3d"
           }
          ],
          "scattercarpet": [
           {
            "marker": {
             "colorbar": {
              "outlinewidth": 0,
              "ticks": ""
             }
            },
            "type": "scattercarpet"
           }
          ],
          "scattergeo": [
           {
            "marker": {
             "colorbar": {
              "outlinewidth": 0,
              "ticks": ""
             }
            },
            "type": "scattergeo"
           }
          ],
          "scattergl": [
           {
            "marker": {
             "colorbar": {
              "outlinewidth": 0,
              "ticks": ""
             }
            },
            "type": "scattergl"
           }
          ],
          "scattermapbox": [
           {
            "marker": {
             "colorbar": {
              "outlinewidth": 0,
              "ticks": ""
             }
            },
            "type": "scattermapbox"
           }
          ],
          "scatterpolar": [
           {
            "marker": {
             "colorbar": {
              "outlinewidth": 0,
              "ticks": ""
             }
            },
            "type": "scatterpolar"
           }
          ],
          "scatterpolargl": [
           {
            "marker": {
             "colorbar": {
              "outlinewidth": 0,
              "ticks": ""
             }
            },
            "type": "scatterpolargl"
           }
          ],
          "scatterternary": [
           {
            "marker": {
             "colorbar": {
              "outlinewidth": 0,
              "ticks": ""
             }
            },
            "type": "scatterternary"
           }
          ],
          "surface": [
           {
            "colorbar": {
             "outlinewidth": 0,
             "ticks": ""
            },
            "colorscale": [
             [
              0,
              "#0d0887"
             ],
             [
              0.1111111111111111,
              "#46039f"
             ],
             [
              0.2222222222222222,
              "#7201a8"
             ],
             [
              0.3333333333333333,
              "#9c179e"
             ],
             [
              0.4444444444444444,
              "#bd3786"
             ],
             [
              0.5555555555555556,
              "#d8576b"
             ],
             [
              0.6666666666666666,
              "#ed7953"
             ],
             [
              0.7777777777777778,
              "#fb9f3a"
             ],
             [
              0.8888888888888888,
              "#fdca26"
             ],
             [
              1,
              "#f0f921"
             ]
            ],
            "type": "surface"
           }
          ],
          "table": [
           {
            "cells": {
             "fill": {
              "color": "#EBF0F8"
             },
             "line": {
              "color": "white"
             }
            },
            "header": {
             "fill": {
              "color": "#C8D4E3"
             },
             "line": {
              "color": "white"
             }
            },
            "type": "table"
           }
          ]
         },
         "layout": {
          "annotationdefaults": {
           "arrowcolor": "#2a3f5f",
           "arrowhead": 0,
           "arrowwidth": 1
          },
          "autotypenumbers": "strict",
          "coloraxis": {
           "colorbar": {
            "outlinewidth": 0,
            "ticks": ""
           }
          },
          "colorscale": {
           "diverging": [
            [
             0,
             "#8e0152"
            ],
            [
             0.1,
             "#c51b7d"
            ],
            [
             0.2,
             "#de77ae"
            ],
            [
             0.3,
             "#f1b6da"
            ],
            [
             0.4,
             "#fde0ef"
            ],
            [
             0.5,
             "#f7f7f7"
            ],
            [
             0.6,
             "#e6f5d0"
            ],
            [
             0.7,
             "#b8e186"
            ],
            [
             0.8,
             "#7fbc41"
            ],
            [
             0.9,
             "#4d9221"
            ],
            [
             1,
             "#276419"
            ]
           ],
           "sequential": [
            [
             0,
             "#0d0887"
            ],
            [
             0.1111111111111111,
             "#46039f"
            ],
            [
             0.2222222222222222,
             "#7201a8"
            ],
            [
             0.3333333333333333,
             "#9c179e"
            ],
            [
             0.4444444444444444,
             "#bd3786"
            ],
            [
             0.5555555555555556,
             "#d8576b"
            ],
            [
             0.6666666666666666,
             "#ed7953"
            ],
            [
             0.7777777777777778,
             "#fb9f3a"
            ],
            [
             0.8888888888888888,
             "#fdca26"
            ],
            [
             1,
             "#f0f921"
            ]
           ],
           "sequentialminus": [
            [
             0,
             "#0d0887"
            ],
            [
             0.1111111111111111,
             "#46039f"
            ],
            [
             0.2222222222222222,
             "#7201a8"
            ],
            [
             0.3333333333333333,
             "#9c179e"
            ],
            [
             0.4444444444444444,
             "#bd3786"
            ],
            [
             0.5555555555555556,
             "#d8576b"
            ],
            [
             0.6666666666666666,
             "#ed7953"
            ],
            [
             0.7777777777777778,
             "#fb9f3a"
            ],
            [
             0.8888888888888888,
             "#fdca26"
            ],
            [
             1,
             "#f0f921"
            ]
           ]
          },
          "colorway": [
           "#636efa",
           "#EF553B",
           "#00cc96",
           "#ab63fa",
           "#FFA15A",
           "#19d3f3",
           "#FF6692",
           "#B6E880",
           "#FF97FF",
           "#FECB52"
          ],
          "font": {
           "color": "#2a3f5f"
          },
          "geo": {
           "bgcolor": "white",
           "lakecolor": "white",
           "landcolor": "#E5ECF6",
           "showlakes": true,
           "showland": true,
           "subunitcolor": "white"
          },
          "hoverlabel": {
           "align": "left"
          },
          "hovermode": "closest",
          "mapbox": {
           "style": "light"
          },
          "paper_bgcolor": "white",
          "plot_bgcolor": "#E5ECF6",
          "polar": {
           "angularaxis": {
            "gridcolor": "white",
            "linecolor": "white",
            "ticks": ""
           },
           "bgcolor": "#E5ECF6",
           "radialaxis": {
            "gridcolor": "white",
            "linecolor": "white",
            "ticks": ""
           }
          },
          "scene": {
           "xaxis": {
            "backgroundcolor": "#E5ECF6",
            "gridcolor": "white",
            "gridwidth": 2,
            "linecolor": "white",
            "showbackground": true,
            "ticks": "",
            "zerolinecolor": "white"
           },
           "yaxis": {
            "backgroundcolor": "#E5ECF6",
            "gridcolor": "white",
            "gridwidth": 2,
            "linecolor": "white",
            "showbackground": true,
            "ticks": "",
            "zerolinecolor": "white"
           },
           "zaxis": {
            "backgroundcolor": "#E5ECF6",
            "gridcolor": "white",
            "gridwidth": 2,
            "linecolor": "white",
            "showbackground": true,
            "ticks": "",
            "zerolinecolor": "white"
           }
          },
          "shapedefaults": {
           "line": {
            "color": "#2a3f5f"
           }
          },
          "ternary": {
           "aaxis": {
            "gridcolor": "white",
            "linecolor": "white",
            "ticks": ""
           },
           "baxis": {
            "gridcolor": "white",
            "linecolor": "white",
            "ticks": ""
           },
           "bgcolor": "#E5ECF6",
           "caxis": {
            "gridcolor": "white",
            "linecolor": "white",
            "ticks": ""
           }
          },
          "title": {
           "x": 0.05
          },
          "xaxis": {
           "automargin": true,
           "gridcolor": "white",
           "linecolor": "white",
           "ticks": "",
           "title": {
            "standoff": 15
           },
           "zerolinecolor": "white",
           "zerolinewidth": 2
          },
          "yaxis": {
           "automargin": true,
           "gridcolor": "white",
           "linecolor": "white",
           "ticks": "",
           "title": {
            "standoff": 15
           },
           "zerolinecolor": "white",
           "zerolinewidth": 2
          }
         }
        },
        "title": {
         "x": 0.5,
         "y": 0.93
        },
        "width": 500,
        "xaxis": {
         "dtick": 1,
         "range": [
          -3,
          3
         ],
         "tick0": -3,
         "title": {
          "text": "x"
         }
        },
        "yaxis": {
         "dtick": 1,
         "range": [
          -1,
          10
         ],
         "tick0": -1,
         "title": {
          "text": "y"
         }
        }
       }
      }
     },
     "metadata": {},
     "output_type": "display_data"
    }
   ],
   "source": [
    "torch.manual_seed(0)\n",
    "\n",
    "X = torch.arange(-3, 3, 0.15)\n",
    "y = X ** 2 + X * torch.normal(0, 1, (40,))\n",
    "\n",
    "dataloader = DataLoader(TensorDataset(X[:, None], y), batch_size=1, shuffle=True)\n",
    "\n",
    "plot_regression(X, y, y_range=[-1, 10], dy=1)"
   ]
  },
  {
   "cell_type": "code",
   "execution_count": 17,
   "metadata": {
    "tags": []
   },
   "outputs": [],
   "source": [
    "model = network(1, 3, 1)\n",
    "criterion = torch.nn.MSELoss()\n",
    "optimizer = torch.optim.Adam(model.parameters(), lr=0.1)"
   ]
  },
  {
   "cell_type": "code",
   "execution_count": 18,
   "metadata": {
    "tags": []
   },
   "outputs": [],
   "source": [
    "train_loss = trainer(model, criterion, optimizer, dataloader, epochs=101)"
   ]
  },
  {
   "cell_type": "code",
   "execution_count": 19,
   "metadata": {
    "tags": []
   },
   "outputs": [
    {
     "data": {
      "application/vnd.plotly.v1+json": {
       "config": {
        "plotlyServerURL": "https://plot.ly"
       },
       "data": [
        {
         "marker": {
          "size": 10
         },
         "mode": "markers",
         "name": "data",
         "type": "scatter",
         "x": [
          -3,
          -2.8499999046325684,
          -2.700000047683716,
          -2.549999952316284,
          -2.4000000953674316,
          -2.25,
          -2.0999999046325684,
          -1.9499999284744263,
          -1.7999999523162842,
          -1.649999976158142,
          -1.5,
          -1.3499999046325684,
          -1.1999999284744263,
          -1.0499999523162842,
          -0.8999999165534973,
          -0.7499998807907104,
          -0.6000000238418579,
          -0.45000001788139343,
          -0.30000001192092896,
          -0.15000000596046448,
          0,
          0.15000000596046448,
          0.30000001192092896,
          0.45000001788139343,
          0.6000000238418579,
          0.75,
          0.9000000357627869,
          1.0500000715255737,
          1.2000000476837158,
          1.350000023841858,
          1.5,
          1.6500000953674316,
          1.7999999523162842,
          1.9500000476837158,
          2.0999999046325684,
          2.25,
          2.4000000953674316,
          2.549999952316284,
          2.700000047683716,
          2.8499999046325684
         ],
         "y": [
          12.377519607543945,
          11.406725883483887,
          7.966562747955322,
          7.608890533447266,
          3.723095178604126,
          3.505479335784912,
          5.0736260414123535,
          7.927177906036377,
          2.659904956817627,
          4.807002067565918,
          1.7250251770019531,
          1.4065190553665161,
          1.2961900234222412,
          -0.19704091548919678,
          -0.1950995922088623,
          0.7479580640792847,
          1.1715922355651855,
          0.9656691551208496,
          -0.07999515533447266,
          -0.09652626514434814,
          0,
          -0.21076425909996033,
          -0.012408092617988586,
          1.0363527536392212,
          0.23048213124275208,
          0.005588889122009277,
          1.3164488077163696,
          1.3751089572906494,
          1.231246829032898,
          0.9061925411224365,
          3.657391309738159,
          3.5291359424591064,
          5.4058027267456055,
          3.967343330383301,
          1.8897063732147217,
          5.051731586456299,
          4.516620635986328,
          5.720404148101807,
          3.0213170051574707,
          12.986433029174805
         ]
        },
        {
         "line": {
          "color": "red",
          "width": 3
         },
         "mode": "lines",
         "name": "Fitted line",
         "type": "scatter",
         "x": [
          -3,
          -2.8499999046325684,
          -2.700000047683716,
          -2.549999952316284,
          -2.4000000953674316,
          -2.25,
          -2.0999999046325684,
          -1.9499999284744263,
          -1.7999999523162842,
          -1.649999976158142,
          -1.5,
          -1.3499999046325684,
          -1.1999999284744263,
          -1.0499999523162842,
          -0.8999999165534973,
          -0.7499998807907104,
          -0.6000000238418579,
          -0.45000001788139343,
          -0.30000001192092896,
          -0.15000000596046448,
          0,
          0.15000000596046448,
          0.30000001192092896,
          0.45000001788139343,
          0.6000000238418579,
          0.75,
          0.9000000357627869,
          1.0500000715255737,
          1.2000000476837158,
          1.350000023841858,
          1.5,
          1.6500000953674316,
          1.7999999523162842,
          1.9500000476837158,
          2.0999999046325684,
          2.25,
          2.4000000953674316,
          2.549999952316284,
          2.700000047683716,
          2.8499999046325684
         ],
         "y": [
          11.922944068908691,
          10.677321434020996,
          9.109387397766113,
          7.525234222412109,
          6.235655784606934,
          5.339663505554199,
          4.743923187255859,
          4.287643909454346,
          3.815664052963257,
          3.213897466659546,
          2.463829517364502,
          1.680734395980835,
          1.029628038406372,
          0.5880247354507446,
          0.32919231057167053,
          0.19073772430419922,
          0.12086255848407745,
          0.08748602867126465,
          0.07324543595314026,
          0.06949016451835632,
          0.07232676446437836,
          0.08046692609786987,
          0.09418891370296478,
          0.11492456495761871,
          0.1451995074748993,
          0.18878640234470367,
          0.2509894371032715,
          0.3389832079410553,
          0.462079256772995,
          0.6316888332366943,
          0.8605997562408447,
          1.1610788106918335,
          1.5414382219314575,
          2.001389265060425,
          2.5277979373931885,
          3.0936224460601807,
          3.6622307300567627,
          4.196277618408203,
          4.666940212249756,
          5.059035778045654
         ]
        }
       ],
       "layout": {
        "height": 500,
        "margin": {
         "t": 60
        },
        "template": {
         "data": {
          "bar": [
           {
            "error_x": {
             "color": "#2a3f5f"
            },
            "error_y": {
             "color": "#2a3f5f"
            },
            "marker": {
             "line": {
              "color": "#E5ECF6",
              "width": 0.5
             },
             "pattern": {
              "fillmode": "overlay",
              "size": 10,
              "solidity": 0.2
             }
            },
            "type": "bar"
           }
          ],
          "barpolar": [
           {
            "marker": {
             "line": {
              "color": "#E5ECF6",
              "width": 0.5
             },
             "pattern": {
              "fillmode": "overlay",
              "size": 10,
              "solidity": 0.2
             }
            },
            "type": "barpolar"
           }
          ],
          "carpet": [
           {
            "aaxis": {
             "endlinecolor": "#2a3f5f",
             "gridcolor": "white",
             "linecolor": "white",
             "minorgridcolor": "white",
             "startlinecolor": "#2a3f5f"
            },
            "baxis": {
             "endlinecolor": "#2a3f5f",
             "gridcolor": "white",
             "linecolor": "white",
             "minorgridcolor": "white",
             "startlinecolor": "#2a3f5f"
            },
            "type": "carpet"
           }
          ],
          "choropleth": [
           {
            "colorbar": {
             "outlinewidth": 0,
             "ticks": ""
            },
            "type": "choropleth"
           }
          ],
          "contour": [
           {
            "colorbar": {
             "outlinewidth": 0,
             "ticks": ""
            },
            "colorscale": [
             [
              0,
              "#0d0887"
             ],
             [
              0.1111111111111111,
              "#46039f"
             ],
             [
              0.2222222222222222,
              "#7201a8"
             ],
             [
              0.3333333333333333,
              "#9c179e"
             ],
             [
              0.4444444444444444,
              "#bd3786"
             ],
             [
              0.5555555555555556,
              "#d8576b"
             ],
             [
              0.6666666666666666,
              "#ed7953"
             ],
             [
              0.7777777777777778,
              "#fb9f3a"
             ],
             [
              0.8888888888888888,
              "#fdca26"
             ],
             [
              1,
              "#f0f921"
             ]
            ],
            "type": "contour"
           }
          ],
          "contourcarpet": [
           {
            "colorbar": {
             "outlinewidth": 0,
             "ticks": ""
            },
            "type": "contourcarpet"
           }
          ],
          "heatmap": [
           {
            "colorbar": {
             "outlinewidth": 0,
             "ticks": ""
            },
            "colorscale": [
             [
              0,
              "#0d0887"
             ],
             [
              0.1111111111111111,
              "#46039f"
             ],
             [
              0.2222222222222222,
              "#7201a8"
             ],
             [
              0.3333333333333333,
              "#9c179e"
             ],
             [
              0.4444444444444444,
              "#bd3786"
             ],
             [
              0.5555555555555556,
              "#d8576b"
             ],
             [
              0.6666666666666666,
              "#ed7953"
             ],
             [
              0.7777777777777778,
              "#fb9f3a"
             ],
             [
              0.8888888888888888,
              "#fdca26"
             ],
             [
              1,
              "#f0f921"
             ]
            ],
            "type": "heatmap"
           }
          ],
          "heatmapgl": [
           {
            "colorbar": {
             "outlinewidth": 0,
             "ticks": ""
            },
            "colorscale": [
             [
              0,
              "#0d0887"
             ],
             [
              0.1111111111111111,
              "#46039f"
             ],
             [
              0.2222222222222222,
              "#7201a8"
             ],
             [
              0.3333333333333333,
              "#9c179e"
             ],
             [
              0.4444444444444444,
              "#bd3786"
             ],
             [
              0.5555555555555556,
              "#d8576b"
             ],
             [
              0.6666666666666666,
              "#ed7953"
             ],
             [
              0.7777777777777778,
              "#fb9f3a"
             ],
             [
              0.8888888888888888,
              "#fdca26"
             ],
             [
              1,
              "#f0f921"
             ]
            ],
            "type": "heatmapgl"
           }
          ],
          "histogram": [
           {
            "marker": {
             "pattern": {
              "fillmode": "overlay",
              "size": 10,
              "solidity": 0.2
             }
            },
            "type": "histogram"
           }
          ],
          "histogram2d": [
           {
            "colorbar": {
             "outlinewidth": 0,
             "ticks": ""
            },
            "colorscale": [
             [
              0,
              "#0d0887"
             ],
             [
              0.1111111111111111,
              "#46039f"
             ],
             [
              0.2222222222222222,
              "#7201a8"
             ],
             [
              0.3333333333333333,
              "#9c179e"
             ],
             [
              0.4444444444444444,
              "#bd3786"
             ],
             [
              0.5555555555555556,
              "#d8576b"
             ],
             [
              0.6666666666666666,
              "#ed7953"
             ],
             [
              0.7777777777777778,
              "#fb9f3a"
             ],
             [
              0.8888888888888888,
              "#fdca26"
             ],
             [
              1,
              "#f0f921"
             ]
            ],
            "type": "histogram2d"
           }
          ],
          "histogram2dcontour": [
           {
            "colorbar": {
             "outlinewidth": 0,
             "ticks": ""
            },
            "colorscale": [
             [
              0,
              "#0d0887"
             ],
             [
              0.1111111111111111,
              "#46039f"
             ],
             [
              0.2222222222222222,
              "#7201a8"
             ],
             [
              0.3333333333333333,
              "#9c179e"
             ],
             [
              0.4444444444444444,
              "#bd3786"
             ],
             [
              0.5555555555555556,
              "#d8576b"
             ],
             [
              0.6666666666666666,
              "#ed7953"
             ],
             [
              0.7777777777777778,
              "#fb9f3a"
             ],
             [
              0.8888888888888888,
              "#fdca26"
             ],
             [
              1,
              "#f0f921"
             ]
            ],
            "type": "histogram2dcontour"
           }
          ],
          "mesh3d": [
           {
            "colorbar": {
             "outlinewidth": 0,
             "ticks": ""
            },
            "type": "mesh3d"
           }
          ],
          "parcoords": [
           {
            "line": {
             "colorbar": {
              "outlinewidth": 0,
              "ticks": ""
             }
            },
            "type": "parcoords"
           }
          ],
          "pie": [
           {
            "automargin": true,
            "type": "pie"
           }
          ],
          "scatter": [
           {
            "fillpattern": {
             "fillmode": "overlay",
             "size": 10,
             "solidity": 0.2
            },
            "type": "scatter"
           }
          ],
          "scatter3d": [
           {
            "line": {
             "colorbar": {
              "outlinewidth": 0,
              "ticks": ""
             }
            },
            "marker": {
             "colorbar": {
              "outlinewidth": 0,
              "ticks": ""
             }
            },
            "type": "scatter3d"
           }
          ],
          "scattercarpet": [
           {
            "marker": {
             "colorbar": {
              "outlinewidth": 0,
              "ticks": ""
             }
            },
            "type": "scattercarpet"
           }
          ],
          "scattergeo": [
           {
            "marker": {
             "colorbar": {
              "outlinewidth": 0,
              "ticks": ""
             }
            },
            "type": "scattergeo"
           }
          ],
          "scattergl": [
           {
            "marker": {
             "colorbar": {
              "outlinewidth": 0,
              "ticks": ""
             }
            },
            "type": "scattergl"
           }
          ],
          "scattermapbox": [
           {
            "marker": {
             "colorbar": {
              "outlinewidth": 0,
              "ticks": ""
             }
            },
            "type": "scattermapbox"
           }
          ],
          "scatterpolar": [
           {
            "marker": {
             "colorbar": {
              "outlinewidth": 0,
              "ticks": ""
             }
            },
            "type": "scatterpolar"
           }
          ],
          "scatterpolargl": [
           {
            "marker": {
             "colorbar": {
              "outlinewidth": 0,
              "ticks": ""
             }
            },
            "type": "scatterpolargl"
           }
          ],
          "scatterternary": [
           {
            "marker": {
             "colorbar": {
              "outlinewidth": 0,
              "ticks": ""
             }
            },
            "type": "scatterternary"
           }
          ],
          "surface": [
           {
            "colorbar": {
             "outlinewidth": 0,
             "ticks": ""
            },
            "colorscale": [
             [
              0,
              "#0d0887"
             ],
             [
              0.1111111111111111,
              "#46039f"
             ],
             [
              0.2222222222222222,
              "#7201a8"
             ],
             [
              0.3333333333333333,
              "#9c179e"
             ],
             [
              0.4444444444444444,
              "#bd3786"
             ],
             [
              0.5555555555555556,
              "#d8576b"
             ],
             [
              0.6666666666666666,
              "#ed7953"
             ],
             [
              0.7777777777777778,
              "#fb9f3a"
             ],
             [
              0.8888888888888888,
              "#fdca26"
             ],
             [
              1,
              "#f0f921"
             ]
            ],
            "type": "surface"
           }
          ],
          "table": [
           {
            "cells": {
             "fill": {
              "color": "#EBF0F8"
             },
             "line": {
              "color": "white"
             }
            },
            "header": {
             "fill": {
              "color": "#C8D4E3"
             },
             "line": {
              "color": "white"
             }
            },
            "type": "table"
           }
          ]
         },
         "layout": {
          "annotationdefaults": {
           "arrowcolor": "#2a3f5f",
           "arrowhead": 0,
           "arrowwidth": 1
          },
          "autotypenumbers": "strict",
          "coloraxis": {
           "colorbar": {
            "outlinewidth": 0,
            "ticks": ""
           }
          },
          "colorscale": {
           "diverging": [
            [
             0,
             "#8e0152"
            ],
            [
             0.1,
             "#c51b7d"
            ],
            [
             0.2,
             "#de77ae"
            ],
            [
             0.3,
             "#f1b6da"
            ],
            [
             0.4,
             "#fde0ef"
            ],
            [
             0.5,
             "#f7f7f7"
            ],
            [
             0.6,
             "#e6f5d0"
            ],
            [
             0.7,
             "#b8e186"
            ],
            [
             0.8,
             "#7fbc41"
            ],
            [
             0.9,
             "#4d9221"
            ],
            [
             1,
             "#276419"
            ]
           ],
           "sequential": [
            [
             0,
             "#0d0887"
            ],
            [
             0.1111111111111111,
             "#46039f"
            ],
            [
             0.2222222222222222,
             "#7201a8"
            ],
            [
             0.3333333333333333,
             "#9c179e"
            ],
            [
             0.4444444444444444,
             "#bd3786"
            ],
            [
             0.5555555555555556,
             "#d8576b"
            ],
            [
             0.6666666666666666,
             "#ed7953"
            ],
            [
             0.7777777777777778,
             "#fb9f3a"
            ],
            [
             0.8888888888888888,
             "#fdca26"
            ],
            [
             1,
             "#f0f921"
            ]
           ],
           "sequentialminus": [
            [
             0,
             "#0d0887"
            ],
            [
             0.1111111111111111,
             "#46039f"
            ],
            [
             0.2222222222222222,
             "#7201a8"
            ],
            [
             0.3333333333333333,
             "#9c179e"
            ],
            [
             0.4444444444444444,
             "#bd3786"
            ],
            [
             0.5555555555555556,
             "#d8576b"
            ],
            [
             0.6666666666666666,
             "#ed7953"
            ],
            [
             0.7777777777777778,
             "#fb9f3a"
            ],
            [
             0.8888888888888888,
             "#fdca26"
            ],
            [
             1,
             "#f0f921"
            ]
           ]
          },
          "colorway": [
           "#636efa",
           "#EF553B",
           "#00cc96",
           "#ab63fa",
           "#FFA15A",
           "#19d3f3",
           "#FF6692",
           "#B6E880",
           "#FF97FF",
           "#FECB52"
          ],
          "font": {
           "color": "#2a3f5f"
          },
          "geo": {
           "bgcolor": "white",
           "lakecolor": "white",
           "landcolor": "#E5ECF6",
           "showlakes": true,
           "showland": true,
           "subunitcolor": "white"
          },
          "hoverlabel": {
           "align": "left"
          },
          "hovermode": "closest",
          "mapbox": {
           "style": "light"
          },
          "paper_bgcolor": "white",
          "plot_bgcolor": "#E5ECF6",
          "polar": {
           "angularaxis": {
            "gridcolor": "white",
            "linecolor": "white",
            "ticks": ""
           },
           "bgcolor": "#E5ECF6",
           "radialaxis": {
            "gridcolor": "white",
            "linecolor": "white",
            "ticks": ""
           }
          },
          "scene": {
           "xaxis": {
            "backgroundcolor": "#E5ECF6",
            "gridcolor": "white",
            "gridwidth": 2,
            "linecolor": "white",
            "showbackground": true,
            "ticks": "",
            "zerolinecolor": "white"
           },
           "yaxis": {
            "backgroundcolor": "#E5ECF6",
            "gridcolor": "white",
            "gridwidth": 2,
            "linecolor": "white",
            "showbackground": true,
            "ticks": "",
            "zerolinecolor": "white"
           },
           "zaxis": {
            "backgroundcolor": "#E5ECF6",
            "gridcolor": "white",
            "gridwidth": 2,
            "linecolor": "white",
            "showbackground": true,
            "ticks": "",
            "zerolinecolor": "white"
           }
          },
          "shapedefaults": {
           "line": {
            "color": "#2a3f5f"
           }
          },
          "ternary": {
           "aaxis": {
            "gridcolor": "white",
            "linecolor": "white",
            "ticks": ""
           },
           "baxis": {
            "gridcolor": "white",
            "linecolor": "white",
            "ticks": ""
           },
           "bgcolor": "#E5ECF6",
           "caxis": {
            "gridcolor": "white",
            "linecolor": "white",
            "ticks": ""
           }
          },
          "title": {
           "x": 0.05
          },
          "xaxis": {
           "automargin": true,
           "gridcolor": "white",
           "linecolor": "white",
           "ticks": "",
           "title": {
            "standoff": 15
           },
           "zerolinecolor": "white",
           "zerolinewidth": 2
          },
          "yaxis": {
           "automargin": true,
           "gridcolor": "white",
           "linecolor": "white",
           "ticks": "",
           "title": {
            "standoff": 15
           },
           "zerolinecolor": "white",
           "zerolinewidth": 2
          }
         }
        },
        "title": {
         "x": 0.46,
         "y": 0.93
        },
        "width": 550,
        "xaxis": {
         "dtick": 1,
         "range": [
          -3,
          3
         ],
         "tick0": -3,
         "title": {
          "text": "x"
         }
        },
        "yaxis": {
         "dtick": 1,
         "range": [
          -1,
          10
         ],
         "tick0": -1,
         "title": {
          "text": "y"
         }
        }
       }
      }
     },
     "metadata": {},
     "output_type": "display_data"
    }
   ],
   "source": [
    "plot_regression(X, y, model(X[:, None]).detach(), y_range=[-1, 10], dy=1)"
   ]
  },
  {
   "cell_type": "markdown",
   "metadata": {
    "tags": []
   },
   "source": [
    "- The model looks like a good fit, so presumably the loss went down as epochs progressed, let's take a look:"
   ]
  },
  {
   "cell_type": "code",
   "execution_count": 20,
   "metadata": {
    "tags": []
   },
   "outputs": [
    {
     "data": {
      "application/vnd.plotly.v1+json": {
       "config": {
        "plotlyServerURL": "https://plot.ly"
       },
       "data": [
        {
         "line": {
          "width": 2
         },
         "mode": "lines",
         "name": "Training loss",
         "type": "scatter",
         "x": [
          0,
          1,
          2,
          3,
          4,
          5,
          6,
          7,
          8,
          9,
          10,
          11,
          12,
          13,
          14,
          15,
          16,
          17,
          18,
          19,
          20,
          21,
          22,
          23,
          24,
          25,
          26,
          27,
          28,
          29,
          30,
          31,
          32,
          33,
          34,
          35,
          36,
          37,
          38,
          39,
          40,
          41,
          42,
          43,
          44,
          45,
          46,
          47,
          48,
          49,
          50,
          51,
          52,
          53,
          54,
          55,
          56,
          57,
          58,
          59,
          60,
          61,
          62,
          63,
          64,
          65,
          66,
          67,
          68,
          69,
          70,
          71,
          72,
          73,
          74,
          75,
          76,
          77,
          78,
          79,
          80,
          81,
          82,
          83,
          84,
          85,
          86,
          87,
          88,
          89,
          90,
          91,
          92,
          93,
          94,
          95,
          96,
          97,
          98,
          99,
          100
         ],
         "y": [
          14.614317782223225,
          12.140598188259172,
          11.41192047629438,
          10.398499541183991,
          7.884683882258832,
          6.654116318724118,
          6.47368622305803,
          5.262466707691783,
          6.349665094266119,
          5.012085140985437,
          4.335144201897128,
          4.489531214861199,
          4.036822831165045,
          5.1259728509190605,
          4.982941045207918,
          4.147079673141707,
          4.487892958373232,
          4.446061067795381,
          4.341068168054335,
          4.181850764757837,
          4.175884120792034,
          4.0665237972454635,
          4.529787290596869,
          4.220649506650625,
          4.078517830645433,
          4.403896326115591,
          4.344120026205201,
          3.881258310136036,
          4.314375669599395,
          3.8750206453449207,
          4.074994662497192,
          4.218186859996058,
          3.9399259207537396,
          4.402914657096517,
          4.405632262946165,
          4.568503888312262,
          3.9454609293403338,
          3.594989340724351,
          3.821272604729893,
          3.672204099962255,
          4.597310192850273,
          4.53686908284435,
          4.599916311400011,
          3.8449621715946707,
          3.513086450286937,
          3.5702486678528884,
          3.433037164536654,
          4.161825734464219,
          4.293965417309664,
          4.313368853955763,
          4.289359192410484,
          3.4944945462280885,
          4.306389678654886,
          3.9067546349913753,
          3.668171174818417,
          3.650544132347568,
          4.146253226266708,
          4.111107641851413,
          3.4970011699275347,
          3.5590958367909478,
          4.477885763865743,
          3.7624837425144504,
          3.407261937094154,
          3.9208195979124865,
          3.4333316281655923,
          3.469023265657415,
          3.3828347675859733,
          4.3676670484710485,
          3.805437278718455,
          3.670094122146838,
          4.307942640082911,
          3.2352309786030675,
          3.4772745276335626,
          4.7686928131834065,
          3.439646001575966,
          3.43843730372173,
          3.1534452161169613,
          3.4044313436432274,
          3.3261549821640983,
          3.4261334085487762,
          3.404448750278971,
          3.2750780296119046,
          3.5139809513731963,
          3.714340576489485,
          3.322824707289692,
          3.269933704414643,
          3.4293331882276106,
          3.6931091528658726,
          3.177613943978213,
          3.4854480023961516,
          3.320109788398258,
          3.5468411192297937,
          3.623395442031324,
          3.8651748704454802,
          3.1200422341236846,
          3.787276856281096,
          3.0939922502555417,
          3.240191086588493,
          3.0817770118592307,
          3.34565486368665,
          2.9353023233416025
         ]
        }
       ],
       "layout": {
        "height": 400,
        "legend": {
         "x": 0.434,
         "xanchor": "left",
         "y": 0.99,
         "yanchor": "top"
        },
        "margin": {
         "t": 60
        },
        "template": {
         "data": {
          "bar": [
           {
            "error_x": {
             "color": "#2a3f5f"
            },
            "error_y": {
             "color": "#2a3f5f"
            },
            "marker": {
             "line": {
              "color": "#E5ECF6",
              "width": 0.5
             },
             "pattern": {
              "fillmode": "overlay",
              "size": 10,
              "solidity": 0.2
             }
            },
            "type": "bar"
           }
          ],
          "barpolar": [
           {
            "marker": {
             "line": {
              "color": "#E5ECF6",
              "width": 0.5
             },
             "pattern": {
              "fillmode": "overlay",
              "size": 10,
              "solidity": 0.2
             }
            },
            "type": "barpolar"
           }
          ],
          "carpet": [
           {
            "aaxis": {
             "endlinecolor": "#2a3f5f",
             "gridcolor": "white",
             "linecolor": "white",
             "minorgridcolor": "white",
             "startlinecolor": "#2a3f5f"
            },
            "baxis": {
             "endlinecolor": "#2a3f5f",
             "gridcolor": "white",
             "linecolor": "white",
             "minorgridcolor": "white",
             "startlinecolor": "#2a3f5f"
            },
            "type": "carpet"
           }
          ],
          "choropleth": [
           {
            "colorbar": {
             "outlinewidth": 0,
             "ticks": ""
            },
            "type": "choropleth"
           }
          ],
          "contour": [
           {
            "colorbar": {
             "outlinewidth": 0,
             "ticks": ""
            },
            "colorscale": [
             [
              0,
              "#0d0887"
             ],
             [
              0.1111111111111111,
              "#46039f"
             ],
             [
              0.2222222222222222,
              "#7201a8"
             ],
             [
              0.3333333333333333,
              "#9c179e"
             ],
             [
              0.4444444444444444,
              "#bd3786"
             ],
             [
              0.5555555555555556,
              "#d8576b"
             ],
             [
              0.6666666666666666,
              "#ed7953"
             ],
             [
              0.7777777777777778,
              "#fb9f3a"
             ],
             [
              0.8888888888888888,
              "#fdca26"
             ],
             [
              1,
              "#f0f921"
             ]
            ],
            "type": "contour"
           }
          ],
          "contourcarpet": [
           {
            "colorbar": {
             "outlinewidth": 0,
             "ticks": ""
            },
            "type": "contourcarpet"
           }
          ],
          "heatmap": [
           {
            "colorbar": {
             "outlinewidth": 0,
             "ticks": ""
            },
            "colorscale": [
             [
              0,
              "#0d0887"
             ],
             [
              0.1111111111111111,
              "#46039f"
             ],
             [
              0.2222222222222222,
              "#7201a8"
             ],
             [
              0.3333333333333333,
              "#9c179e"
             ],
             [
              0.4444444444444444,
              "#bd3786"
             ],
             [
              0.5555555555555556,
              "#d8576b"
             ],
             [
              0.6666666666666666,
              "#ed7953"
             ],
             [
              0.7777777777777778,
              "#fb9f3a"
             ],
             [
              0.8888888888888888,
              "#fdca26"
             ],
             [
              1,
              "#f0f921"
             ]
            ],
            "type": "heatmap"
           }
          ],
          "heatmapgl": [
           {
            "colorbar": {
             "outlinewidth": 0,
             "ticks": ""
            },
            "colorscale": [
             [
              0,
              "#0d0887"
             ],
             [
              0.1111111111111111,
              "#46039f"
             ],
             [
              0.2222222222222222,
              "#7201a8"
             ],
             [
              0.3333333333333333,
              "#9c179e"
             ],
             [
              0.4444444444444444,
              "#bd3786"
             ],
             [
              0.5555555555555556,
              "#d8576b"
             ],
             [
              0.6666666666666666,
              "#ed7953"
             ],
             [
              0.7777777777777778,
              "#fb9f3a"
             ],
             [
              0.8888888888888888,
              "#fdca26"
             ],
             [
              1,
              "#f0f921"
             ]
            ],
            "type": "heatmapgl"
           }
          ],
          "histogram": [
           {
            "marker": {
             "pattern": {
              "fillmode": "overlay",
              "size": 10,
              "solidity": 0.2
             }
            },
            "type": "histogram"
           }
          ],
          "histogram2d": [
           {
            "colorbar": {
             "outlinewidth": 0,
             "ticks": ""
            },
            "colorscale": [
             [
              0,
              "#0d0887"
             ],
             [
              0.1111111111111111,
              "#46039f"
             ],
             [
              0.2222222222222222,
              "#7201a8"
             ],
             [
              0.3333333333333333,
              "#9c179e"
             ],
             [
              0.4444444444444444,
              "#bd3786"
             ],
             [
              0.5555555555555556,
              "#d8576b"
             ],
             [
              0.6666666666666666,
              "#ed7953"
             ],
             [
              0.7777777777777778,
              "#fb9f3a"
             ],
             [
              0.8888888888888888,
              "#fdca26"
             ],
             [
              1,
              "#f0f921"
             ]
            ],
            "type": "histogram2d"
           }
          ],
          "histogram2dcontour": [
           {
            "colorbar": {
             "outlinewidth": 0,
             "ticks": ""
            },
            "colorscale": [
             [
              0,
              "#0d0887"
             ],
             [
              0.1111111111111111,
              "#46039f"
             ],
             [
              0.2222222222222222,
              "#7201a8"
             ],
             [
              0.3333333333333333,
              "#9c179e"
             ],
             [
              0.4444444444444444,
              "#bd3786"
             ],
             [
              0.5555555555555556,
              "#d8576b"
             ],
             [
              0.6666666666666666,
              "#ed7953"
             ],
             [
              0.7777777777777778,
              "#fb9f3a"
             ],
             [
              0.8888888888888888,
              "#fdca26"
             ],
             [
              1,
              "#f0f921"
             ]
            ],
            "type": "histogram2dcontour"
           }
          ],
          "mesh3d": [
           {
            "colorbar": {
             "outlinewidth": 0,
             "ticks": ""
            },
            "type": "mesh3d"
           }
          ],
          "parcoords": [
           {
            "line": {
             "colorbar": {
              "outlinewidth": 0,
              "ticks": ""
             }
            },
            "type": "parcoords"
           }
          ],
          "pie": [
           {
            "automargin": true,
            "type": "pie"
           }
          ],
          "scatter": [
           {
            "fillpattern": {
             "fillmode": "overlay",
             "size": 10,
             "solidity": 0.2
            },
            "type": "scatter"
           }
          ],
          "scatter3d": [
           {
            "line": {
             "colorbar": {
              "outlinewidth": 0,
              "ticks": ""
             }
            },
            "marker": {
             "colorbar": {
              "outlinewidth": 0,
              "ticks": ""
             }
            },
            "type": "scatter3d"
           }
          ],
          "scattercarpet": [
           {
            "marker": {
             "colorbar": {
              "outlinewidth": 0,
              "ticks": ""
             }
            },
            "type": "scattercarpet"
           }
          ],
          "scattergeo": [
           {
            "marker": {
             "colorbar": {
              "outlinewidth": 0,
              "ticks": ""
             }
            },
            "type": "scattergeo"
           }
          ],
          "scattergl": [
           {
            "marker": {
             "colorbar": {
              "outlinewidth": 0,
              "ticks": ""
             }
            },
            "type": "scattergl"
           }
          ],
          "scattermapbox": [
           {
            "marker": {
             "colorbar": {
              "outlinewidth": 0,
              "ticks": ""
             }
            },
            "type": "scattermapbox"
           }
          ],
          "scatterpolar": [
           {
            "marker": {
             "colorbar": {
              "outlinewidth": 0,
              "ticks": ""
             }
            },
            "type": "scatterpolar"
           }
          ],
          "scatterpolargl": [
           {
            "marker": {
             "colorbar": {
              "outlinewidth": 0,
              "ticks": ""
             }
            },
            "type": "scatterpolargl"
           }
          ],
          "scatterternary": [
           {
            "marker": {
             "colorbar": {
              "outlinewidth": 0,
              "ticks": ""
             }
            },
            "type": "scatterternary"
           }
          ],
          "surface": [
           {
            "colorbar": {
             "outlinewidth": 0,
             "ticks": ""
            },
            "colorscale": [
             [
              0,
              "#0d0887"
             ],
             [
              0.1111111111111111,
              "#46039f"
             ],
             [
              0.2222222222222222,
              "#7201a8"
             ],
             [
              0.3333333333333333,
              "#9c179e"
             ],
             [
              0.4444444444444444,
              "#bd3786"
             ],
             [
              0.5555555555555556,
              "#d8576b"
             ],
             [
              0.6666666666666666,
              "#ed7953"
             ],
             [
              0.7777777777777778,
              "#fb9f3a"
             ],
             [
              0.8888888888888888,
              "#fdca26"
             ],
             [
              1,
              "#f0f921"
             ]
            ],
            "type": "surface"
           }
          ],
          "table": [
           {
            "cells": {
             "fill": {
              "color": "#EBF0F8"
             },
             "line": {
              "color": "white"
             }
            },
            "header": {
             "fill": {
              "color": "#C8D4E3"
             },
             "line": {
              "color": "white"
             }
            },
            "type": "table"
           }
          ]
         },
         "layout": {
          "annotationdefaults": {
           "arrowcolor": "#2a3f5f",
           "arrowhead": 0,
           "arrowwidth": 1
          },
          "autotypenumbers": "strict",
          "coloraxis": {
           "colorbar": {
            "outlinewidth": 0,
            "ticks": ""
           }
          },
          "colorscale": {
           "diverging": [
            [
             0,
             "#8e0152"
            ],
            [
             0.1,
             "#c51b7d"
            ],
            [
             0.2,
             "#de77ae"
            ],
            [
             0.3,
             "#f1b6da"
            ],
            [
             0.4,
             "#fde0ef"
            ],
            [
             0.5,
             "#f7f7f7"
            ],
            [
             0.6,
             "#e6f5d0"
            ],
            [
             0.7,
             "#b8e186"
            ],
            [
             0.8,
             "#7fbc41"
            ],
            [
             0.9,
             "#4d9221"
            ],
            [
             1,
             "#276419"
            ]
           ],
           "sequential": [
            [
             0,
             "#0d0887"
            ],
            [
             0.1111111111111111,
             "#46039f"
            ],
            [
             0.2222222222222222,
             "#7201a8"
            ],
            [
             0.3333333333333333,
             "#9c179e"
            ],
            [
             0.4444444444444444,
             "#bd3786"
            ],
            [
             0.5555555555555556,
             "#d8576b"
            ],
            [
             0.6666666666666666,
             "#ed7953"
            ],
            [
             0.7777777777777778,
             "#fb9f3a"
            ],
            [
             0.8888888888888888,
             "#fdca26"
            ],
            [
             1,
             "#f0f921"
            ]
           ],
           "sequentialminus": [
            [
             0,
             "#0d0887"
            ],
            [
             0.1111111111111111,
             "#46039f"
            ],
            [
             0.2222222222222222,
             "#7201a8"
            ],
            [
             0.3333333333333333,
             "#9c179e"
            ],
            [
             0.4444444444444444,
             "#bd3786"
            ],
            [
             0.5555555555555556,
             "#d8576b"
            ],
            [
             0.6666666666666666,
             "#ed7953"
            ],
            [
             0.7777777777777778,
             "#fb9f3a"
            ],
            [
             0.8888888888888888,
             "#fdca26"
            ],
            [
             1,
             "#f0f921"
            ]
           ]
          },
          "colorway": [
           "#636efa",
           "#EF553B",
           "#00cc96",
           "#ab63fa",
           "#FFA15A",
           "#19d3f3",
           "#FF6692",
           "#B6E880",
           "#FF97FF",
           "#FECB52"
          ],
          "font": {
           "color": "#2a3f5f"
          },
          "geo": {
           "bgcolor": "white",
           "lakecolor": "white",
           "landcolor": "#E5ECF6",
           "showlakes": true,
           "showland": true,
           "subunitcolor": "white"
          },
          "hoverlabel": {
           "align": "left"
          },
          "hovermode": "closest",
          "mapbox": {
           "style": "light"
          },
          "paper_bgcolor": "white",
          "plot_bgcolor": "#E5ECF6",
          "polar": {
           "angularaxis": {
            "gridcolor": "white",
            "linecolor": "white",
            "ticks": ""
           },
           "bgcolor": "#E5ECF6",
           "radialaxis": {
            "gridcolor": "white",
            "linecolor": "white",
            "ticks": ""
           }
          },
          "scene": {
           "xaxis": {
            "backgroundcolor": "#E5ECF6",
            "gridcolor": "white",
            "gridwidth": 2,
            "linecolor": "white",
            "showbackground": true,
            "ticks": "",
            "zerolinecolor": "white"
           },
           "yaxis": {
            "backgroundcolor": "#E5ECF6",
            "gridcolor": "white",
            "gridwidth": 2,
            "linecolor": "white",
            "showbackground": true,
            "ticks": "",
            "zerolinecolor": "white"
           },
           "zaxis": {
            "backgroundcolor": "#E5ECF6",
            "gridcolor": "white",
            "gridwidth": 2,
            "linecolor": "white",
            "showbackground": true,
            "ticks": "",
            "zerolinecolor": "white"
           }
          },
          "shapedefaults": {
           "line": {
            "color": "#2a3f5f"
           }
          },
          "ternary": {
           "aaxis": {
            "gridcolor": "white",
            "linecolor": "white",
            "ticks": ""
           },
           "baxis": {
            "gridcolor": "white",
            "linecolor": "white",
            "ticks": ""
           },
           "bgcolor": "#E5ECF6",
           "caxis": {
            "gridcolor": "white",
            "linecolor": "white",
            "ticks": ""
           }
          },
          "title": {
           "x": 0.05
          },
          "xaxis": {
           "automargin": true,
           "gridcolor": "white",
           "linecolor": "white",
           "ticks": "",
           "title": {
            "standoff": 15
           },
           "zerolinecolor": "white",
           "zerolinewidth": 2
          },
          "yaxis": {
           "automargin": true,
           "gridcolor": "white",
           "linecolor": "white",
           "ticks": "",
           "title": {
            "standoff": 15
           },
           "zerolinecolor": "white",
           "zerolinewidth": 2
          }
         }
        },
        "title": {
         "y": 0.93
        },
        "width": 400,
        "xaxis": {
         "title": {
          "text": "Epochs"
         }
        },
        "yaxis": {
         "title": {
          "text": "Loss"
         }
        }
       }
      }
     },
     "metadata": {},
     "output_type": "display_data"
    }
   ],
   "source": [
    "plot_loss(train_loss)"
   ]
  },
  {
   "attachments": {},
   "cell_type": "markdown",
   "metadata": {},
   "source": [
    "<br><br><br>"
   ]
  },
  {
   "cell_type": "markdown",
   "metadata": {
    "tags": []
   },
   "source": [
    "### Validation Loss"
   ]
  },
  {
   "attachments": {},
   "cell_type": "markdown",
   "metadata": {
    "tags": []
   },
   "source": [
    "- We've been focusing on training loss so far, but as we know, we need to validate our model on new **unseen** data\n",
    "\n",
    "- For this, we'll need some validation data. I'm going to split our dataset in half to create a `trainloader` and a `validloader`:"
   ]
  },
  {
   "cell_type": "code",
   "execution_count": 21,
   "metadata": {
    "tags": []
   },
   "outputs": [],
   "source": [
    "# Create dataset\n",
    "torch.manual_seed(0)\n",
    "\n",
    "X_valid = torch.arange(-3.0, 3.0)\n",
    "y_valid = X_valid ** 2\n",
    "\n",
    "trainloader = DataLoader(TensorDataset(X, y), batch_size=1, shuffle=True)\n",
    "validloader = DataLoader(TensorDataset(X_valid, y_valid), batch_size=1, shuffle=True)"
   ]
  },
  {
   "attachments": {},
   "cell_type": "markdown",
   "metadata": {
    "tags": []
   },
   "source": [
    "- The wonderful thing about PyTorch is that you are in full control, you can do whatever you want\n",
    "\n",
    "- So here, after each epoch, I'm going to record the validation loss by looping over my validation batches, it's just a little extra module I add to my training function:"
   ]
  },
  {
   "cell_type": "code",
   "execution_count": 22,
   "metadata": {
    "tags": []
   },
   "outputs": [],
   "source": [
    "def trainer(model, criterion, optimizer, trainloader, validloader, epochs=5):\n",
    "    \"\"\"Simple training wrapper for PyTorch network.\"\"\"\n",
    "    \n",
    "    train_loss = []\n",
    "    valid_loss = []\n",
    "    \n",
    "    for epoch in range(epochs):  # for each epoch\n",
    "        train_batch_loss = 0\n",
    "        valid_batch_loss = 0\n",
    "        \n",
    "        # Training\n",
    "        for X, y in trainloader:\n",
    "\n",
    "            optimizer.zero_grad()       # Zero all the gradients w.r.t. parameters\n",
    "\n",
    "            y_hat = model(X).flatten()  # Forward pass to get output\n",
    "            loss = criterion(y_hat, y)  # Calculate loss based on output\n",
    "            loss.backward()             # Calculate gradients w.r.t. parameters\n",
    "            optimizer.step()            # Update parameters\n",
    "\n",
    "            train_batch_loss += loss.item()  # Add loss for this batch to running total\n",
    "\n",
    "        train_loss.append(train_batch_loss / len(trainloader))\n",
    "        \n",
    "        # Validation\n",
    "        with torch.no_grad():  # this stops pytorch doing computational graph stuff under-the-hood\n",
    "\n",
    "            for X_valid, y_valid in validloader:\n",
    "\n",
    "                y_hat = model(X_valid).flatten()  # Forward pass to get output\n",
    "                loss = criterion(y_hat, y_valid)  # Calculate loss based on output\n",
    "\n",
    "                valid_batch_loss += loss.item()\n",
    "            \n",
    "        valid_loss.append(valid_batch_loss / len(validloader))\n",
    "        \n",
    "    return train_loss, valid_loss"
   ]
  },
  {
   "cell_type": "code",
   "execution_count": 23,
   "metadata": {
    "tags": []
   },
   "outputs": [
    {
     "data": {
      "application/vnd.plotly.v1+json": {
       "config": {
        "plotlyServerURL": "https://plot.ly"
       },
       "data": [
        {
         "line": {
          "width": 2
         },
         "mode": "lines",
         "name": "Training loss",
         "type": "scatter",
         "x": [
          0,
          1,
          2,
          3,
          4,
          5,
          6,
          7,
          8,
          9,
          10,
          11,
          12,
          13,
          14,
          15,
          16,
          17,
          18,
          19,
          20,
          21,
          22,
          23,
          24,
          25,
          26,
          27,
          28,
          29,
          30,
          31,
          32,
          33,
          34,
          35,
          36,
          37,
          38,
          39,
          40,
          41,
          42,
          43,
          44,
          45,
          46,
          47,
          48,
          49,
          50,
          51,
          52,
          53,
          54,
          55,
          56,
          57,
          58,
          59,
          60,
          61,
          62,
          63,
          64,
          65,
          66,
          67,
          68,
          69,
          70,
          71,
          72,
          73,
          74,
          75,
          76,
          77,
          78,
          79,
          80,
          81,
          82,
          83,
          84,
          85,
          86,
          87,
          88,
          89,
          90,
          91,
          92,
          93,
          94,
          95,
          96,
          97,
          98,
          99,
          100,
          101,
          102,
          103,
          104,
          105,
          106,
          107,
          108,
          109,
          110,
          111,
          112,
          113,
          114,
          115,
          116,
          117,
          118,
          119,
          120,
          121,
          122,
          123,
          124,
          125,
          126,
          127,
          128,
          129,
          130,
          131,
          132,
          133,
          134,
          135,
          136,
          137,
          138,
          139,
          140,
          141,
          142,
          143,
          144,
          145,
          146,
          147,
          148,
          149,
          150,
          151,
          152,
          153,
          154,
          155,
          156,
          157,
          158,
          159,
          160,
          161,
          162,
          163,
          164,
          165,
          166,
          167,
          168,
          169,
          170,
          171,
          172,
          173,
          174,
          175,
          176,
          177,
          178,
          179,
          180,
          181,
          182,
          183,
          184,
          185,
          186,
          187,
          188,
          189,
          190,
          191,
          192,
          193,
          194,
          195,
          196,
          197,
          198,
          199,
          200
         ],
         "y": [
          15.012913992628455,
          12.399270835821516,
          11.954789339983837,
          11.377602417615709,
          9.717802181467414,
          9.33624347979494,
          8.574049336835742,
          6.958916385658085,
          6.4332009414578355,
          5.8548438572790475,
          5.22631523655428,
          5.310402708733454,
          4.483759404305966,
          4.335440235317947,
          4.085406857373892,
          4.45547396575289,
          4.351040855901738,
          4.428278398391558,
          3.9998185587697663,
          4.16134847829237,
          3.8099976004683413,
          4.223082626145333,
          3.858701554819709,
          4.043280488648452,
          3.7224256058674654,
          3.5162243214203044,
          3.5979829519020314,
          4.081899374211207,
          3.563834448077978,
          3.5970869770266747,
          3.9313552043866364,
          3.5953984615713126,
          3.605717896972055,
          3.731945722841192,
          3.590536106300715,
          3.4115653383545577,
          3.5716428297921086,
          3.829229329965892,
          3.8434939440659948,
          3.5359382579306837,
          3.4908932348495,
          4.041201974317664,
          3.452475834829238,
          3.624837820028188,
          3.929147338314215,
          3.3605930483026896,
          3.3991664215311177,
          3.583309995470336,
          3.552289404743351,
          3.9752159016032236,
          3.605651565978769,
          3.2884622888328523,
          3.36127707278938,
          3.655683692032471,
          3.7153379705661793,
          3.2363099737005543,
          3.583355115543236,
          3.75824504412667,
          3.336180652590701,
          3.7607802008569706,
          3.353355655785708,
          3.6345746428429266,
          3.390515996783506,
          3.4077549885652845,
          3.6604829626186985,
          3.4810001609148458,
          4.143671824497869,
          3.3422823551198233,
          3.857222728128545,
          3.2207708993344566,
          3.518496685716559,
          3.5430477819871156,
          3.635956403706223,
          3.227104820369277,
          3.301239506643469,
          3.314326998172328,
          3.152189243509201,
          3.572451567310259,
          3.134831368189771,
          3.295152360550128,
          3.1458560740087704,
          3.0916131281177512,
          3.2630804590531626,
          3.0768777536504786,
          2.985799238606705,
          3.117378125130199,
          3.4358573799720036,
          3.1539422497269696,
          3.2764271782594734,
          3.28881558305651,
          3.09441727336889,
          3.186216218251502,
          3.0394633006779257,
          3.18024920553176,
          3.6969705952040384,
          2.9602422715630383,
          3.4209285042947157,
          3.3702029017731547,
          3.461724975463585,
          3.6464575318081187,
          3.1800850122235715,
          3.2511138581372507,
          3.105844319483731,
          3.222676537220832,
          3.2341015856945887,
          3.0227097484166734,
          3.2598045816179364,
          3.0893987769028173,
          3.2315267032798145,
          2.913215309206862,
          3.1083042453396272,
          3.05976633290411,
          2.9180237230175408,
          2.902943287792732,
          3.1986331297324795,
          3.044261738623027,
          2.9581821835483426,
          3.0522990003228188,
          2.733010516527429,
          3.015952209790703,
          3.043286007287679,
          3.051557126198895,
          3.31272664097487,
          2.9245230600703507,
          2.9744820959379012,
          3.159663587901741,
          2.869366068979434,
          2.7828906210244897,
          3.0885697208344935,
          3.115114725282183,
          2.9494894453339158,
          3.094661207078025,
          2.998172102042008,
          2.8712292029264064,
          2.894202289728855,
          2.8763203792041168,
          2.8176956360378425,
          2.7425234413793076,
          2.8027504686411704,
          3.167112184257712,
          2.972011070874532,
          2.899517236691463,
          2.676697716586028,
          2.9722264091668875,
          2.9150429096667656,
          2.8099612460032404,
          2.556224752089487,
          2.650282950120527,
          3.001857063377611,
          3.4966343501611847,
          2.7259812390839215,
          2.872911096608732,
          3.260209868813399,
          2.808941488088749,
          3.4015398332994664,
          2.495800967347472,
          2.7511728805024176,
          3.013894316636288,
          2.9141624686501926,
          3.016125603249384,
          2.836933837027755,
          3.2592825140338393,
          2.8050757054807036,
          2.9026912242290566,
          2.9419646329794205,
          2.904813033944811,
          2.910222738201264,
          2.952909501965041,
          2.9825878687344813,
          2.603156334531377,
          2.661596339735843,
          2.8037666854841516,
          2.694968515628716,
          2.893461532940273,
          2.63662849931643,
          2.8012896524975077,
          2.579856857358391,
          2.7650863931456113,
          2.8406019614252727,
          2.901299073174596,
          3.2315400234947447,
          2.7944533046567814,
          2.5877947400789707,
          2.7965525515264744,
          2.6453015272621996,
          2.6069203607097733,
          2.785764059133362,
          2.759447092539631,
          2.857285764237349,
          2.502392124013568,
          2.593059640278807,
          2.5012279607355596,
          2.5445021113439,
          2.638197010947624,
          2.755906068658078,
          2.7668992785536375,
          2.735768792242743,
          2.784728643185372,
          3.0961728613357993,
          2.676527671562508,
          2.602793862938415
         ]
        },
        {
         "line": {
          "width": 2
         },
         "mode": "lines",
         "name": "Validation loss",
         "type": "scatter",
         "x": [
          0,
          1,
          2,
          3,
          4,
          5,
          6,
          7,
          8,
          9,
          10,
          11,
          12,
          13,
          14,
          15,
          16,
          17,
          18,
          19,
          20,
          21,
          22,
          23,
          24,
          25,
          26,
          27,
          28,
          29,
          30,
          31,
          32,
          33,
          34,
          35,
          36,
          37,
          38,
          39,
          40,
          41,
          42,
          43,
          44,
          45,
          46,
          47,
          48,
          49,
          50,
          51,
          52,
          53,
          54,
          55,
          56,
          57,
          58,
          59,
          60,
          61,
          62,
          63,
          64,
          65,
          66,
          67,
          68,
          69,
          70,
          71,
          72,
          73,
          74,
          75,
          76,
          77,
          78,
          79,
          80,
          81,
          82,
          83,
          84,
          85,
          86,
          87,
          88,
          89,
          90,
          91,
          92,
          93,
          94,
          95,
          96,
          97,
          98,
          99,
          100,
          101,
          102,
          103,
          104,
          105,
          106,
          107,
          108,
          109,
          110,
          111,
          112,
          113,
          114,
          115,
          116,
          117,
          118,
          119,
          120,
          121,
          122,
          123,
          124,
          125,
          126,
          127,
          128,
          129,
          130,
          131,
          132,
          133,
          134,
          135,
          136,
          137,
          138,
          139,
          140,
          141,
          142,
          143,
          144,
          145,
          146,
          147,
          148,
          149,
          150,
          151,
          152,
          153,
          154,
          155,
          156,
          157,
          158,
          159,
          160,
          161,
          162,
          163,
          164,
          165,
          166,
          167,
          168,
          169,
          170,
          171,
          172,
          173,
          174,
          175,
          176,
          177,
          178,
          179,
          180,
          181,
          182,
          183,
          184,
          185,
          186,
          187,
          188,
          189,
          190,
          191,
          192,
          193,
          194,
          195,
          196,
          197,
          198,
          199,
          200
         ],
         "y": [
          8.529397259155909,
          7.890058770775795,
          7.169106973956029,
          6.70756837228934,
          5.567444900671641,
          4.3662554783125715,
          3.7786566391587257,
          3.0239492040127516,
          2.299053276578585,
          2.2924320151408515,
          1.3138757854079206,
          1.046124539648493,
          0.9555830409129461,
          0.7709106802940369,
          1.3457365781068802,
          0.40421303009497933,
          0.3482943488440166,
          0.29478797351475805,
          0.36272785905748606,
          0.25898637664310326,
          0.7215070026795729,
          0.28843334193030995,
          0.10884659551084042,
          0.09320406150072813,
          0.47214668507998186,
          0.1642409322569923,
          0.04440877715630146,
          0.4462141062443455,
          0.16051303672914705,
          0.12439608771819621,
          1.1015694066882133,
          0.10571296893370648,
          0.0924260646958525,
          0.2400601412712907,
          0.06848624317596357,
          1.5024033586184184,
          0.03846548968188775,
          1.5976404113074143,
          0.03532081548473798,
          0.0408991672253857,
          0.581244236867254,
          0.6219883164546142,
          0.24203672103855448,
          0.17524338777487478,
          0.5995901425582512,
          0.05213088169693947,
          0.1239789246271054,
          0.7614236612183353,
          0.4092972680082312,
          1.1134303969641526,
          0.15976575870687762,
          0.1420479027243952,
          0.3018667382809023,
          0.10245321380595367,
          1.1105955373495817,
          0.27507208644722897,
          0.06988749175798148,
          0.0867659665333728,
          0.2593174695696992,
          0.4023567389231175,
          0.5233029037093123,
          0.7057709859412474,
          0.13184087634241828,
          1.5197929920007784,
          0.4760174589852492,
          0.16184916431666352,
          0.2593888572106759,
          0.7181388481209675,
          0.9941041452499727,
          0.18515323319782814,
          0.5841923852761587,
          0.2765906721275921,
          1.0143669662550867,
          0.16881508690615496,
          0.25274473095002276,
          0.5222574740958711,
          0.12337411497719586,
          0.6434882646038508,
          0.45133665770238923,
          0.3937567099928856,
          0.2819494301996504,
          0.9232819911558181,
          0.6049452840040127,
          0.5392882937255005,
          0.5794213313686972,
          0.6168144199376305,
          0.9360305309916536,
          0.18014461419079453,
          1.73905276072522,
          0.5266895079985261,
          0.6340682802644247,
          0.32571608549915254,
          0.7555066797261437,
          0.7062701212707907,
          0.9948063812529048,
          0.08863125966551404,
          0.6712478718933804,
          1.291237248883893,
          0.10476243818023552,
          0.7966965183926126,
          0.28243155296271044,
          0.6554851112887263,
          1.308582013938576,
          0.41897403495386243,
          1.150753002303342,
          0.04643082447970907,
          0.4513314651946227,
          0.9839703242244772,
          0.6381444248060385,
          0.9633587746648118,
          0.4098791839399685,
          1.2426825407116364,
          0.8877024234582981,
          0.6837163611180586,
          0.3532183504042526,
          2.603318330096954,
          0.6067780518593887,
          1.3245164774319467,
          0.20283362672974667,
          0.879919856476287,
          0.17258099924462536,
          1.1610628864073078,
          0.18144478796360394,
          1.0299900475850639,
          0.0993008241057396,
          1.0543543010329206,
          0.9537793719597781,
          0.284522455719222,
          1.9667614046484232,
          1.3047321795796354,
          0.927802569407504,
          0.5884071584247673,
          0.7979244152278019,
          0.26945994949589175,
          1.5088707885394494,
          0.24952733450724432,
          1.21849316979448,
          1.1405319324112497,
          0.17907522051245905,
          1.352667137204359,
          1.957684393079641,
          1.0912368170296152,
          0.5526756101753563,
          1.8613440574263223,
          0.49890721837679547,
          1.6577068473082666,
          1.1053856660922368,
          1.8038490442559123,
          2.979097153778033,
          0.26161458923403796,
          2.8797528335514166,
          2.098152598598972,
          0.28084444254636765,
          3.8399321528462074,
          0.04140525709887773,
          1.1329887602478266,
          1.718905188376084,
          2.312598607580488,
          0.714989407963003,
          1.4209503127882879,
          0.13059781925403513,
          2.261096740995223,
          1.1533563746706932,
          0.9280464775914083,
          2.087753512741377,
          1.807514702406479,
          2.628493335136833,
          1.9266144776095946,
          2.433767943177372,
          1.624472522099192,
          1.6395169668830931,
          1.2582978869468207,
          2.439438150729984,
          0.7813151081403097,
          0.1232249601453077,
          2.336951772260363,
          1.6941735532406408,
          1.0983323021791875,
          1.972282227439185,
          1.1994851606044297,
          1.6619418304859817,
          0.995910081701974,
          2.2536980408200784,
          1.4828132428228855,
          2.1492937297249832,
          2.5928291684637466,
          2.2685392072841446,
          0.761871610263673,
          2.1719792298972607,
          0.6050826227777483,
          1.268183227085198,
          1.3902619803945224,
          2.0432809850511453,
          3.411375454471757,
          1.6823321441576506,
          0.3736955591593869,
          4.2666346678245946,
          4.90420405822321,
          1.3984571788460016,
          2.235715722384157,
          1.6271840284001275
         ]
        }
       ],
       "layout": {
        "height": 400,
        "legend": {
         "x": 0.434,
         "xanchor": "left",
         "y": 0.99,
         "yanchor": "top"
        },
        "margin": {
         "t": 60
        },
        "template": {
         "data": {
          "bar": [
           {
            "error_x": {
             "color": "#2a3f5f"
            },
            "error_y": {
             "color": "#2a3f5f"
            },
            "marker": {
             "line": {
              "color": "#E5ECF6",
              "width": 0.5
             },
             "pattern": {
              "fillmode": "overlay",
              "size": 10,
              "solidity": 0.2
             }
            },
            "type": "bar"
           }
          ],
          "barpolar": [
           {
            "marker": {
             "line": {
              "color": "#E5ECF6",
              "width": 0.5
             },
             "pattern": {
              "fillmode": "overlay",
              "size": 10,
              "solidity": 0.2
             }
            },
            "type": "barpolar"
           }
          ],
          "carpet": [
           {
            "aaxis": {
             "endlinecolor": "#2a3f5f",
             "gridcolor": "white",
             "linecolor": "white",
             "minorgridcolor": "white",
             "startlinecolor": "#2a3f5f"
            },
            "baxis": {
             "endlinecolor": "#2a3f5f",
             "gridcolor": "white",
             "linecolor": "white",
             "minorgridcolor": "white",
             "startlinecolor": "#2a3f5f"
            },
            "type": "carpet"
           }
          ],
          "choropleth": [
           {
            "colorbar": {
             "outlinewidth": 0,
             "ticks": ""
            },
            "type": "choropleth"
           }
          ],
          "contour": [
           {
            "colorbar": {
             "outlinewidth": 0,
             "ticks": ""
            },
            "colorscale": [
             [
              0,
              "#0d0887"
             ],
             [
              0.1111111111111111,
              "#46039f"
             ],
             [
              0.2222222222222222,
              "#7201a8"
             ],
             [
              0.3333333333333333,
              "#9c179e"
             ],
             [
              0.4444444444444444,
              "#bd3786"
             ],
             [
              0.5555555555555556,
              "#d8576b"
             ],
             [
              0.6666666666666666,
              "#ed7953"
             ],
             [
              0.7777777777777778,
              "#fb9f3a"
             ],
             [
              0.8888888888888888,
              "#fdca26"
             ],
             [
              1,
              "#f0f921"
             ]
            ],
            "type": "contour"
           }
          ],
          "contourcarpet": [
           {
            "colorbar": {
             "outlinewidth": 0,
             "ticks": ""
            },
            "type": "contourcarpet"
           }
          ],
          "heatmap": [
           {
            "colorbar": {
             "outlinewidth": 0,
             "ticks": ""
            },
            "colorscale": [
             [
              0,
              "#0d0887"
             ],
             [
              0.1111111111111111,
              "#46039f"
             ],
             [
              0.2222222222222222,
              "#7201a8"
             ],
             [
              0.3333333333333333,
              "#9c179e"
             ],
             [
              0.4444444444444444,
              "#bd3786"
             ],
             [
              0.5555555555555556,
              "#d8576b"
             ],
             [
              0.6666666666666666,
              "#ed7953"
             ],
             [
              0.7777777777777778,
              "#fb9f3a"
             ],
             [
              0.8888888888888888,
              "#fdca26"
             ],
             [
              1,
              "#f0f921"
             ]
            ],
            "type": "heatmap"
           }
          ],
          "heatmapgl": [
           {
            "colorbar": {
             "outlinewidth": 0,
             "ticks": ""
            },
            "colorscale": [
             [
              0,
              "#0d0887"
             ],
             [
              0.1111111111111111,
              "#46039f"
             ],
             [
              0.2222222222222222,
              "#7201a8"
             ],
             [
              0.3333333333333333,
              "#9c179e"
             ],
             [
              0.4444444444444444,
              "#bd3786"
             ],
             [
              0.5555555555555556,
              "#d8576b"
             ],
             [
              0.6666666666666666,
              "#ed7953"
             ],
             [
              0.7777777777777778,
              "#fb9f3a"
             ],
             [
              0.8888888888888888,
              "#fdca26"
             ],
             [
              1,
              "#f0f921"
             ]
            ],
            "type": "heatmapgl"
           }
          ],
          "histogram": [
           {
            "marker": {
             "pattern": {
              "fillmode": "overlay",
              "size": 10,
              "solidity": 0.2
             }
            },
            "type": "histogram"
           }
          ],
          "histogram2d": [
           {
            "colorbar": {
             "outlinewidth": 0,
             "ticks": ""
            },
            "colorscale": [
             [
              0,
              "#0d0887"
             ],
             [
              0.1111111111111111,
              "#46039f"
             ],
             [
              0.2222222222222222,
              "#7201a8"
             ],
             [
              0.3333333333333333,
              "#9c179e"
             ],
             [
              0.4444444444444444,
              "#bd3786"
             ],
             [
              0.5555555555555556,
              "#d8576b"
             ],
             [
              0.6666666666666666,
              "#ed7953"
             ],
             [
              0.7777777777777778,
              "#fb9f3a"
             ],
             [
              0.8888888888888888,
              "#fdca26"
             ],
             [
              1,
              "#f0f921"
             ]
            ],
            "type": "histogram2d"
           }
          ],
          "histogram2dcontour": [
           {
            "colorbar": {
             "outlinewidth": 0,
             "ticks": ""
            },
            "colorscale": [
             [
              0,
              "#0d0887"
             ],
             [
              0.1111111111111111,
              "#46039f"
             ],
             [
              0.2222222222222222,
              "#7201a8"
             ],
             [
              0.3333333333333333,
              "#9c179e"
             ],
             [
              0.4444444444444444,
              "#bd3786"
             ],
             [
              0.5555555555555556,
              "#d8576b"
             ],
             [
              0.6666666666666666,
              "#ed7953"
             ],
             [
              0.7777777777777778,
              "#fb9f3a"
             ],
             [
              0.8888888888888888,
              "#fdca26"
             ],
             [
              1,
              "#f0f921"
             ]
            ],
            "type": "histogram2dcontour"
           }
          ],
          "mesh3d": [
           {
            "colorbar": {
             "outlinewidth": 0,
             "ticks": ""
            },
            "type": "mesh3d"
           }
          ],
          "parcoords": [
           {
            "line": {
             "colorbar": {
              "outlinewidth": 0,
              "ticks": ""
             }
            },
            "type": "parcoords"
           }
          ],
          "pie": [
           {
            "automargin": true,
            "type": "pie"
           }
          ],
          "scatter": [
           {
            "fillpattern": {
             "fillmode": "overlay",
             "size": 10,
             "solidity": 0.2
            },
            "type": "scatter"
           }
          ],
          "scatter3d": [
           {
            "line": {
             "colorbar": {
              "outlinewidth": 0,
              "ticks": ""
             }
            },
            "marker": {
             "colorbar": {
              "outlinewidth": 0,
              "ticks": ""
             }
            },
            "type": "scatter3d"
           }
          ],
          "scattercarpet": [
           {
            "marker": {
             "colorbar": {
              "outlinewidth": 0,
              "ticks": ""
             }
            },
            "type": "scattercarpet"
           }
          ],
          "scattergeo": [
           {
            "marker": {
             "colorbar": {
              "outlinewidth": 0,
              "ticks": ""
             }
            },
            "type": "scattergeo"
           }
          ],
          "scattergl": [
           {
            "marker": {
             "colorbar": {
              "outlinewidth": 0,
              "ticks": ""
             }
            },
            "type": "scattergl"
           }
          ],
          "scattermapbox": [
           {
            "marker": {
             "colorbar": {
              "outlinewidth": 0,
              "ticks": ""
             }
            },
            "type": "scattermapbox"
           }
          ],
          "scatterpolar": [
           {
            "marker": {
             "colorbar": {
              "outlinewidth": 0,
              "ticks": ""
             }
            },
            "type": "scatterpolar"
           }
          ],
          "scatterpolargl": [
           {
            "marker": {
             "colorbar": {
              "outlinewidth": 0,
              "ticks": ""
             }
            },
            "type": "scatterpolargl"
           }
          ],
          "scatterternary": [
           {
            "marker": {
             "colorbar": {
              "outlinewidth": 0,
              "ticks": ""
             }
            },
            "type": "scatterternary"
           }
          ],
          "surface": [
           {
            "colorbar": {
             "outlinewidth": 0,
             "ticks": ""
            },
            "colorscale": [
             [
              0,
              "#0d0887"
             ],
             [
              0.1111111111111111,
              "#46039f"
             ],
             [
              0.2222222222222222,
              "#7201a8"
             ],
             [
              0.3333333333333333,
              "#9c179e"
             ],
             [
              0.4444444444444444,
              "#bd3786"
             ],
             [
              0.5555555555555556,
              "#d8576b"
             ],
             [
              0.6666666666666666,
              "#ed7953"
             ],
             [
              0.7777777777777778,
              "#fb9f3a"
             ],
             [
              0.8888888888888888,
              "#fdca26"
             ],
             [
              1,
              "#f0f921"
             ]
            ],
            "type": "surface"
           }
          ],
          "table": [
           {
            "cells": {
             "fill": {
              "color": "#EBF0F8"
             },
             "line": {
              "color": "white"
             }
            },
            "header": {
             "fill": {
              "color": "#C8D4E3"
             },
             "line": {
              "color": "white"
             }
            },
            "type": "table"
           }
          ]
         },
         "layout": {
          "annotationdefaults": {
           "arrowcolor": "#2a3f5f",
           "arrowhead": 0,
           "arrowwidth": 1
          },
          "autotypenumbers": "strict",
          "coloraxis": {
           "colorbar": {
            "outlinewidth": 0,
            "ticks": ""
           }
          },
          "colorscale": {
           "diverging": [
            [
             0,
             "#8e0152"
            ],
            [
             0.1,
             "#c51b7d"
            ],
            [
             0.2,
             "#de77ae"
            ],
            [
             0.3,
             "#f1b6da"
            ],
            [
             0.4,
             "#fde0ef"
            ],
            [
             0.5,
             "#f7f7f7"
            ],
            [
             0.6,
             "#e6f5d0"
            ],
            [
             0.7,
             "#b8e186"
            ],
            [
             0.8,
             "#7fbc41"
            ],
            [
             0.9,
             "#4d9221"
            ],
            [
             1,
             "#276419"
            ]
           ],
           "sequential": [
            [
             0,
             "#0d0887"
            ],
            [
             0.1111111111111111,
             "#46039f"
            ],
            [
             0.2222222222222222,
             "#7201a8"
            ],
            [
             0.3333333333333333,
             "#9c179e"
            ],
            [
             0.4444444444444444,
             "#bd3786"
            ],
            [
             0.5555555555555556,
             "#d8576b"
            ],
            [
             0.6666666666666666,
             "#ed7953"
            ],
            [
             0.7777777777777778,
             "#fb9f3a"
            ],
            [
             0.8888888888888888,
             "#fdca26"
            ],
            [
             1,
             "#f0f921"
            ]
           ],
           "sequentialminus": [
            [
             0,
             "#0d0887"
            ],
            [
             0.1111111111111111,
             "#46039f"
            ],
            [
             0.2222222222222222,
             "#7201a8"
            ],
            [
             0.3333333333333333,
             "#9c179e"
            ],
            [
             0.4444444444444444,
             "#bd3786"
            ],
            [
             0.5555555555555556,
             "#d8576b"
            ],
            [
             0.6666666666666666,
             "#ed7953"
            ],
            [
             0.7777777777777778,
             "#fb9f3a"
            ],
            [
             0.8888888888888888,
             "#fdca26"
            ],
            [
             1,
             "#f0f921"
            ]
           ]
          },
          "colorway": [
           "#636efa",
           "#EF553B",
           "#00cc96",
           "#ab63fa",
           "#FFA15A",
           "#19d3f3",
           "#FF6692",
           "#B6E880",
           "#FF97FF",
           "#FECB52"
          ],
          "font": {
           "color": "#2a3f5f"
          },
          "geo": {
           "bgcolor": "white",
           "lakecolor": "white",
           "landcolor": "#E5ECF6",
           "showlakes": true,
           "showland": true,
           "subunitcolor": "white"
          },
          "hoverlabel": {
           "align": "left"
          },
          "hovermode": "closest",
          "mapbox": {
           "style": "light"
          },
          "paper_bgcolor": "white",
          "plot_bgcolor": "#E5ECF6",
          "polar": {
           "angularaxis": {
            "gridcolor": "white",
            "linecolor": "white",
            "ticks": ""
           },
           "bgcolor": "#E5ECF6",
           "radialaxis": {
            "gridcolor": "white",
            "linecolor": "white",
            "ticks": ""
           }
          },
          "scene": {
           "xaxis": {
            "backgroundcolor": "#E5ECF6",
            "gridcolor": "white",
            "gridwidth": 2,
            "linecolor": "white",
            "showbackground": true,
            "ticks": "",
            "zerolinecolor": "white"
           },
           "yaxis": {
            "backgroundcolor": "#E5ECF6",
            "gridcolor": "white",
            "gridwidth": 2,
            "linecolor": "white",
            "showbackground": true,
            "ticks": "",
            "zerolinecolor": "white"
           },
           "zaxis": {
            "backgroundcolor": "#E5ECF6",
            "gridcolor": "white",
            "gridwidth": 2,
            "linecolor": "white",
            "showbackground": true,
            "ticks": "",
            "zerolinecolor": "white"
           }
          },
          "shapedefaults": {
           "line": {
            "color": "#2a3f5f"
           }
          },
          "ternary": {
           "aaxis": {
            "gridcolor": "white",
            "linecolor": "white",
            "ticks": ""
           },
           "baxis": {
            "gridcolor": "white",
            "linecolor": "white",
            "ticks": ""
           },
           "bgcolor": "#E5ECF6",
           "caxis": {
            "gridcolor": "white",
            "linecolor": "white",
            "ticks": ""
           }
          },
          "title": {
           "x": 0.05
          },
          "xaxis": {
           "automargin": true,
           "gridcolor": "white",
           "linecolor": "white",
           "ticks": "",
           "title": {
            "standoff": 15
           },
           "zerolinecolor": "white",
           "zerolinewidth": 2
          },
          "yaxis": {
           "automargin": true,
           "gridcolor": "white",
           "linecolor": "white",
           "ticks": "",
           "title": {
            "standoff": 15
           },
           "zerolinecolor": "white",
           "zerolinewidth": 2
          }
         }
        },
        "title": {
         "y": 0.93
        },
        "width": 400,
        "xaxis": {
         "title": {
          "text": "Epochs"
         }
        },
        "yaxis": {
         "title": {
          "text": "Loss"
         }
        }
       }
      }
     },
     "metadata": {},
     "output_type": "display_data"
    }
   ],
   "source": [
    "model = network(1, 6, 1)\n",
    "criterion = torch.nn.MSELoss()\n",
    "optimizer = torch.optim.Adam(model.parameters(), lr=0.05)\n",
    "train_loss, valid_loss = trainer(model, criterion, optimizer, trainloader, validloader, epochs=201)\n",
    "\n",
    "plot_loss(train_loss, valid_loss)"
   ]
  },
  {
   "attachments": {},
   "cell_type": "markdown",
   "metadata": {
    "tags": []
   },
   "source": [
    "- What do we see above?\n",
    "\n",
    "- Well, we're obviously overfitting. We are optimizing too well\n",
    "\n",
    "- One way we could avoid overfitting is by terminating the training if our validation loss starts going up, this is called **early stopping**"
   ]
  },
  {
   "attachments": {},
   "cell_type": "markdown",
   "metadata": {},
   "source": [
    "<br><br><br>"
   ]
  },
  {
   "cell_type": "markdown",
   "metadata": {
    "tags": []
   },
   "source": [
    "### Early stopping"
   ]
  },
  {
   "attachments": {},
   "cell_type": "markdown",
   "metadata": {},
   "source": [
    "- Early stopping is one way of avoiding overfitting\n",
    "\n",
    "- As training progresses, if we notice the validation loss increasing (while the training loss is decreasing), that's usually an indication of overfitting\n",
    "- The validation loss may go up and down from epoch to epoch, so usually we define a **patience** parameter which is a number of consecutive epochs we're willing to allow the validation loss to increase before we stop\n",
    "- The beauty of PyTorch is how easy and intuitive it is to customize your network in this way, unlike with TensorFlow"
   ]
  },
  {
   "cell_type": "code",
   "execution_count": 24,
   "metadata": {
    "tags": []
   },
   "outputs": [],
   "source": [
    "def trainer(model, criterion, optimizer, trainloader, validloader, epochs=5, patience=5):\n",
    "    \"\"\"Simple training wrapper for PyTorch network.\"\"\"\n",
    "    \n",
    "    train_loss = []\n",
    "    valid_loss = []\n",
    "    \n",
    "    for epoch in range(epochs):  # for each epoch\n",
    "        \n",
    "        train_batch_loss = 0\n",
    "        valid_batch_loss = 0\n",
    "        \n",
    "        # Training\n",
    "        for X, y in trainloader:\n",
    "            \n",
    "            optimizer.zero_grad()       # Zero all the gradients w.r.t. parameters\n",
    "            \n",
    "            y_hat = model(X).flatten()  # Forward pass to get output\n",
    "            loss = criterion(y_hat, y)  # Calculate loss based on output\n",
    "            loss.backward()             # Calculate gradients w.r.t. parameters\n",
    "            optimizer.step()            # Update parameters\n",
    "\n",
    "            train_batch_loss += loss.item()  # Add loss for this batch to running total\n",
    "            \n",
    "        train_loss.append(train_batch_loss / len(trainloader))\n",
    "        \n",
    "        # Validation\n",
    "        with torch.no_grad():  # this stops pytorch doing computational graph stuff under-the-hood and saves memory and time\n",
    "\n",
    "            for X_valid, y_valid in validloader:\n",
    "\n",
    "                y_hat = model(X_valid).flatten()  # Forward pass to get output\n",
    "                loss = criterion(y_hat, y_valid)  # Calculate loss based on output\n",
    "\n",
    "                valid_batch_loss += loss.item()\n",
    "            \n",
    "        valid_loss.append(valid_batch_loss / len(validloader))\n",
    "        \n",
    "        # Early stopping\n",
    "        if epoch > 0 and valid_loss[-1] > valid_loss[-2]:\n",
    "            consec_increases += 1\n",
    "        else:\n",
    "            consec_increases = 0\n",
    "        if consec_increases == patience:\n",
    "            print(f\"Stopped early at epoch {epoch + 1} - val loss increased for {consec_increases} consecutive epochs!\")\n",
    "            break\n",
    "        \n",
    "    return train_loss, valid_loss"
   ]
  },
  {
   "cell_type": "code",
   "execution_count": 25,
   "metadata": {
    "tags": []
   },
   "outputs": [
    {
     "name": "stdout",
     "output_type": "stream",
     "text": [
      "Stopped early at epoch 53 - val loss increased for 3 consecutive epochs!\n"
     ]
    },
    {
     "data": {
      "application/vnd.plotly.v1+json": {
       "config": {
        "plotlyServerURL": "https://plot.ly"
       },
       "data": [
        {
         "line": {
          "width": 2
         },
         "mode": "lines",
         "name": "Training loss",
         "type": "scatter",
         "x": [
          0,
          1,
          2,
          3,
          4,
          5,
          6,
          7,
          8,
          9,
          10,
          11,
          12,
          13,
          14,
          15,
          16,
          17,
          18,
          19,
          20,
          21,
          22,
          23,
          24,
          25,
          26,
          27,
          28,
          29,
          30,
          31,
          32,
          33,
          34,
          35,
          36,
          37,
          38,
          39,
          40,
          41,
          42,
          43,
          44,
          45,
          46,
          47,
          48,
          49,
          50,
          51,
          52
         ],
         "y": [
          12.920795498671941,
          12.587594263860955,
          12.136559772491456,
          11.627165534929372,
          10.806730635464191,
          10.261828084450098,
          9.332863238104618,
          8.405490752088372,
          7.575141562800854,
          6.689750113920309,
          6.381765931690461,
          5.867041128105484,
          5.231970996968448,
          5.235579128004611,
          4.7499038782291105,
          4.6798434771306345,
          4.402424148074351,
          4.5316670501459155,
          4.462816609976653,
          4.279781521912082,
          3.941698650866601,
          4.4238127433054615,
          3.800442418770399,
          3.8680623673019,
          4.269980227993801,
          3.770676907291636,
          4.0301970920350865,
          3.726915200118674,
          3.8878337722228027,
          3.5006745459511874,
          3.5670606013594806,
          3.7180136306418716,
          3.658360462663768,
          3.8328554450301455,
          3.7820760608185084,
          3.643284122549494,
          3.6547425210455913,
          3.910159697847848,
          3.7467679920606316,
          3.677861165034119,
          3.646087852909113,
          3.672875650937203,
          3.484347138484009,
          3.3489165078499354,
          4.010089384415187,
          3.524579021558748,
          3.6391017286572604,
          3.4218385566491634,
          3.6287051830193375,
          3.563220543053467,
          3.3700311710155804,
          3.4347447277500978,
          3.374479066437016
         ]
        },
        {
         "line": {
          "width": 2
         },
         "mode": "lines",
         "name": "Validation loss",
         "type": "scatter",
         "x": [
          0,
          1,
          2,
          3,
          4,
          5,
          6,
          7,
          8,
          9,
          10,
          11,
          12,
          13,
          14,
          15,
          16,
          17,
          18,
          19,
          20,
          21,
          22,
          23,
          24,
          25,
          26,
          27,
          28,
          29,
          30,
          31,
          32,
          33,
          34,
          35,
          36,
          37,
          38,
          39,
          40,
          41,
          42,
          43,
          44,
          45,
          46,
          47,
          48,
          49,
          50,
          51,
          52
         ],
         "y": [
          9.731604028493166,
          8.41431008776029,
          7.593652117686967,
          7.049752233918601,
          5.919946488613884,
          5.245687539378802,
          4.335435817639033,
          3.6915020843346915,
          2.985049826403459,
          2.5545345470309258,
          2.0908068865537643,
          1.6022735796868801,
          1.7084129448630847,
          1.2552493133892615,
          0.827048092149198,
          1.1118327726920445,
          0.4291799625692268,
          0.6078838796044389,
          0.4304655579229196,
          0.8543029899398485,
          0.24580708551608646,
          0.502060495937864,
          0.13801250296334425,
          0.19183987617482975,
          0.09433277106533448,
          0.3773499634116888,
          0.6296621632451812,
          0.38293091813102365,
          0.3780686332223316,
          0.09423116408288479,
          0.8787359326379374,
          0.08700865592497091,
          0.5642552591161802,
          0.5308233074223002,
          0.8594085432899495,
          0.0888717466344436,
          0.5132779016469916,
          0.15410660517712435,
          0.5951094081392512,
          0.14116181867818037,
          0.8839555042795837,
          0.20938615378690884,
          0.3000364763550654,
          0.18540077241777908,
          1.446233463473618,
          0.5438807939644903,
          0.23875411477638409,
          0.3425624526547229,
          0.7926450877760848,
          0.21647205381304957,
          0.26046357977126416,
          0.26277573000697885,
          0.7967101604056855
         ]
        }
       ],
       "layout": {
        "height": 400,
        "legend": {
         "x": 0.434,
         "xanchor": "left",
         "y": 0.99,
         "yanchor": "top"
        },
        "margin": {
         "t": 60
        },
        "template": {
         "data": {
          "bar": [
           {
            "error_x": {
             "color": "#2a3f5f"
            },
            "error_y": {
             "color": "#2a3f5f"
            },
            "marker": {
             "line": {
              "color": "#E5ECF6",
              "width": 0.5
             },
             "pattern": {
              "fillmode": "overlay",
              "size": 10,
              "solidity": 0.2
             }
            },
            "type": "bar"
           }
          ],
          "barpolar": [
           {
            "marker": {
             "line": {
              "color": "#E5ECF6",
              "width": 0.5
             },
             "pattern": {
              "fillmode": "overlay",
              "size": 10,
              "solidity": 0.2
             }
            },
            "type": "barpolar"
           }
          ],
          "carpet": [
           {
            "aaxis": {
             "endlinecolor": "#2a3f5f",
             "gridcolor": "white",
             "linecolor": "white",
             "minorgridcolor": "white",
             "startlinecolor": "#2a3f5f"
            },
            "baxis": {
             "endlinecolor": "#2a3f5f",
             "gridcolor": "white",
             "linecolor": "white",
             "minorgridcolor": "white",
             "startlinecolor": "#2a3f5f"
            },
            "type": "carpet"
           }
          ],
          "choropleth": [
           {
            "colorbar": {
             "outlinewidth": 0,
             "ticks": ""
            },
            "type": "choropleth"
           }
          ],
          "contour": [
           {
            "colorbar": {
             "outlinewidth": 0,
             "ticks": ""
            },
            "colorscale": [
             [
              0,
              "#0d0887"
             ],
             [
              0.1111111111111111,
              "#46039f"
             ],
             [
              0.2222222222222222,
              "#7201a8"
             ],
             [
              0.3333333333333333,
              "#9c179e"
             ],
             [
              0.4444444444444444,
              "#bd3786"
             ],
             [
              0.5555555555555556,
              "#d8576b"
             ],
             [
              0.6666666666666666,
              "#ed7953"
             ],
             [
              0.7777777777777778,
              "#fb9f3a"
             ],
             [
              0.8888888888888888,
              "#fdca26"
             ],
             [
              1,
              "#f0f921"
             ]
            ],
            "type": "contour"
           }
          ],
          "contourcarpet": [
           {
            "colorbar": {
             "outlinewidth": 0,
             "ticks": ""
            },
            "type": "contourcarpet"
           }
          ],
          "heatmap": [
           {
            "colorbar": {
             "outlinewidth": 0,
             "ticks": ""
            },
            "colorscale": [
             [
              0,
              "#0d0887"
             ],
             [
              0.1111111111111111,
              "#46039f"
             ],
             [
              0.2222222222222222,
              "#7201a8"
             ],
             [
              0.3333333333333333,
              "#9c179e"
             ],
             [
              0.4444444444444444,
              "#bd3786"
             ],
             [
              0.5555555555555556,
              "#d8576b"
             ],
             [
              0.6666666666666666,
              "#ed7953"
             ],
             [
              0.7777777777777778,
              "#fb9f3a"
             ],
             [
              0.8888888888888888,
              "#fdca26"
             ],
             [
              1,
              "#f0f921"
             ]
            ],
            "type": "heatmap"
           }
          ],
          "heatmapgl": [
           {
            "colorbar": {
             "outlinewidth": 0,
             "ticks": ""
            },
            "colorscale": [
             [
              0,
              "#0d0887"
             ],
             [
              0.1111111111111111,
              "#46039f"
             ],
             [
              0.2222222222222222,
              "#7201a8"
             ],
             [
              0.3333333333333333,
              "#9c179e"
             ],
             [
              0.4444444444444444,
              "#bd3786"
             ],
             [
              0.5555555555555556,
              "#d8576b"
             ],
             [
              0.6666666666666666,
              "#ed7953"
             ],
             [
              0.7777777777777778,
              "#fb9f3a"
             ],
             [
              0.8888888888888888,
              "#fdca26"
             ],
             [
              1,
              "#f0f921"
             ]
            ],
            "type": "heatmapgl"
           }
          ],
          "histogram": [
           {
            "marker": {
             "pattern": {
              "fillmode": "overlay",
              "size": 10,
              "solidity": 0.2
             }
            },
            "type": "histogram"
           }
          ],
          "histogram2d": [
           {
            "colorbar": {
             "outlinewidth": 0,
             "ticks": ""
            },
            "colorscale": [
             [
              0,
              "#0d0887"
             ],
             [
              0.1111111111111111,
              "#46039f"
             ],
             [
              0.2222222222222222,
              "#7201a8"
             ],
             [
              0.3333333333333333,
              "#9c179e"
             ],
             [
              0.4444444444444444,
              "#bd3786"
             ],
             [
              0.5555555555555556,
              "#d8576b"
             ],
             [
              0.6666666666666666,
              "#ed7953"
             ],
             [
              0.7777777777777778,
              "#fb9f3a"
             ],
             [
              0.8888888888888888,
              "#fdca26"
             ],
             [
              1,
              "#f0f921"
             ]
            ],
            "type": "histogram2d"
           }
          ],
          "histogram2dcontour": [
           {
            "colorbar": {
             "outlinewidth": 0,
             "ticks": ""
            },
            "colorscale": [
             [
              0,
              "#0d0887"
             ],
             [
              0.1111111111111111,
              "#46039f"
             ],
             [
              0.2222222222222222,
              "#7201a8"
             ],
             [
              0.3333333333333333,
              "#9c179e"
             ],
             [
              0.4444444444444444,
              "#bd3786"
             ],
             [
              0.5555555555555556,
              "#d8576b"
             ],
             [
              0.6666666666666666,
              "#ed7953"
             ],
             [
              0.7777777777777778,
              "#fb9f3a"
             ],
             [
              0.8888888888888888,
              "#fdca26"
             ],
             [
              1,
              "#f0f921"
             ]
            ],
            "type": "histogram2dcontour"
           }
          ],
          "mesh3d": [
           {
            "colorbar": {
             "outlinewidth": 0,
             "ticks": ""
            },
            "type": "mesh3d"
           }
          ],
          "parcoords": [
           {
            "line": {
             "colorbar": {
              "outlinewidth": 0,
              "ticks": ""
             }
            },
            "type": "parcoords"
           }
          ],
          "pie": [
           {
            "automargin": true,
            "type": "pie"
           }
          ],
          "scatter": [
           {
            "fillpattern": {
             "fillmode": "overlay",
             "size": 10,
             "solidity": 0.2
            },
            "type": "scatter"
           }
          ],
          "scatter3d": [
           {
            "line": {
             "colorbar": {
              "outlinewidth": 0,
              "ticks": ""
             }
            },
            "marker": {
             "colorbar": {
              "outlinewidth": 0,
              "ticks": ""
             }
            },
            "type": "scatter3d"
           }
          ],
          "scattercarpet": [
           {
            "marker": {
             "colorbar": {
              "outlinewidth": 0,
              "ticks": ""
             }
            },
            "type": "scattercarpet"
           }
          ],
          "scattergeo": [
           {
            "marker": {
             "colorbar": {
              "outlinewidth": 0,
              "ticks": ""
             }
            },
            "type": "scattergeo"
           }
          ],
          "scattergl": [
           {
            "marker": {
             "colorbar": {
              "outlinewidth": 0,
              "ticks": ""
             }
            },
            "type": "scattergl"
           }
          ],
          "scattermapbox": [
           {
            "marker": {
             "colorbar": {
              "outlinewidth": 0,
              "ticks": ""
             }
            },
            "type": "scattermapbox"
           }
          ],
          "scatterpolar": [
           {
            "marker": {
             "colorbar": {
              "outlinewidth": 0,
              "ticks": ""
             }
            },
            "type": "scatterpolar"
           }
          ],
          "scatterpolargl": [
           {
            "marker": {
             "colorbar": {
              "outlinewidth": 0,
              "ticks": ""
             }
            },
            "type": "scatterpolargl"
           }
          ],
          "scatterternary": [
           {
            "marker": {
             "colorbar": {
              "outlinewidth": 0,
              "ticks": ""
             }
            },
            "type": "scatterternary"
           }
          ],
          "surface": [
           {
            "colorbar": {
             "outlinewidth": 0,
             "ticks": ""
            },
            "colorscale": [
             [
              0,
              "#0d0887"
             ],
             [
              0.1111111111111111,
              "#46039f"
             ],
             [
              0.2222222222222222,
              "#7201a8"
             ],
             [
              0.3333333333333333,
              "#9c179e"
             ],
             [
              0.4444444444444444,
              "#bd3786"
             ],
             [
              0.5555555555555556,
              "#d8576b"
             ],
             [
              0.6666666666666666,
              "#ed7953"
             ],
             [
              0.7777777777777778,
              "#fb9f3a"
             ],
             [
              0.8888888888888888,
              "#fdca26"
             ],
             [
              1,
              "#f0f921"
             ]
            ],
            "type": "surface"
           }
          ],
          "table": [
           {
            "cells": {
             "fill": {
              "color": "#EBF0F8"
             },
             "line": {
              "color": "white"
             }
            },
            "header": {
             "fill": {
              "color": "#C8D4E3"
             },
             "line": {
              "color": "white"
             }
            },
            "type": "table"
           }
          ]
         },
         "layout": {
          "annotationdefaults": {
           "arrowcolor": "#2a3f5f",
           "arrowhead": 0,
           "arrowwidth": 1
          },
          "autotypenumbers": "strict",
          "coloraxis": {
           "colorbar": {
            "outlinewidth": 0,
            "ticks": ""
           }
          },
          "colorscale": {
           "diverging": [
            [
             0,
             "#8e0152"
            ],
            [
             0.1,
             "#c51b7d"
            ],
            [
             0.2,
             "#de77ae"
            ],
            [
             0.3,
             "#f1b6da"
            ],
            [
             0.4,
             "#fde0ef"
            ],
            [
             0.5,
             "#f7f7f7"
            ],
            [
             0.6,
             "#e6f5d0"
            ],
            [
             0.7,
             "#b8e186"
            ],
            [
             0.8,
             "#7fbc41"
            ],
            [
             0.9,
             "#4d9221"
            ],
            [
             1,
             "#276419"
            ]
           ],
           "sequential": [
            [
             0,
             "#0d0887"
            ],
            [
             0.1111111111111111,
             "#46039f"
            ],
            [
             0.2222222222222222,
             "#7201a8"
            ],
            [
             0.3333333333333333,
             "#9c179e"
            ],
            [
             0.4444444444444444,
             "#bd3786"
            ],
            [
             0.5555555555555556,
             "#d8576b"
            ],
            [
             0.6666666666666666,
             "#ed7953"
            ],
            [
             0.7777777777777778,
             "#fb9f3a"
            ],
            [
             0.8888888888888888,
             "#fdca26"
            ],
            [
             1,
             "#f0f921"
            ]
           ],
           "sequentialminus": [
            [
             0,
             "#0d0887"
            ],
            [
             0.1111111111111111,
             "#46039f"
            ],
            [
             0.2222222222222222,
             "#7201a8"
            ],
            [
             0.3333333333333333,
             "#9c179e"
            ],
            [
             0.4444444444444444,
             "#bd3786"
            ],
            [
             0.5555555555555556,
             "#d8576b"
            ],
            [
             0.6666666666666666,
             "#ed7953"
            ],
            [
             0.7777777777777778,
             "#fb9f3a"
            ],
            [
             0.8888888888888888,
             "#fdca26"
            ],
            [
             1,
             "#f0f921"
            ]
           ]
          },
          "colorway": [
           "#636efa",
           "#EF553B",
           "#00cc96",
           "#ab63fa",
           "#FFA15A",
           "#19d3f3",
           "#FF6692",
           "#B6E880",
           "#FF97FF",
           "#FECB52"
          ],
          "font": {
           "color": "#2a3f5f"
          },
          "geo": {
           "bgcolor": "white",
           "lakecolor": "white",
           "landcolor": "#E5ECF6",
           "showlakes": true,
           "showland": true,
           "subunitcolor": "white"
          },
          "hoverlabel": {
           "align": "left"
          },
          "hovermode": "closest",
          "mapbox": {
           "style": "light"
          },
          "paper_bgcolor": "white",
          "plot_bgcolor": "#E5ECF6",
          "polar": {
           "angularaxis": {
            "gridcolor": "white",
            "linecolor": "white",
            "ticks": ""
           },
           "bgcolor": "#E5ECF6",
           "radialaxis": {
            "gridcolor": "white",
            "linecolor": "white",
            "ticks": ""
           }
          },
          "scene": {
           "xaxis": {
            "backgroundcolor": "#E5ECF6",
            "gridcolor": "white",
            "gridwidth": 2,
            "linecolor": "white",
            "showbackground": true,
            "ticks": "",
            "zerolinecolor": "white"
           },
           "yaxis": {
            "backgroundcolor": "#E5ECF6",
            "gridcolor": "white",
            "gridwidth": 2,
            "linecolor": "white",
            "showbackground": true,
            "ticks": "",
            "zerolinecolor": "white"
           },
           "zaxis": {
            "backgroundcolor": "#E5ECF6",
            "gridcolor": "white",
            "gridwidth": 2,
            "linecolor": "white",
            "showbackground": true,
            "ticks": "",
            "zerolinecolor": "white"
           }
          },
          "shapedefaults": {
           "line": {
            "color": "#2a3f5f"
           }
          },
          "ternary": {
           "aaxis": {
            "gridcolor": "white",
            "linecolor": "white",
            "ticks": ""
           },
           "baxis": {
            "gridcolor": "white",
            "linecolor": "white",
            "ticks": ""
           },
           "bgcolor": "#E5ECF6",
           "caxis": {
            "gridcolor": "white",
            "linecolor": "white",
            "ticks": ""
           }
          },
          "title": {
           "x": 0.05
          },
          "xaxis": {
           "automargin": true,
           "gridcolor": "white",
           "linecolor": "white",
           "ticks": "",
           "title": {
            "standoff": 15
           },
           "zerolinecolor": "white",
           "zerolinewidth": 2
          },
          "yaxis": {
           "automargin": true,
           "gridcolor": "white",
           "linecolor": "white",
           "ticks": "",
           "title": {
            "standoff": 15
           },
           "zerolinecolor": "white",
           "zerolinewidth": 2
          }
         }
        },
        "title": {
         "y": 0.93
        },
        "width": 400,
        "xaxis": {
         "title": {
          "text": "Epochs"
         }
        },
        "yaxis": {
         "title": {
          "text": "Loss"
         }
        }
       }
      }
     },
     "metadata": {},
     "output_type": "display_data"
    }
   ],
   "source": [
    "torch.manual_seed(1)\n",
    "\n",
    "model = network(1, 6, 1)\n",
    "criterion = torch.nn.MSELoss()\n",
    "optimizer = torch.optim.Adam(model.parameters(), lr=0.05)\n",
    "train_loss, valid_loss = trainer(model, criterion, optimizer, trainloader, validloader, epochs=201, patience=3)\n",
    "\n",
    "plot_loss(train_loss, valid_loss)"
   ]
  },
  {
   "cell_type": "markdown",
   "metadata": {
    "tags": []
   },
   "source": [
    "- There are more advanced implementations of early stopping out there, but the idea is the same"
   ]
  },
  {
   "attachments": {},
   "cell_type": "markdown",
   "metadata": {},
   "source": [
    "<br><br><br>"
   ]
  },
  {
   "cell_type": "markdown",
   "metadata": {
    "tags": []
   },
   "source": [
    "## Regularization\n"
   ]
  },
  {
   "attachments": {},
   "cell_type": "markdown",
   "metadata": {},
   "source": [
    "- Recall that regularization is a technique to help avoid overfitting\n",
    "\n",
    "- There are many regularization techniques available in neural networks\n",
    "\n",
    "- I'll discuss the two main ones here:\n",
    "\n",
    "    1. Drop out\n",
    "    \n",
    "    2. L2 regularization"
   ]
  },
  {
   "attachments": {},
   "cell_type": "markdown",
   "metadata": {},
   "source": [
    "<br><br><br>"
   ]
  },
  {
   "cell_type": "markdown",
   "metadata": {
    "tags": []
   },
   "source": [
    "### Drop Out"
   ]
  },
  {
   "attachments": {},
   "cell_type": "markdown",
   "metadata": {},
   "source": [
    "- Drop out is a common regularization technique and is very simple\n",
    "\n",
    "- Basically, each iteration, we randomly choose some neurons in a layer and don't update their weights (to do this we set the output of the nodes to 0)\n",
    "- A simple example:"
   ]
  },
  {
   "cell_type": "code",
   "execution_count": 26,
   "metadata": {},
   "outputs": [
    {
     "data": {
      "text/plain": [
       "tensor([[-0.6463,  2.0122, -0.9234],\n",
       "        [ 0.6294,  0.4905,  1.2263],\n",
       "        [-2.0088, -0.9414,  0.4696],\n",
       "        [-1.2196,  0.5989,  1.7997],\n",
       "        [ 1.0764,  1.0841, -0.1575]])"
      ]
     },
     "execution_count": 26,
     "metadata": {},
     "output_type": "execute_result"
    }
   ],
   "source": [
    "dropout_layer = torch.nn.Dropout(p=0.5)  # 50% probability that a node will be set to 0 (\"dropped out\")\n",
    "inputs = torch.randn(5, 3)\n",
    "inputs"
   ]
  },
  {
   "cell_type": "code",
   "execution_count": 27,
   "metadata": {},
   "outputs": [
    {
     "data": {
      "text/plain": [
       "tensor([[-1.2926,  4.0245, -1.8468],\n",
       "        [ 0.0000,  0.9810,  0.0000],\n",
       "        [-0.0000, -0.0000,  0.0000],\n",
       "        [-0.0000,  0.0000,  3.5995],\n",
       "        [ 2.1527,  0.0000, -0.3150]])"
      ]
     },
     "execution_count": 27,
     "metadata": {},
     "output_type": "execute_result"
    }
   ],
   "source": [
    "dropout_layer(inputs)"
   ]
  },
  {
   "cell_type": "markdown",
   "metadata": {},
   "source": [
    "- In the above, note how about 50% of nodes have been given a value of 0"
   ]
  },
  {
   "attachments": {},
   "cell_type": "markdown",
   "metadata": {},
   "source": [
    "<br><br><br>"
   ]
  },
  {
   "cell_type": "markdown",
   "metadata": {
    "tags": []
   },
   "source": [
    "### L2 Regularization"
   ]
  },
  {
   "attachments": {},
   "cell_type": "markdown",
   "metadata": {},
   "source": [
    "- Recall that in L2 we had this penalty to the loss: $\\frac{\\lambda}{2}||w||^2$\n",
    "\n",
    "- $\\lambda$ is the regularization parameter\n",
    "\n",
    "- L2 regularization is called \"weight-decay\" in PyTorch, the value of which specifies $\\lambda$\n",
    "\n",
    "- It's an argument in most optimizers which you can specify:"
   ]
  },
  {
   "cell_type": "code",
   "execution_count": 28,
   "metadata": {},
   "outputs": [
    {
     "data": {
      "text/plain": [
       "Adam (\n",
       "Parameter Group 0\n",
       "    amsgrad: False\n",
       "    betas: (0.9, 0.999)\n",
       "    capturable: False\n",
       "    differentiable: False\n",
       "    eps: 1e-08\n",
       "    foreach: None\n",
       "    fused: False\n",
       "    lr: 0.1\n",
       "    maximize: False\n",
       "    weight_decay: 0.5\n",
       ")"
      ]
     },
     "execution_count": 28,
     "metadata": {},
     "output_type": "execute_result"
    }
   ],
   "source": [
    "torch.optim.Adam(model.parameters(), lr=0.1, weight_decay=0.5)"
   ]
  },
  {
   "attachments": {},
   "cell_type": "markdown",
   "metadata": {},
   "source": [
    "<br><br><br>"
   ]
  },
  {
   "cell_type": "markdown",
   "metadata": {
    "tags": []
   },
   "source": [
    "## Lecture Exercise: Putting it all Together with Bitmojis\n"
   ]
  },
  {
   "attachments": {},
   "cell_type": "markdown",
   "metadata": {},
   "source": [
    "- Let's put everything we learned in this lecture together to predict some bitmojis\n",
    "\n",
    "- I have a folder of images with the following structure:\n",
    "\n",
    "```\n",
    "data\n",
    "└── bitmoji\n",
    "    ├── train\n",
    "    │   ├── arman\n",
    "    │   └── not_arman\n",
    "    └── valid\n",
    "        ├── arman\n",
    "        └── not_arman\n",
    "```"
   ]
  },
  {
   "cell_type": "code",
   "execution_count": 29,
   "metadata": {},
   "outputs": [],
   "source": [
    "TRAIN_DIR = \"data/bitmoji_rgb/train/\"\n",
    "VALID_DIR = \"data/bitmoji_rgb/valid/\"\n",
    "\n",
    "IMAGE_SIZE = (128, 128)\n",
    "BATCH_SIZE = 64\n",
    "\n",
    "data_transforms = transforms.Compose([\n",
    "    transforms.Resize(IMAGE_SIZE),\n",
    "    transforms.Grayscale(num_output_channels=1),\n",
    "    transforms.ToTensor()\n",
    "])\n",
    "\n",
    "# Training data\n",
    "train_dataset = datasets.ImageFolder(root=TRAIN_DIR, transform=data_transforms)\n",
    "train_loader = torch.utils.data.DataLoader(train_dataset, batch_size=BATCH_SIZE, shuffle=True)\n",
    "\n",
    "# Validation data\n",
    "valid_dataset = datasets.ImageFolder(root=VALID_DIR, transform=data_transforms)\n",
    "valid_loader = torch.utils.data.DataLoader(valid_dataset, batch_size=BATCH_SIZE, shuffle=True)"
   ]
  },
  {
   "cell_type": "code",
   "execution_count": 30,
   "metadata": {},
   "outputs": [
    {
     "data": {
      "image/png": "[encoded data removed]",
      "text/plain": [
       "<Figure size 1000x800 with 1 Axes>"
      ]
     },
     "metadata": {},
     "output_type": "display_data"
    }
   ],
   "source": [
    "sample_batch = next(iter(train_loader))\n",
    "plot_bitmojis(sample_batch)"
   ]
  },
  {
   "attachments": {},
   "cell_type": "markdown",
   "metadata": {},
   "source": [
    "<br><br><br>"
   ]
  },
  {
   "attachments": {},
   "cell_type": "markdown",
   "metadata": {
    "tags": []
   },
   "source": [
    "- Now the network\n",
    "\n",
    "- I'm going to make a function `linear_block()` to help create my network and keep things DRY:"
   ]
  },
  {
   "cell_type": "code",
   "execution_count": 31,
   "metadata": {
    "tags": []
   },
   "outputs": [],
   "source": [
    "def linear_block(input_size, output_size):\n",
    "    return nn.Sequential(\n",
    "        nn.Linear(input_size, output_size),\n",
    "        nn.LeakyReLU(),\n",
    "        nn.Dropout(0.1)\n",
    "    )\n",
    "\n",
    "class BitmojiClassifier(nn.Module):\n",
    "    def __init__(self, input_size):\n",
    "        super().__init__()\n",
    "        self.main = nn.Sequential(\n",
    "            linear_block(input_size, 128),\n",
    "            linear_block(128, 64),\n",
    "            linear_block(64, 32),\n",
    "            linear_block(32, 16),\n",
    "            nn.Linear(16, 1)\n",
    "        )\n",
    "        \n",
    "    def forward(self, x):\n",
    "        out = self.main(x)\n",
    "        return out"
   ]
  },
  {
   "attachments": {},
   "cell_type": "markdown",
   "metadata": {
    "tags": []
   },
   "source": [
    "- Now the training function\n",
    "\n",
    "- This is getting long but it's just all the bits we've seen before!"
   ]
  },
  {
   "cell_type": "code",
   "execution_count": 32,
   "metadata": {
    "tags": []
   },
   "outputs": [],
   "source": [
    "def trainer(model, criterion, optimizer, trainloader, validloader, epochs=5, patience=5, verbose=True):\n",
    "    \"\"\"Simple training wrapper for PyTorch network.\"\"\"\n",
    "    \n",
    "    train_loss = []\n",
    "    valid_loss = []\n",
    "    train_accuracy = []\n",
    "    valid_accuracy = []\n",
    "    \n",
    "    for epoch in range(epochs):  # for each epoch\n",
    "        \n",
    "        train_batch_loss = 0\n",
    "        train_batch_acc = 0\n",
    "        valid_batch_loss = 0\n",
    "        valid_batch_acc = 0\n",
    "        \n",
    "        # Training\n",
    "        for X, y in trainloader:\n",
    "\n",
    "            optimizer.zero_grad()                            # Zero all the gradients w.r.t. parameters\n",
    "\n",
    "            y_hat = model(X.view(X.shape[0], -1)).flatten()  # Forward pass to get output\n",
    "            y_hat_labels = torch.sigmoid(y_hat) > 0.5        # convert probabilities to False (0) and True (1)\n",
    "            loss = criterion(y_hat, y.type(torch.float32))   # Calculate loss based on output\n",
    "            loss.backward()                                  # Calculate gradients w.r.t. parameters\n",
    "            optimizer.step()                                 # Update parameters\n",
    "\n",
    "            train_batch_loss += loss.item()                  # Add loss for this batch to running total\n",
    "            train_batch_acc += (y_hat_labels == y).type(torch.float32).mean().item()   # Average accuracy for this batch\n",
    "            \n",
    "        train_loss.append(train_batch_loss / len(trainloader))     # loss = total loss in epoch / number of batches = loss per batch\n",
    "        train_accuracy.append(train_batch_acc / len(trainloader))  # accuracy\n",
    "        \n",
    "        # Validation\n",
    "        model.eval()  # this turns off those random dropout layers, we don't want them for validation!\n",
    "        \n",
    "        with torch.no_grad():  # this stops pytorch doing computational graph stuff under-the-hood and saves memory and time\n",
    "\n",
    "            for X, y in validloader:\n",
    "\n",
    "                y_hat = model(X.view(X.shape[0], -1)).flatten()  # Forward pass to get output\n",
    "                y_hat_labels = torch.sigmoid(y_hat) > 0.5        # convert probabilities to False (0) and True (1)\n",
    "                loss = criterion(y_hat, y.type(torch.float32))   # Calculate loss based on output\n",
    "\n",
    "                valid_batch_loss += loss.item()                  # Add loss for this batch to running total\n",
    "                valid_batch_acc += (y_hat_labels == y).type(torch.float32).mean().item()   # Average accuracy for this batch\n",
    "                \n",
    "        valid_loss.append(valid_batch_loss / len(validloader))\n",
    "        valid_accuracy.append(valid_batch_acc / len(validloader))  # accuracy\n",
    "        \n",
    "        model.train()  # turn back on the dropout layers for the next training loop\n",
    "        \n",
    "        # Print progress\n",
    "        if verbose:\n",
    "            print(f\"Epoch {epoch + 1:3}:\",\n",
    "                  f\"Train Loss: {train_loss[-1]:.3f}.\",\n",
    "                  f\"Valid Loss: {valid_loss[-1]:.3f}.\",\n",
    "                  f\"Train Accuracy: {train_accuracy[-1]:.2f}.\",\n",
    "                  f\"Valid Accuracy: {valid_accuracy[-1]:.2f}.\")\n",
    "        \n",
    "        # Early stopping\n",
    "        if epoch > 0 and valid_loss[-1] > valid_loss[-2]:\n",
    "            consec_increases += 1\n",
    "        else:\n",
    "            consec_increases = 0\n",
    "        if consec_increases == patience:\n",
    "            print(f\"Stopped early at epoch {epoch + 1:3}: val loss increased for {consec_increases} consecutive epochs!\")\n",
    "            break\n",
    "    \n",
    "    results = {\"train_loss\": train_loss,\n",
    "               \"valid_loss\": valid_loss,\n",
    "               \"train_accuracy\": train_accuracy,\n",
    "               \"valid_accuracy\": valid_accuracy}\n",
    "    return results"
   ]
  },
  {
   "cell_type": "code",
   "execution_count": 33,
   "metadata": {
    "tags": []
   },
   "outputs": [
    {
     "name": "stdout",
     "output_type": "stream",
     "text": [
      "Epoch   1: Train Loss: 0.692. Valid Loss: 0.692. Train Accuracy: 0.52. Valid Accuracy: 0.50.\n",
      "Epoch   2: Train Loss: 0.695. Valid Loss: 0.691. Train Accuracy: 0.48. Valid Accuracy: 0.51.\n",
      "Epoch   3: Train Loss: 0.692. Valid Loss: 0.692. Train Accuracy: 0.51. Valid Accuracy: 0.50.\n",
      "Epoch   4: Train Loss: 0.689. Valid Loss: 0.688. Train Accuracy: 0.54. Valid Accuracy: 0.59.\n",
      "Epoch   5: Train Loss: 0.686. Valid Loss: 0.684. Train Accuracy: 0.55. Valid Accuracy: 0.60.\n",
      "Epoch   6: Train Loss: 0.677. Valid Loss: 0.674. Train Accuracy: 0.58. Valid Accuracy: 0.60.\n",
      "Epoch   7: Train Loss: 0.665. Valid Loss: 0.670. Train Accuracy: 0.61. Valid Accuracy: 0.58.\n",
      "Epoch   8: Train Loss: 0.656. Valid Loss: 0.670. Train Accuracy: 0.63. Valid Accuracy: 0.59.\n",
      "Epoch   9: Train Loss: 0.649. Valid Loss: 0.659. Train Accuracy: 0.63. Valid Accuracy: 0.61.\n",
      "Epoch  10: Train Loss: 0.647. Valid Loss: 0.674. Train Accuracy: 0.64. Valid Accuracy: 0.59.\n",
      "Epoch  11: Train Loss: 0.644. Valid Loss: 0.677. Train Accuracy: 0.63. Valid Accuracy: 0.59.\n",
      "Epoch  12: Train Loss: 0.639. Valid Loss: 0.662. Train Accuracy: 0.64. Valid Accuracy: 0.61.\n",
      "Epoch  13: Train Loss: 0.627. Valid Loss: 0.654. Train Accuracy: 0.67. Valid Accuracy: 0.63.\n",
      "Epoch  14: Train Loss: 0.623. Valid Loss: 0.660. Train Accuracy: 0.66. Valid Accuracy: 0.62.\n",
      "Epoch  15: Train Loss: 0.618. Valid Loss: 0.654. Train Accuracy: 0.67. Valid Accuracy: 0.63.\n",
      "Epoch  16: Train Loss: 0.613. Valid Loss: 0.654. Train Accuracy: 0.68. Valid Accuracy: 0.62.\n",
      "Epoch  17: Train Loss: 0.609. Valid Loss: 0.656. Train Accuracy: 0.68. Valid Accuracy: 0.62.\n",
      "Epoch  18: Train Loss: 0.597. Valid Loss: 0.683. Train Accuracy: 0.69. Valid Accuracy: 0.59.\n",
      "Epoch  19: Train Loss: 0.626. Valid Loss: 0.673. Train Accuracy: 0.65. Valid Accuracy: 0.60.\n",
      "Epoch  20: Train Loss: 0.597. Valid Loss: 0.672. Train Accuracy: 0.69. Valid Accuracy: 0.61.\n"
     ]
    }
   ],
   "source": [
    "torch.manual_seed(1)\n",
    "\n",
    "model = BitmojiClassifier(IMAGE_SIZE[0] * IMAGE_SIZE[1])\n",
    "\n",
    "criterion = nn.BCEWithLogitsLoss()\n",
    "optimizer = torch.optim.Adam(model.parameters(), lr=1e-4)\n",
    "\n",
    "results = trainer(model, criterion, optimizer, train_loader, valid_loader, epochs=20, patience=3)"
   ]
  },
  {
   "cell_type": "code",
   "execution_count": 34,
   "metadata": {
    "tags": []
   },
   "outputs": [
    {
     "data": {
      "application/vnd.plotly.v1+json": {
       "config": {
        "plotlyServerURL": "https://plot.ly"
       },
       "data": [
        {
         "line": {
          "width": 2
         },
         "mode": "lines",
         "name": "Training loss",
         "type": "scatter",
         "x": [
          0,
          1,
          2,
          3,
          4,
          5,
          6,
          7,
          8,
          9,
          10,
          11,
          12,
          13,
          14,
          15,
          16,
          17,
          18,
          19
         ],
         "y": [
          0.6923693617184957,
          0.6953971187273661,
          0.6919065820865142,
          0.6891038631781553,
          0.6861155323493175,
          0.6772325038909912,
          0.6651264688907526,
          0.6564218936822354,
          0.6487379991091214,
          0.6465322375297546,
          0.6441267300874759,
          0.6387688731535887,
          0.6269002159436544,
          0.6232950060795515,
          0.6182984297092144,
          0.6134536571991749,
          0.6086834997702868,
          0.5966522678350791,
          0.6255409671710088,
          0.5973579104130085
         ]
        },
        {
         "line": {
          "width": 2
         },
         "mode": "lines",
         "name": "Validation loss",
         "type": "scatter",
         "x": [
          0,
          1,
          2,
          3,
          4,
          5,
          6,
          7,
          8,
          9,
          10,
          11,
          12,
          13,
          14,
          15,
          16,
          17,
          18,
          19
         ],
         "y": [
          0.6918038785457611,
          0.6911471247673034,
          0.6922541320323944,
          0.6878945887088775,
          0.6843858301639557,
          0.6736598789691925,
          0.6700281918048858,
          0.6703922748565674,
          0.6592524588108063,
          0.6744275987148285,
          0.6770260334014893,
          0.6622133076190948,
          0.6540397047996521,
          0.6596349000930786,
          0.6541389167308808,
          0.6537959396839141,
          0.6558557093143463,
          0.6828255176544189,
          0.6733976542949677,
          0.6715991914272308
         ]
        },
        {
         "line": {
          "width": 2
         },
         "mode": "lines",
         "name": "Training accuracy",
         "type": "scatter",
         "x": [
          0,
          1,
          2,
          3,
          4,
          5,
          6,
          7,
          8,
          9,
          10,
          11,
          12,
          13,
          14,
          15,
          16,
          17,
          18,
          19
         ],
         "xaxis": "x2",
         "y": [
          0.5157585464991056,
          0.484775641025641,
          0.5137553421350626,
          0.5383279911982708,
          0.5483440176034585,
          0.5840010688855097,
          0.6099091875247467,
          0.6262019230769231,
          0.6348824791419201,
          0.6407585464991056,
          0.6291399567555158,
          0.6403579054734646,
          0.6669337611932021,
          0.6599893157298748,
          0.6749465817060226,
          0.6750801282051282,
          0.6816239311144903,
          0.6920405977811569,
          0.6533119663214072,
          0.6904380336785928
         ],
         "yaxis": "y2"
        },
        {
         "line": {
          "width": 2
         },
         "mode": "lines",
         "name": "Validation accuracy",
         "type": "scatter",
         "x": [
          0,
          1,
          2,
          3,
          4,
          5,
          6,
          7,
          8,
          9,
          10,
          11,
          12,
          13,
          14,
          15,
          16,
          17,
          18,
          19
         ],
         "xaxis": "x2",
         "y": [
          0.5010416686534882,
          0.50625,
          0.4989583343267441,
          0.5890625,
          0.6026041686534882,
          0.6020833313465118,
          0.5817708313465119,
          0.5890625,
          0.6140625,
          0.5916666686534882,
          0.5911458343267441,
          0.6098958313465118,
          0.6270833313465118,
          0.61875,
          0.6291666686534881,
          0.6161458313465118,
          0.6151041686534882,
          0.5947916686534882,
          0.6041666686534881,
          0.6088541656732559
         ],
         "yaxis": "y2"
        }
       ],
       "layout": {
        "height": 400,
        "margin": {
         "t": 60
        },
        "template": {
         "data": {
          "bar": [
           {
            "error_x": {
             "color": "#2a3f5f"
            },
            "error_y": {
             "color": "#2a3f5f"
            },
            "marker": {
             "line": {
              "color": "#E5ECF6",
              "width": 0.5
             },
             "pattern": {
              "fillmode": "overlay",
              "size": 10,
              "solidity": 0.2
             }
            },
            "type": "bar"
           }
          ],
          "barpolar": [
           {
            "marker": {
             "line": {
              "color": "#E5ECF6",
              "width": 0.5
             },
             "pattern": {
              "fillmode": "overlay",
              "size": 10,
              "solidity": 0.2
             }
            },
            "type": "barpolar"
           }
          ],
          "carpet": [
           {
            "aaxis": {
             "endlinecolor": "#2a3f5f",
             "gridcolor": "white",
             "linecolor": "white",
             "minorgridcolor": "white",
             "startlinecolor": "#2a3f5f"
            },
            "baxis": {
             "endlinecolor": "#2a3f5f",
             "gridcolor": "white",
             "linecolor": "white",
             "minorgridcolor": "white",
             "startlinecolor": "#2a3f5f"
            },
            "type": "carpet"
           }
          ],
          "choropleth": [
           {
            "colorbar": {
             "outlinewidth": 0,
             "ticks": ""
            },
            "type": "choropleth"
           }
          ],
          "contour": [
           {
            "colorbar": {
             "outlinewidth": 0,
             "ticks": ""
            },
            "colorscale": [
             [
              0,
              "#0d0887"
             ],
             [
              0.1111111111111111,
              "#46039f"
             ],
             [
              0.2222222222222222,
              "#7201a8"
             ],
             [
              0.3333333333333333,
              "#9c179e"
             ],
             [
              0.4444444444444444,
              "#bd3786"
             ],
             [
              0.5555555555555556,
              "#d8576b"
             ],
             [
              0.6666666666666666,
              "#ed7953"
             ],
             [
              0.7777777777777778,
              "#fb9f3a"
             ],
             [
              0.8888888888888888,
              "#fdca26"
             ],
             [
              1,
              "#f0f921"
             ]
            ],
            "type": "contour"
           }
          ],
          "contourcarpet": [
           {
            "colorbar": {
             "outlinewidth": 0,
             "ticks": ""
            },
            "type": "contourcarpet"
           }
          ],
          "heatmap": [
           {
            "colorbar": {
             "outlinewidth": 0,
             "ticks": ""
            },
            "colorscale": [
             [
              0,
              "#0d0887"
             ],
             [
              0.1111111111111111,
              "#46039f"
             ],
             [
              0.2222222222222222,
              "#7201a8"
             ],
             [
              0.3333333333333333,
              "#9c179e"
             ],
             [
              0.4444444444444444,
              "#bd3786"
             ],
             [
              0.5555555555555556,
              "#d8576b"
             ],
             [
              0.6666666666666666,
              "#ed7953"
             ],
             [
              0.7777777777777778,
              "#fb9f3a"
             ],
             [
              0.8888888888888888,
              "#fdca26"
             ],
             [
              1,
              "#f0f921"
             ]
            ],
            "type": "heatmap"
           }
          ],
          "heatmapgl": [
           {
            "colorbar": {
             "outlinewidth": 0,
             "ticks": ""
            },
            "colorscale": [
             [
              0,
              "#0d0887"
             ],
             [
              0.1111111111111111,
              "#46039f"
             ],
             [
              0.2222222222222222,
              "#7201a8"
             ],
             [
              0.3333333333333333,
              "#9c179e"
             ],
             [
              0.4444444444444444,
              "#bd3786"
             ],
             [
              0.5555555555555556,
              "#d8576b"
             ],
             [
              0.6666666666666666,
              "#ed7953"
             ],
             [
              0.7777777777777778,
              "#fb9f3a"
             ],
             [
              0.8888888888888888,
              "#fdca26"
             ],
             [
              1,
              "#f0f921"
             ]
            ],
            "type": "heatmapgl"
           }
          ],
          "histogram": [
           {
            "marker": {
             "pattern": {
              "fillmode": "overlay",
              "size": 10,
              "solidity": 0.2
             }
            },
            "type": "histogram"
           }
          ],
          "histogram2d": [
           {
            "colorbar": {
             "outlinewidth": 0,
             "ticks": ""
            },
            "colorscale": [
             [
              0,
              "#0d0887"
             ],
             [
              0.1111111111111111,
              "#46039f"
             ],
             [
              0.2222222222222222,
              "#7201a8"
             ],
             [
              0.3333333333333333,
              "#9c179e"
             ],
             [
              0.4444444444444444,
              "#bd3786"
             ],
             [
              0.5555555555555556,
              "#d8576b"
             ],
             [
              0.6666666666666666,
              "#ed7953"
             ],
             [
              0.7777777777777778,
              "#fb9f3a"
             ],
             [
              0.8888888888888888,
              "#fdca26"
             ],
             [
              1,
              "#f0f921"
             ]
            ],
            "type": "histogram2d"
           }
          ],
          "histogram2dcontour": [
           {
            "colorbar": {
             "outlinewidth": 0,
             "ticks": ""
            },
            "colorscale": [
             [
              0,
              "#0d0887"
             ],
             [
              0.1111111111111111,
              "#46039f"
             ],
             [
              0.2222222222222222,
              "#7201a8"
             ],
             [
              0.3333333333333333,
              "#9c179e"
             ],
             [
              0.4444444444444444,
              "#bd3786"
             ],
             [
              0.5555555555555556,
              "#d8576b"
             ],
             [
              0.6666666666666666,
              "#ed7953"
             ],
             [
              0.7777777777777778,
              "#fb9f3a"
             ],
             [
              0.8888888888888888,
              "#fdca26"
             ],
             [
              1,
              "#f0f921"
             ]
            ],
            "type": "histogram2dcontour"
           }
          ],
          "mesh3d": [
           {
            "colorbar": {
             "outlinewidth": 0,
             "ticks": ""
            },
            "type": "mesh3d"
           }
          ],
          "parcoords": [
           {
            "line": {
             "colorbar": {
              "outlinewidth": 0,
              "ticks": ""
             }
            },
            "type": "parcoords"
           }
          ],
          "pie": [
           {
            "automargin": true,
            "type": "pie"
           }
          ],
          "scatter": [
           {
            "fillpattern": {
             "fillmode": "overlay",
             "size": 10,
             "solidity": 0.2
            },
            "type": "scatter"
           }
          ],
          "scatter3d": [
           {
            "line": {
             "colorbar": {
              "outlinewidth": 0,
              "ticks": ""
             }
            },
            "marker": {
             "colorbar": {
              "outlinewidth": 0,
              "ticks": ""
             }
            },
            "type": "scatter3d"
           }
          ],
          "scattercarpet": [
           {
            "marker": {
             "colorbar": {
              "outlinewidth": 0,
              "ticks": ""
             }
            },
            "type": "scattercarpet"
           }
          ],
          "scattergeo": [
           {
            "marker": {
             "colorbar": {
              "outlinewidth": 0,
              "ticks": ""
             }
            },
            "type": "scattergeo"
           }
          ],
          "scattergl": [
           {
            "marker": {
             "colorbar": {
              "outlinewidth": 0,
              "ticks": ""
             }
            },
            "type": "scattergl"
           }
          ],
          "scattermapbox": [
           {
            "marker": {
             "colorbar": {
              "outlinewidth": 0,
              "ticks": ""
             }
            },
            "type": "scattermapbox"
           }
          ],
          "scatterpolar": [
           {
            "marker": {
             "colorbar": {
              "outlinewidth": 0,
              "ticks": ""
             }
            },
            "type": "scatterpolar"
           }
          ],
          "scatterpolargl": [
           {
            "marker": {
             "colorbar": {
              "outlinewidth": 0,
              "ticks": ""
             }
            },
            "type": "scatterpolargl"
           }
          ],
          "scatterternary": [
           {
            "marker": {
             "colorbar": {
              "outlinewidth": 0,
              "ticks": ""
             }
            },
            "type": "scatterternary"
           }
          ],
          "surface": [
           {
            "colorbar": {
             "outlinewidth": 0,
             "ticks": ""
            },
            "colorscale": [
             [
              0,
              "#0d0887"
             ],
             [
              0.1111111111111111,
              "#46039f"
             ],
             [
              0.2222222222222222,
              "#7201a8"
             ],
             [
              0.3333333333333333,
              "#9c179e"
             ],
             [
              0.4444444444444444,
              "#bd3786"
             ],
             [
              0.5555555555555556,
              "#d8576b"
             ],
             [
              0.6666666666666666,
              "#ed7953"
             ],
             [
              0.7777777777777778,
              "#fb9f3a"
             ],
             [
              0.8888888888888888,
              "#fdca26"
             ],
             [
              1,
              "#f0f921"
             ]
            ],
            "type": "surface"
           }
          ],
          "table": [
           {
            "cells": {
             "fill": {
              "color": "#EBF0F8"
             },
             "line": {
              "color": "white"
             }
            },
            "header": {
             "fill": {
              "color": "#C8D4E3"
             },
             "line": {
              "color": "white"
             }
            },
            "type": "table"
           }
          ]
         },
         "layout": {
          "annotationdefaults": {
           "arrowcolor": "#2a3f5f",
           "arrowhead": 0,
           "arrowwidth": 1
          },
          "autotypenumbers": "strict",
          "coloraxis": {
           "colorbar": {
            "outlinewidth": 0,
            "ticks": ""
           }
          },
          "colorscale": {
           "diverging": [
            [
             0,
             "#8e0152"
            ],
            [
             0.1,
             "#c51b7d"
            ],
            [
             0.2,
             "#de77ae"
            ],
            [
             0.3,
             "#f1b6da"
            ],
            [
             0.4,
             "#fde0ef"
            ],
            [
             0.5,
             "#f7f7f7"
            ],
            [
             0.6,
             "#e6f5d0"
            ],
            [
             0.7,
             "#b8e186"
            ],
            [
             0.8,
             "#7fbc41"
            ],
            [
             0.9,
             "#4d9221"
            ],
            [
             1,
             "#276419"
            ]
           ],
           "sequential": [
            [
             0,
             "#0d0887"
            ],
            [
             0.1111111111111111,
             "#46039f"
            ],
            [
             0.2222222222222222,
             "#7201a8"
            ],
            [
             0.3333333333333333,
             "#9c179e"
            ],
            [
             0.4444444444444444,
             "#bd3786"
            ],
            [
             0.5555555555555556,
             "#d8576b"
            ],
            [
             0.6666666666666666,
             "#ed7953"
            ],
            [
             0.7777777777777778,
             "#fb9f3a"
            ],
            [
             0.8888888888888888,
             "#fdca26"
            ],
            [
             1,
             "#f0f921"
            ]
           ],
           "sequentialminus": [
            [
             0,
             "#0d0887"
            ],
            [
             0.1111111111111111,
             "#46039f"
            ],
            [
             0.2222222222222222,
             "#7201a8"
            ],
            [
             0.3333333333333333,
             "#9c179e"
            ],
            [
             0.4444444444444444,
             "#bd3786"
            ],
            [
             0.5555555555555556,
             "#d8576b"
            ],
            [
             0.6666666666666666,
             "#ed7953"
            ],
            [
             0.7777777777777778,
             "#fb9f3a"
            ],
            [
             0.8888888888888888,
             "#fdca26"
            ],
            [
             1,
             "#f0f921"
            ]
           ]
          },
          "colorway": [
           "#636efa",
           "#EF553B",
           "#00cc96",
           "#ab63fa",
           "#FFA15A",
           "#19d3f3",
           "#FF6692",
           "#B6E880",
           "#FF97FF",
           "#FECB52"
          ],
          "font": {
           "color": "#2a3f5f"
          },
          "geo": {
           "bgcolor": "white",
           "lakecolor": "white",
           "landcolor": "#E5ECF6",
           "showlakes": true,
           "showland": true,
           "subunitcolor": "white"
          },
          "hoverlabel": {
           "align": "left"
          },
          "hovermode": "closest",
          "mapbox": {
           "style": "light"
          },
          "paper_bgcolor": "white",
          "plot_bgcolor": "#E5ECF6",
          "polar": {
           "angularaxis": {
            "gridcolor": "white",
            "linecolor": "white",
            "ticks": ""
           },
           "bgcolor": "#E5ECF6",
           "radialaxis": {
            "gridcolor": "white",
            "linecolor": "white",
            "ticks": ""
           }
          },
          "scene": {
           "xaxis": {
            "backgroundcolor": "#E5ECF6",
            "gridcolor": "white",
            "gridwidth": 2,
            "linecolor": "white",
            "showbackground": true,
            "ticks": "",
            "zerolinecolor": "white"
           },
           "yaxis": {
            "backgroundcolor": "#E5ECF6",
            "gridcolor": "white",
            "gridwidth": 2,
            "linecolor": "white",
            "showbackground": true,
            "ticks": "",
            "zerolinecolor": "white"
           },
           "zaxis": {
            "backgroundcolor": "#E5ECF6",
            "gridcolor": "white",
            "gridwidth": 2,
            "linecolor": "white",
            "showbackground": true,
            "ticks": "",
            "zerolinecolor": "white"
           }
          },
          "shapedefaults": {
           "line": {
            "color": "#2a3f5f"
           }
          },
          "ternary": {
           "aaxis": {
            "gridcolor": "white",
            "linecolor": "white",
            "ticks": ""
           },
           "baxis": {
            "gridcolor": "white",
            "linecolor": "white",
            "ticks": ""
           },
           "bgcolor": "#E5ECF6",
           "caxis": {
            "gridcolor": "white",
            "linecolor": "white",
            "ticks": ""
           }
          },
          "title": {
           "x": 0.05
          },
          "xaxis": {
           "automargin": true,
           "gridcolor": "white",
           "linecolor": "white",
           "ticks": "",
           "title": {
            "standoff": 15
           },
           "zerolinecolor": "white",
           "zerolinewidth": 2
          },
          "yaxis": {
           "automargin": true,
           "gridcolor": "white",
           "linecolor": "white",
           "ticks": "",
           "title": {
            "standoff": 15
           },
           "zerolinecolor": "white",
           "zerolinewidth": 2
          }
         }
        },
        "title": {
         "y": 0.93
        },
        "width": 800,
        "xaxis": {
         "anchor": "y",
         "domain": [
          0,
          0.45
         ],
         "title": {
          "standoff": 0,
          "text": "Epochs"
         }
        },
        "xaxis2": {
         "anchor": "y2",
         "domain": [
          0.55,
          1
         ],
         "title": {
          "standoff": 0,
          "text": "Epochs"
         }
        },
        "yaxis": {
         "anchor": "x",
         "domain": [
          0,
          1
         ]
        },
        "yaxis2": {
         "anchor": "x2",
         "domain": [
          0,
          1
         ],
         "title": {
          "standoff": 0,
          "text": "Accuracy"
         }
        }
       }
      }
     },
     "metadata": {},
     "output_type": "display_data"
    }
   ],
   "source": [
    "plot_loss(results[\"train_loss\"], results[\"valid_loss\"], results[\"train_accuracy\"], results[\"valid_accuracy\"])"
   ]
  },
  {
   "attachments": {},
   "cell_type": "markdown",
   "metadata": {
    "tags": []
   },
   "source": [
    "- I couldn't get very good accuracy with this model and there's a reason for that: we're not considering the structure in our image\n",
    "\n",
    "- We're flattening our images down into independent pixels, but the relationship between pixels is probably important\n",
    "\n",
    "- We'll exploit that next lecture when we get to CNNs\n",
    "\n",
    "- For now, let's see if our NN model can correctly classify my bitmoji:"
   ]
  },
  {
   "cell_type": "code",
   "execution_count": 35,
   "metadata": {
    "tags": []
   },
   "outputs": [
    {
     "data": {
      "image/png": "[encoded data removed]",
      "text/plain": [
       "<Figure size 640x480 with 1 Axes>"
      ]
     },
     "metadata": {},
     "output_type": "display_data"
    }
   ],
   "source": [
    "plt.imshow(plt.imread(\"img/arman.png\"), cmap='gray');"
   ]
  },
  {
   "cell_type": "code",
   "execution_count": 36,
   "metadata": {
    "tags": []
   },
   "outputs": [
    {
     "data": {
      "image/png": "[encoded data removed]",
      "text/plain": [
       "<Figure size 400x400 with 1 Axes>"
      ]
     },
     "metadata": {},
     "output_type": "display_data"
    }
   ],
   "source": [
    "model.eval()\n",
    "\n",
    "image = torch.from_numpy(plt.imread(\"img/arman.png\"))\n",
    "image = transforms.Resize(IMAGE_SIZE)(image[None, None, :, :])\n",
    "prediction = model(image.view(1, -1))           # Flatten image to shape (1, 784) and predict it\n",
    "prediction = torch.sigmoid(prediction)          # Coerce predictions to probabilities\n",
    "label = int(prediction > 0.5)                   # Get class label: 1 if propbability > 0.5, else 0\n",
    "\n",
    "plt.figure(figsize=(4, 4))\n",
    "plt.title(f\"Prediction: {['Not Arman', 'Arman'][label]}\", pad=10, fontsize=20)\n",
    "plt.imshow(image[0, 0], cmap='gray');"
   ]
  },
  {
   "attachments": {},
   "cell_type": "markdown",
   "metadata": {},
   "source": [
    "<br><br><br>"
   ]
  },
  {
   "attachments": {},
   "cell_type": "markdown",
   "metadata": {},
   "source": [
    "## Universal Approximation Theorem"
   ]
  },
  {
   "attachments": {},
   "cell_type": "markdown",
   "metadata": {},
   "source": [
    "- The [universal approximation theorem](https://en.wikipedia.org/wiki/Universal_approximation_theorem) states that any continuous function can be approximated arbitrarily well by a neural network with at least 1 hidden layer with a finite number of weights.\n",
    "\n",
    "- In other words, neural networks are universal function approximators.\n",
    "\n",
    "- So, how come we weren't able to train a near-perfect image classifier in the previous section?"
   ]
  },
  {
   "attachments": {},
   "cell_type": "markdown",
   "metadata": {},
   "source": [
    "<br><br><br>"
   ]
  },
  {
   "cell_type": "markdown",
   "metadata": {},
   "source": [
    "## Lecture Highlights\n"
   ]
  },
  {
   "attachments": {},
   "cell_type": "markdown",
   "metadata": {
    "jupyter": {
     "source_hidden": true
    },
    "tags": []
   },
   "source": [
    "1. Neural network training in a nutshell: forward pass -> calculate loss -> backpropagate -> optimizer step -> repeat. In PyTorch we can customize this process with extras like calculating the loss or accuracy.\n",
    "\n",
    "2. PyTorch takes care of calculating gradients for us with **autograd**.\n",
    "\n",
    "3. Common ways to avoid overfitting: early stopping, drop out, L2 penalty."
   ]
  }
 ],
 "metadata": {
  "anaconda-cloud": {},
  "kernelspec": {
   "display_name": "dsci572",
   "language": "python",
   "name": "python3"
  },
  "language_info": {
   "codemirror_mode": {
    "name": "ipython",
    "version": 3
   },
   "file_extension": ".py",
   "mimetype": "text/x-python",
   "name": "python",
   "nbconvert_exporter": "python",
   "pygments_lexer": "ipython3",
   "version": "3.10.8 | packaged by conda-forge | (main, Nov 22 2022, 08:25:29) [Clang 14.0.6 ]"
  },
  "toc": {
   "base_numbering": 1,
   "nav_menu": {},
   "number_sections": false,
   "sideBar": true,
   "skip_h1_title": true,
   "title_cell": "Table of Contents",
   "title_sidebar": "Contents",
   "toc_cell": true,
   "toc_position": {},
   "toc_section_display": true,
   "toc_window_display": false
  },
  "vscode": {
   "interpreter": {
    "hash": "f821000d0c0da66e5bcde88c37d59c8e0de03b40667fb62009a8148ca49465a0"
   }
  }
 },
 "nbformat": 4,
 "nbformat_minor": 4
}
